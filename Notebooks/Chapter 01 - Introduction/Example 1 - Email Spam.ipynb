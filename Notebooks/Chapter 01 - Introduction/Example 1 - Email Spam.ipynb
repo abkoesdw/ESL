{
 "cells": [
  {
   "cell_type": "markdown",
   "metadata": {},
   "source": [
    "# Email Spam"
   ]
  },
  {
   "cell_type": "code",
   "execution_count": 1,
   "metadata": {},
   "outputs": [],
   "source": [
    "import pandas as pd\n",
    "from ml_datasets.esl import EmailSpam"
   ]
  },
  {
   "cell_type": "code",
   "execution_count": 2,
   "metadata": {},
   "outputs": [
    {
     "name": "stdout",
     "output_type": "stream",
     "text": [
      "x_train: (3065, 57), y_train: (3065,)\n",
      "x_test: (1536, 57), y_test: (1536,)\n"
     ]
    }
   ],
   "source": [
    "spam = EmailSpam(verbose=0)\n",
    "df, x_train, y_train, x_test, y_test = spam.load()\n",
    "\n",
    "print(\"x_train: {}, y_train: {}\".format(x_train.shape, y_train.shape))\n",
    "print(\"x_test: {}, y_test: {}\".format(x_test.shape, y_test.shape))"
   ]
  },
  {
   "cell_type": "code",
   "execution_count": 3,
   "metadata": {},
   "outputs": [
    {
     "data": {
      "text/html": [
       "<style  type=\"text/css\" >\n",
       "</style><table id=\"T_6e28d430_dc3f_11ea_86da_34f64b7e48cb\" ><thead>    <tr>        <th class=\"blank level0\" ></th>        <th class=\"col_heading level0 col0\" >george</th>        <th class=\"col_heading level0 col1\" >you</th>        <th class=\"col_heading level0 col2\" >your</th>        <th class=\"col_heading level0 col3\" >hp</th>        <th class=\"col_heading level0 col4\" >free</th>        <th class=\"col_heading level0 col5\" >hpl</th>        <th class=\"col_heading level0 col6\" >!</th>        <th class=\"col_heading level0 col7\" >our</th>        <th class=\"col_heading level0 col8\" >re</th>        <th class=\"col_heading level0 col9\" >edu</th>        <th class=\"col_heading level0 col10\" >remove</th>    </tr></thead><tbody>\n",
       "                <tr>\n",
       "                        <th id=\"T_6e28d430_dc3f_11ea_86da_34f64b7e48cblevel0_row0\" class=\"row_heading level0 row0\" >spam</th>\n",
       "                        <td id=\"T_6e28d430_dc3f_11ea_86da_34f64b7e48cbrow0_col0\" class=\"data row0 col0\" >0.00</td>\n",
       "                        <td id=\"T_6e28d430_dc3f_11ea_86da_34f64b7e48cbrow0_col1\" class=\"data row0 col1\" >2.26</td>\n",
       "                        <td id=\"T_6e28d430_dc3f_11ea_86da_34f64b7e48cbrow0_col2\" class=\"data row0 col2\" >1.38</td>\n",
       "                        <td id=\"T_6e28d430_dc3f_11ea_86da_34f64b7e48cbrow0_col3\" class=\"data row0 col3\" >0.02</td>\n",
       "                        <td id=\"T_6e28d430_dc3f_11ea_86da_34f64b7e48cbrow0_col4\" class=\"data row0 col4\" >0.52</td>\n",
       "                        <td id=\"T_6e28d430_dc3f_11ea_86da_34f64b7e48cbrow0_col5\" class=\"data row0 col5\" >0.01</td>\n",
       "                        <td id=\"T_6e28d430_dc3f_11ea_86da_34f64b7e48cbrow0_col6\" class=\"data row0 col6\" >0.51</td>\n",
       "                        <td id=\"T_6e28d430_dc3f_11ea_86da_34f64b7e48cbrow0_col7\" class=\"data row0 col7\" >0.51</td>\n",
       "                        <td id=\"T_6e28d430_dc3f_11ea_86da_34f64b7e48cbrow0_col8\" class=\"data row0 col8\" >0.13</td>\n",
       "                        <td id=\"T_6e28d430_dc3f_11ea_86da_34f64b7e48cbrow0_col9\" class=\"data row0 col9\" >0.01</td>\n",
       "                        <td id=\"T_6e28d430_dc3f_11ea_86da_34f64b7e48cbrow0_col10\" class=\"data row0 col10\" >0.28</td>\n",
       "            </tr>\n",
       "            <tr>\n",
       "                        <th id=\"T_6e28d430_dc3f_11ea_86da_34f64b7e48cblevel0_row1\" class=\"row_heading level0 row1\" >email</th>\n",
       "                        <td id=\"T_6e28d430_dc3f_11ea_86da_34f64b7e48cbrow1_col0\" class=\"data row1 col0\" >1.27</td>\n",
       "                        <td id=\"T_6e28d430_dc3f_11ea_86da_34f64b7e48cbrow1_col1\" class=\"data row1 col1\" >1.27</td>\n",
       "                        <td id=\"T_6e28d430_dc3f_11ea_86da_34f64b7e48cbrow1_col2\" class=\"data row1 col2\" >0.44</td>\n",
       "                        <td id=\"T_6e28d430_dc3f_11ea_86da_34f64b7e48cbrow1_col3\" class=\"data row1 col3\" >0.90</td>\n",
       "                        <td id=\"T_6e28d430_dc3f_11ea_86da_34f64b7e48cbrow1_col4\" class=\"data row1 col4\" >0.07</td>\n",
       "                        <td id=\"T_6e28d430_dc3f_11ea_86da_34f64b7e48cbrow1_col5\" class=\"data row1 col5\" >0.43</td>\n",
       "                        <td id=\"T_6e28d430_dc3f_11ea_86da_34f64b7e48cbrow1_col6\" class=\"data row1 col6\" >0.11</td>\n",
       "                        <td id=\"T_6e28d430_dc3f_11ea_86da_34f64b7e48cbrow1_col7\" class=\"data row1 col7\" >0.18</td>\n",
       "                        <td id=\"T_6e28d430_dc3f_11ea_86da_34f64b7e48cbrow1_col8\" class=\"data row1 col8\" >0.42</td>\n",
       "                        <td id=\"T_6e28d430_dc3f_11ea_86da_34f64b7e48cbrow1_col9\" class=\"data row1 col9\" >0.29</td>\n",
       "                        <td id=\"T_6e28d430_dc3f_11ea_86da_34f64b7e48cbrow1_col10\" class=\"data row1 col10\" >0.01</td>\n",
       "            </tr>\n",
       "    </tbody></table>"
      ],
      "text/plain": [
       "<pandas.io.formats.style.Styler at 0x2450f2d9e88>"
      ]
     },
     "execution_count": 3,
     "metadata": {},
     "output_type": "execute_result"
    }
   ],
   "source": [
    "col_largest = ['george', 'you', 'your', 'hp', 'free', 'hpl', '!', 'our', 're', 'edu', 'remove']\n",
    "df_average = pd.DataFrame()\n",
    "\n",
    "for col in col_largest:\n",
    "    df_average[col] = [df[df['spam'] == 1][col].mean(), df[df['spam'] == 0][col].mean()]\n",
    "\n",
    "df_average.index = ['spam', 'email']\n",
    "\n",
    "df_average.style.set_precision(2)"
   ]
  },
  {
   "cell_type": "code",
   "execution_count": null,
   "metadata": {},
   "outputs": [],
   "source": []
  }
 ],
 "metadata": {
  "kernelspec": {
   "display_name": "esl",
   "language": "python",
   "name": "esl"
  },
  "language_info": {
   "codemirror_mode": {
    "name": "ipython",
    "version": 3
   },
   "file_extension": ".py",
   "mimetype": "text/x-python",
   "name": "python",
   "nbconvert_exporter": "python",
   "pygments_lexer": "ipython3",
   "version": "3.7.7"
  }
 },
 "nbformat": 4,
 "nbformat_minor": 4
}
