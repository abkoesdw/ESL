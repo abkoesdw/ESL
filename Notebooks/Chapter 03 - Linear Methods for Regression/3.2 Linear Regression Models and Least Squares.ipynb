{
 "cells": [
  {
   "cell_type": "code",
   "execution_count": 1,
   "metadata": {},
   "outputs": [],
   "source": [
    "import numpy as np\n",
    "import matplotlib.pyplot as plt\n",
    "from math import pi, gamma"
   ]
  },
  {
   "cell_type": "markdown",
   "metadata": {},
   "source": [
    "# Linear Regression Models and Least Squares\n",
    "\n",
    "First, let's define the notations used in this example:\n",
    "   * $\\mathbf{X}$ is a matrix of inputs with size $N \\times p$, where $N$ is the number of obervations and $p$ is the number of columns/ features / dimension.\n",
    "   \n",
    "       * Note that\n",
    "       \n",
    "       $$\\mathbf{X} = \\begin{bmatrix}x_{11} & x_{12} & \\cdots & x_{1p} \\\\ x_{21} & x_{22} & \\cdots & x_{2p} \\\\ \\vdots & \\cdots & \\cdots & \\vdots\\\\x_{N1} & \\cdots & \\cdots & x_{Np}\\end{bmatrix}$$\n",
    "       \n",
    "       where $x_{ij}$ denotes the $i^{th}$ observation (row) of the $j^{th}$ feature of $\\mathbf{X}$, $X_k$ denotes the $k^{th}$ column of $\\mathbf{X}$ and $x_i$ denotes the $i^{th}$ row of $\\mathbf{X}$.\n",
    "       \n",
    "   * $\\mathbf{Y}$ is a matrix of outputs with size $N \\times q$, where $q$ is the number of outputs. In this example, we have only one output.\n",
    "   \n",
    "   * $\\beta = [\\beta_1, \\beta_2, \\cdots, \\beta_p]^\\top$ is a vector of parameters with size $p$.\n",
    "   \n",
    "   * Any variables with a  $\\hat{}$ on top  denote predicted / estimated variables.\n",
    "   \n",
    "   * $\\mathbf{e}$ denotes a vector of ones with an appropriate size."
   ]
  },
  {
   "cell_type": "markdown",
   "metadata": {},
   "source": [
    "### Residuals and the least squares criterion\n",
    "If $\\hat\\beta$ is a vector of estimates of the actual $\\beta$, then the prediction model can be written as\n",
    "$$\\mathbf{Y} = \\mathbf{X}\\hat\\beta + e$$\n",
    "where $e$ is a vector of residual or error between $\\mathbf{Y}$ and $\\hat{\\mathbf{Y}}$.\n",
    "\n",
    "The residual/error $e$ can be computed using the data and $\\hat\\beta$ by means of\n",
    "$$e=\\mathbf{Y}-\\mathbf{X}\\beta$$\n",
    "The most popular method to fit the linear model to the training data is *least squares*, which minimizes the residual sum of squares (RSS) of errors w.r.t to $\\beta$:\n",
    "\n",
    "$$\\begin{aligned}RSS(\\beta)&=\\sum_{i=1}^N e_i^2=\\sum_{i=1}^N (Y_i - x_{i}\\hat\\beta)^2\\\\ \n",
    "&= (\\mathbf{Y} - \\mathbf{X}\\hat\\beta)^\\top(\\mathbf{Y} - \\mathbf{X}\\hat\\beta)\\\\&=\\mathbf{Y}^\\top\\mathbf{Y}-\\mathbf{Y}^\\top\\mathbf{X}\\hat\\beta-\\hat\\beta^\\top\\mathbf{X}^\\top\\mathbf{Y} + \\hat\\beta^\\top\\mathbf{X}^\\top\\mathbf{X}\\hat\\beta\\end{aligned}$$\n",
    "To compute $\\hat\\beta$ that minimizes the $RSS(\\beta)$:\n",
    "$$\\frac{\\partial RSS(\\hat\\beta)}{\\partial\\hat\\beta} = -2\\mathbf{X}^\\top\\mathbf{Y}+2\\mathbf{X}^\\top\\mathbf{X}\\hat\\beta=0$$\n",
    "which gives the normal equation\n",
    "$$\\mathbf{X}^\\top\\mathbf{X}\\hat\\beta=\\mathbf{X}^\\top\\mathbf{Y}$$\n",
    "\n",
    "Solving this for $\\beta$, we obtain:\n",
    "$$\\hat\\beta = (\\mathbf{X}^\\top\\mathbf{X})^{-1}\\mathbf{X}^\\top\\mathbf{Y}$$\n",
    "\n",
    "provided that $(\\mathbf{X}^\\top\\mathbf{X})^{-1}$ exists, or in other words $\\mathbf{X}$ should have rank $p$. In particular, this requires that $N\\geq p$ (number of observations is greater than or equal the number of parameters).\n",
    "\n",
    "The fitted values at the inputs are:\n",
    "\n",
    "$$\\begin{aligned}\\hat{\\mathbf{Y}} &= \\mathbf{X}\\hat\\beta=\\mathbf{X}(\\mathbf{X}^\\top\\mathbf{X})^{-1}\\mathbf{X}^\\top\\mathbf{Y}\\\\&=\\mathbf{H}\\mathbf{Y}\\end{aligned}$$\n",
    "\n",
    "The matrix $\\mathbf{H}$ is called the *hat* matrix because it puts the hat on $\\mathbf{Y}$."
   ]
  },
  {
   "cell_type": "markdown",
   "metadata": {},
   "source": [
    "### Variance of Least Squares Estimators $\\hat\\beta$\n",
    "\n",
    "We now assume that the observations $y_i$ are uncorrelated and have *homoscedastic* errors, and $x_i$ are non random. The variance-covariance matrix of the least squares estimators is given by\n",
    "\n",
    "$$\\text{var}(\\hat\\beta) = (\\mathbf{X}^\\top\\mathbf{X})^{-1} \\sigma^2$$\n",
    "\n",
    "###### **proof**:\n",
    "\n",
    "$$\\begin{aligned}\\text{var}(\\hat\\beta) &= \\text{var}\\left((\\mathbf{X}^\\top\\mathbf{X})^{-1}\\mathbf{X}^\\top\\mathbf{Y}\\right)\\end{aligned}$$\n",
    "\n",
    "If we use the property $\\text{var}(\\mathbf{A}\\mathbf{Y}) = \\mathbf{A}\\text{var}(\\mathbf{Y})\\mathbf{A}^\\top$, for non stochastic $\\mathbf{A}$, we get the following\n",
    "\n",
    "$$\\begin{aligned}\\text{var}(\\hat\\beta) &= (\\mathbf{X}^\\top\\mathbf{X})^{-1}\\mathbf{X}^\\top\\underbrace{\\text{var}(\\mathbf{Y})}_{\\sigma^2\\mathbf{I_N}}((\\mathbf{X}^\\top\\mathbf{X})^{-1}\\mathbf{X}^\\top)^\\top\\\\\n",
    "&=(\\mathbf{X}^\\top\\mathbf{X})^{-1}(\\mathbf{X}^\\top\\mathbf{X})(\\mathbf{X}^\\top\\mathbf{X})^{-1}\\sigma^2 \\\\\n",
    "&=(\\mathbf{X}^\\top\\mathbf{X})^{-1}\\sigma^2 \\end{aligned}$$"
   ]
  },
  {
   "cell_type": "markdown",
   "metadata": {},
   "source": [
    "The actual variance $\\sigma^2$ is not known, typically we estimate it by:\n",
    "\n",
    "$$\\hat\\sigma^2 = \\frac{1}{N - p - 1} \\sum_{i=1}^{N}(y_i - \\hat y_i)^2$$\n",
    "\n",
    "Th $N-p-1$ makes $\\hat\\sigma^2$ an unbiased estimate of $\\sigma^2$.\n",
    "\n",
    "###### **proof**:\n",
    "We start with the residual $e = \\mathbf{Y} - \\hat{\\mathbf{Y}}$:\n",
    "\n",
    "$$\\begin{aligned}\n",
    "e &= \\mathbf{Y} - \\hat{\\mathbf{Y}} = \\mathbf{Y} - \\mathbf{X}\\hat\\beta\\\\\n",
    "&= \\mathbf{Y} - \\mathbf{X}(\\mathbf{X}^\\top\\mathbf{X})^{-1}\\mathbf{X}^\\top \\mathbf{Y}\\\\\n",
    "&= (\\mathbf{I}_N - \\mathbf{X}(\\mathbf{X}^\\top\\mathbf{X})^{-1}\\mathbf{X}^\\top)\\mathbf{Y}\\\\\n",
    "&= (\\mathbf{I}_N - \\mathbf{H})\\mathbf{Y}\n",
    "\\end{aligned}$$\n",
    "\n",
    "Use the property $u^\\top u = \\text{Tr}(uu^\\top)$, where $\\text{Tr}$ is the [Trace](https://en.wikipedia.org/wiki/Trace_(linear_algebra)) operator:\n",
    "\n",
    "$$\\begin{aligned}\\text{E}[e^\\top e] &= \\text{E}[\\text{Tr}(ee^\\top)]\\\\\n",
    "&=\\text{E}[\\text{Tr}\\left((\\mathbf{I}_N - \\mathbf{H})\\mathbf{Y}\\mathbf{Y}^\\top(\\mathbf{I}_N - \\mathbf{H})^\\top\\right))\\\\\n",
    "&=\\text{Tr}\\left((\\mathbf{I}_N - \\mathbf{H})\\underbrace{\\text{E}[\\mathbf{Y}\\mathbf{Y}^\\top]}_{\\mathbf{I}_N\\sigma^2}(\\mathbf{I}_N - \\mathbf{H})\\right)\\\\\n",
    "&= \\text{Tr}\\left(\\mathbf{I}_N^2 - 2\\mathbf{H} + \\mathbf{H}^2\\right)\\mathbf{I}_N\\sigma^2\n",
    "\\end{aligned}$$\n",
    "\n",
    "since $\\mathbf{H}$ is [idempotent](https://en.wikipedia.org/wiki/Idempotent_matrix), i.e., $\\mathbf{H}^2 = \\mathbf{H}$, and $\\text{Tr}(\\mathbf{H}) = \\text{rank}(\\mathbf{H})= \\text{rank}(\\mathbf{X}) = p + 1$ (the term $p+1$ appears because of the intercept), we obtain the following:\n",
    "\n",
    "$$\\begin{aligned}\n",
    "\\text{E}[e^\\top e] =&\\left(\\text{Tr}(\\mathbf{I}_N) - \\text{Tr}(\\mathbf{H})\\right)\\sigma^2\\\\\n",
    "&=(N - p - 1)\\sigma^2\n",
    "\\end{aligned}$$\n",
    "\n",
    "Therefore, the estimate of the variance is given by:\n",
    "\n",
    "$$\\hat\\sigma^2 =\\frac{1}{N - p - 1}\\text{E}[e^\\top e]=\\frac{1}{N - p - 1}\\sum_{i=1}^{N}(y_i -\\hat{y}_i)^2$$"
   ]
  },
  {
   "cell_type": "markdown",
   "metadata": {},
   "source": [
    "### Hypothesis Testing\n",
    "To test the hypothesis that a particular coefficient $\\beta_j=0$, we form the standardized coefficient or *Z-score*:\n",
    "$$z_j = \\frac{\\hat\\beta_j}{\\hat\\sigma\\sqrt{v_j}}$$\n",
    "\n",
    "where $v_j$ is the $j^{th}$ diagonal element of $\\mathbf{X}^\\top\\mathbf{X}$.\n",
    "\n",
    "   * Under the null hypothesis that $\\beta_j=0$, $z_j$ is distributed as $t_{dof}$ ($\\text{dof} = \\text{degree of freedom} = N-p-1$). It means a large (absolute) value of $z_j$ leads to rejection of this hypothesis.\n",
    "   * If $\\hat\\sigma$ is replaced by the actual $\\sigma$, $z_j$ would have a standard normal distribution. The difference between the tail quantiles of a $t$-distribution and a standard normal become negligible as the sample size increases."
   ]
  },
  {
   "cell_type": "markdown",
   "metadata": {},
   "source": [
    "### Generating The Tail Probabilities $P(|Z| > z)$ for $t_{30}$, $t_{100}$, and Normal Distributions\n",
    "This section is the python implementation to generate Figure 3.3 in the book.\n",
    "\n",
    "#### Set up PDF and CDF for Student's-$t$ and normal distributions\n",
    "For normal distribution with 0 mean and standard deviation:\n",
    "\n",
    "$$\\text{pdf}_{norm}(x) = \\text{P}_{norm}(x) = \\frac{1}{\\sqrt{2\\pi}} e^{\\frac{1}{2}x^2}$$\n",
    "\n",
    "$$\\text{pdf}_{t}(x, \\nu) = \\text{P}_{t}(x) = \\frac{\\Gamma((\\nu+1)/2)}{\\sqrt{\\pi\\nu}\\Gamma(\\nu/2)}\\left(1+x^2/\\nu\\right)^{-(\\nu+1)/2}$$\n",
    "\n",
    "where $\\nu >0$ is the degress of fredom parameters, and $\\Gamma$ is the gamma function.\n",
    "\n",
    "The CDF for both PDFs is defined as:\n",
    "$$\\text{cdf}_X(x) = \\text{P}(X \\leq x)$$\n",
    "\n",
    "$\\text{P}(X \\leq x)$ represents the accumulation of all probabilities where the random variable $X$ takes on a value less than or equal to $x$.\n",
    "\n",
    "The following classes are developed to generates both normal and $t$ probabilites along with their CDFs."
   ]
  },
  {
   "cell_type": "code",
   "execution_count": 2,
   "metadata": {},
   "outputs": [],
   "source": [
    "# I fell like writing my own pdf and cdf\n",
    "# this class is for Gaussian distribution\n",
    "class Gaussian:\n",
    "    def __init__(self, *args, **kwargs):\n",
    "        self.num_data = kwargs.get('num_data', 10001)\n",
    "        \n",
    "        # this is to get the all possible values so we can compute the cdf\n",
    "        np.random.seed(0)\n",
    "        data = np.random.randn(self.num_data)\n",
    "        data_min = data.min()\n",
    "        data_max = data.max()\n",
    "        self.x_data = np.linspace(data_min, data_max, self.num_data)\n",
    "    \n",
    "    def pdf(self, **kwargs):\n",
    "        self.p_x = np.exp(- (self.x_data ** 2) / 2) / np.sqrt(2 * pi)\n",
    "        return self.p_x\n",
    "    \n",
    "    def cdf(self, x, **kwargs):\n",
    "        p_x = self.pdf(**kwargs)\n",
    "        cdf_temp = []\n",
    "        for i in range(len(p_x)):\n",
    "            temp = np.sum(p_x[:i + 1])\n",
    "            cdf_temp.append(temp)\n",
    "        \n",
    "        # this is to generate cdf only for some specified range\n",
    "        idx1 = np.argmin(np.abs(self.x_data - x[0]))\n",
    "        idx2 = np.argmin(np.abs(self.x_data - x[-1]))\n",
    "\n",
    "        if x[0] < x[-1]:\n",
    "            self.x = self.x_data[idx1:idx2+1]\n",
    "            return cdf_temp[idx1:idx2+1] / cdf_temp[-1]\n",
    "        \n",
    "        else:\n",
    "            return cdf_temp[idx2:idx1+1][::-1] / cdf_temp[-1]"
   ]
  },
  {
   "cell_type": "code",
   "execution_count": 3,
   "metadata": {},
   "outputs": [],
   "source": [
    "# this class is for Student's t distribution\n",
    "# It's extending the Gaussian class\n",
    "class StudentT(Gaussian): \n",
    "    def __init__(self, *args, **kwargs):\n",
    "        super(StudentT, self).__init__(*args, **kwargs)\n",
    "        \n",
    "    def pdf(self, **kwargs):\n",
    "        dof = kwargs.get('dof', 'None')\n",
    "        \n",
    "        # we use gamma function from math package\n",
    "        self.p_x = (gamma((dof + 1) / 2) / (np.sqrt(pi * dof) * gamma(dof / 2))) * (1 + self.x_data ** 2 / dof) ** -((dof + 1) / 2)\n",
    "        return self.p_x   "
   ]
  },
  {
   "cell_type": "markdown",
   "metadata": {},
   "source": [
    "Here, we define the tail probabilities region and initialize the PDF classes"
   ]
  },
  {
   "cell_type": "code",
   "execution_count": 4,
   "metadata": {},
   "outputs": [],
   "source": [
    "x = np.linspace(1.9, 3, 100)\n",
    "\n",
    "gaussian = Gaussian()\n",
    "student = StudentT()"
   ]
  },
  {
   "cell_type": "markdown",
   "metadata": {},
   "source": [
    "#### Calculate $P(|Z| > z)$\n",
    "Figure 3.3 presents the tail probabilities $P(|Z| > z)$. Therefore, we need to calculate it as follows:\n",
    "$$\\begin{aligned}P(|Z| > z) &= P(Z > z) + P(-Z > z)\\\\&= (1 - P(Z <z)) + P(Z < -z) \\\\&= 1 - cdf(z) + cdf(-z)\\end{aligned}$$\n",
    "\n",
    "The following codes calculate $P(|Z| > z)$:"
   ]
  },
  {
   "cell_type": "code",
   "execution_count": 5,
   "metadata": {},
   "outputs": [],
   "source": [
    "# get the cdfs\n",
    "# alternatively, we can use libs from scipy: scipy.stats.norm.cdf, scipy.stats.t.cdf\n",
    "cdf_dict = dict()\n",
    "cdf_dict['normal'] = 1 - gaussian.cdf(x) + gaussian.cdf(-x)\n",
    "cdf_dict['t30'] = 1 - student.cdf(x, dof=30) + student.cdf(-x, dof=30)\n",
    "cdf_dict['t100'] = 1 - student.cdf(x, dof=100) + student.cdf(-x, dof=100)\n",
    "\n",
    "# get the new x for a specific range of x\n",
    "Z = gaussian.x"
   ]
  },
  {
   "cell_type": "markdown",
   "metadata": {},
   "source": [
    "#### Generate the plot of the tail probabilities"
   ]
  },
  {
   "cell_type": "code",
   "execution_count": 6,
   "metadata": {},
   "outputs": [
    {
     "data": {
      "image/png": "[encoded data removed]",
      "text/plain": [
       "<Figure size 576x288 with 1 Axes>"
      ]
     },
     "metadata": {
      "needs_background": "light"
     },
     "output_type": "display_data"
    }
   ],
   "source": [
    "plt.figure(figsize=(8, 4))\n",
    "# p values\n",
    "p = [0.05, 0.01]\n",
    "for i, key in enumerate(cdf_dict.keys()):\n",
    "    plt.plot(Z, cdf_dict[key], color='C{}'.format(i), label=key, linewidth=1)\n",
    "    for p_ in p:\n",
    "        # find index where cdf = p_ or cdf ~= p_ because there is no data point where cdf = p exactly.\n",
    "        idx = np.argmin(np.abs(cdf_dict[key] - p_))\n",
    "        z_ = [Z[idx], Z[idx]]\n",
    "        y_ = [0, p_]\n",
    "        plt.plot(z_, y_, '--', color='C{}'.format(i), linewidth=0.7)\n",
    "    \n",
    "plt.xlabel('$Z$')\n",
    "plt.ylabel('Tail Probabilities', rotation=90)\n",
    "plt.legend()\n",
    "plt.plot(Z, 0.05 * np.ones_like(Z), '--k', linewidth=0.7)\n",
    "plt.plot(Z, 0.01 * np.ones_like(Z), '--k', linewidth=0.7)\n",
    "plt.tight_layout()"
   ]
  },
  {
   "cell_type": "markdown",
   "metadata": {},
   "source": [
    "### Simultaneous Test for the Significance of Groups of Coefficients\n",
    "\n",
    "To do this test, we can use the *F statistic*:\n",
    "\n",
    "$$ F = \\frac{(RSS_0 - RSS_1) / (p_1 - p_0)}{RSS_1 / (N - p_1 - 1)}$$\n",
    "\n",
    "where $RSS_1$ and $RSS_0$ are the residual sum-of-squares for the bigger model with $p_1+1$ parameters and for the smaller model with $p_0+1$ parameters, respectively.  The statistic measures the difference in the $RSS$ per additional parameter in the bigger model."
   ]
  },
  {
   "cell_type": "code",
   "execution_count": null,
   "metadata": {},
   "outputs": [],
   "source": []
  }
 ],
 "metadata": {
  "kernelspec": {
   "display_name": "Python [conda env:esl]",
   "language": "python",
   "name": "conda-env-esl-py"
  },
  "language_info": {
   "codemirror_mode": {
    "name": "ipython",
    "version": 3
   },
   "file_extension": ".py",
   "mimetype": "text/x-python",
   "name": "python",
   "nbconvert_exporter": "python",
   "pygments_lexer": "ipython3",
   "version": "3.7.7"
  }
 },
 "nbformat": 4,
 "nbformat_minor": 4
}
