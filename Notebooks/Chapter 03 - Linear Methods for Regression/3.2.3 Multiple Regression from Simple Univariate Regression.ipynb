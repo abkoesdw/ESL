{
 "cells": [
  {
   "cell_type": "markdown",
   "metadata": {},
   "source": [
    "# Multiple Regression from Simple Univariate Regression\n",
    "\n",
    "Suppose we have a univariate model with no intercept:\n",
    "\n",
    "$$Y = X\\beta + \\epsilon$$\n",
    "\n",
    "The least squares estimate and residuals are:\n",
    "\n",
    "$$\\begin{aligned}\n",
    "\\hat\\beta &= \\frac{\\sum_1^N x_i y_i}{\\sum_1^N x^2_i}\\\\\n",
    "r_i &= y_i - x_i\\hat\\beta\n",
    "\\end{aligned}$$\n",
    "\n",
    "In vector notation, $\\mathbf{y} = [y_1, y_2, \\cdots, y_N]^\\top$, $\\mathbf{x} = [x_1, x_2, \\cdots, x_N]^\\top$, and let's define:\n",
    "\n",
    "$$\\langle\\mathbf{x}, \\mathbf{y}\\rangle =\\sum_1^N x_i y_i =\\mathbf{x}^\\top\\mathbf{y}$$\n",
    "\n",
    "then we can write:\n",
    "$$\\begin{aligned}\n",
    "\\hat\\beta &= \\frac{\\langle\\mathbf{x}, \\mathbf{y}\\rangle}{\\langle\\mathbf{x}, \\mathbf{x}\\rangle}\n",
    "\\end{aligned}$$\n"
   ]
  },
  {
   "cell_type": "markdown",
   "metadata": {},
   "source": [
    "### Regression by Successive Orthogonalization\n",
    "We can see that the univariate regression provides the building block for multiple linear regression.\n",
    "\n",
    "Suppose that the columns of the inputs $\\mathbf X = [\\mathbf x_1, \\mathbf x_2, \\cdots, \\mathbf x_p$ are orthogonal ($\\langle\\mathbf{x_j}, \\mathbf{x_k}\\rangle = 0$, for $j\\neq k$):\n",
    "\n",
    "$$\\hat\\beta_j = \\frac{\\langle\\mathbf{x_j}, \\mathbf{y}\\rangle}{\\langle\\mathbf{x_j}, \\mathbf{x_j}\\rangle}$$\n",
    "\n",
    "In real-world scenarios, it's very unlikely that we have orthogonal inputs. Therefore, to  use this result, we need to first orthogonalize the inputs.\n",
    "\n",
    "Assume we have an intercept and a single input $\\mathbf x$, then the least squares coefficient of $\\mathbf x$ has the form\n",
    "\n",
    "$$\\hat\\beta_1 = \\frac{\\langle \\mathbf x - \\bar x\\mathbf 1, \\mathbf y\\rangle}{\\langle \\mathbf x - \\bar x\\mathbf 1, \\mathbf x - \\bar x\\mathbf 1\\rangle}$$\n",
    "\n",
    "where $\\bar x = \\sum_i x_i /N$, and $\\mathbf 1 = \\mathbf x_0$, the vector of $N$ ones. \n",
    "\n",
    "The estimate given above can be viewed as the result of two simple regression:\n",
    "\n",
    "   * regress $\\mathbf x$ on $\\mathbf 1$ to produce the residual $\\mathbf z = \\mathbf x - \\bar x \\mathbf 1$\n",
    "   * regress $\\mathbf y$ on the residual $\\mathbf z$ to give the coefficient $\\hat\\beta_1$\n",
    "   \n",
    "This result generalizes to the case of $p$ inputs, as shown in the following algorithm:\n",
    "\n",
    "##### Algorithm 3.1\n",
    "   1. Initialize $\\mathbf z_0 = \\mathbf x_0 = \\mathbf 1$\n",
    "   2. For $j=1,2,\\cdots, p$\n",
    "       Regress $\\mathbf x_j$ on $\\mathbf z_0, \\mathbf z_1, \\cdots, \\mathbf z_{j-1}$ to produce coefficients \n",
    "       $$\\hat\\gamma_{lj} = \\langle\\mathbf z_l\\mathbf x_j\\rangle / \\langle \\mathbf z_l, \\mathbf z_l\\rangle$$\n",
    "       for $l=0, 1, \\cdots, j -1$, and residual vector:\n",
    "       $$\\mathbf z_j = \\mathbf x_j - \\sum_{k = 0}^{j-1} \\hat\\gamma_{kj} \\mathbf z_k$$\n",
    "   3. Regress $\\mathbf y$ on the residual $\\mathbf z_p$ to give the estimate $\\hat\\beta_p$\n",
    "   \n",
    "The result of this algorithm is\n",
    "\n",
    "$$\\hat\\beta_p = \\frac{\\langle \\mathbf z_p, \\mathbf y\\rangle}{\\langle \\mathbf z_p, \\mathbf x_p\\rangle}$$"
   ]
  },
  {
   "cell_type": "markdown",
   "metadata": {},
   "source": [
    "#### Python Implementation\n",
    "\n",
    "In this section, we implement Algorithm 3.1 in python. We use *Prostate Cancer* data to test the algorithm.\n",
    "\n",
    "##### Data loading"
   ]
  },
  {
   "cell_type": "code",
   "execution_count": 1,
   "metadata": {},
   "outputs": [],
   "source": [
    "import numpy as np\n",
    "import matplotlib.pyplot as plt\n",
    "import sys\n",
    "from ml_datasets.esl import ProstateCancer\n",
    "from esl.chapter03 import LeastSquaresRegression\n",
    "from esl.utils import scale"
   ]
  },
  {
   "cell_type": "code",
   "execution_count": 2,
   "metadata": {},
   "outputs": [],
   "source": [
    "prostate_cancer = ProstateCancer(verbose=0)"
   ]
  },
  {
   "cell_type": "code",
   "execution_count": 3,
   "metadata": {},
   "outputs": [],
   "source": [
    "df = prostate_cancer.load()"
   ]
  },
  {
   "cell_type": "code",
   "execution_count": 4,
   "metadata": {},
   "outputs": [],
   "source": [
    "train_test = prostate_cancer.train_test\n",
    "df_x = df[prostate_cancer.meta[:-1]]\n",
    "df_y = df[prostate_cancer.meta[-1]]"
   ]
  },
  {
   "cell_type": "markdown",
   "metadata": {},
   "source": [
    "##### Scaling"
   ]
  },
  {
   "cell_type": "code",
   "execution_count": 5,
   "metadata": {},
   "outputs": [],
   "source": [
    "df_x = df_x.apply(lambda x: scale(x))"
   ]
  },
  {
   "cell_type": "code",
   "execution_count": 6,
   "metadata": {},
   "outputs": [],
   "source": [
    "x_train = df_x[train_test=='T'].values\n",
    "y_train =  df_y[train_test=='T'].values"
   ]
  },
  {
   "cell_type": "markdown",
   "metadata": {},
   "source": [
    "##### Main Algorithm\n",
    "\n",
    "Here, we develop a class for least squares regression by orthogonalization. This class contains several methods:\n",
    "\n",
    "   * `fit`: to fit the model using the orthogonalization least squares algorithm. It calls `compute_gamma` and `compute_beta_hat_z` methods. It gives us both $\\hat\\beta$ in the $x$ and $z$ domains.\n",
    "   * `compute_gamma`: it implements step 2 in algorithm 3.1. **Note**: we start from $0$ instead of $1$ so that we can compute the diagonal elements of $\\hat\\gamma$.\n",
    "   * `compute_beta_hat_z`: it implements step 3 in algorithm 3.1. **Note**: the computed $\\hat\\beta_z$ is for the orthogonalized input $Z$. Therefore, to predict we need to multiply $\\mathbf Z$ by this $\\hat\\beta$. \n",
    "   $$\\mathbf Y = \\mathbf Z \\hat\\beta_z$$\n",
    "   \n",
    "   To work in the original $X$ space, where $\\mathbf X = \\mathbf Z \\Gamma$, we need to transform $\\hat\\beta_z$ first:\n",
    "   \n",
    "   $$\\begin{aligned}\n",
    "   \\mathbf Y &= \\mathbf Z \\hat\\beta_z\\\\\n",
    "   &= \\mathbf X \\underbrace{\\Gamma^{-1} \\hat\\beta_z}_{\\hat\\beta_x}\n",
    "   \\end{aligned}$$\n",
    "   \n",
    "   where $\\Gamma^{-1} \\hat\\beta_z$ is the new $\\hat\\beta_x$ in the $X$ space.\n",
    "   * `predict`: do prediction using (can be in either $X$ or $Z$ domains)"
   ]
  },
  {
   "cell_type": "code",
   "execution_count": 7,
   "metadata": {},
   "outputs": [],
   "source": [
    "class LSOrthogonalization(LeastSquaresRegression):\n",
    "    def __init__(self, *args, **kwargs):\n",
    "        \n",
    "        super(LSOrthogonalization, self).__init__(*args, **kwargs)\n",
    "        \n",
    "    def fit(self, x, y):\n",
    "        x = self._check_intercept(x)\n",
    "\n",
    "        self.compute_gamma(x)\n",
    "        \n",
    "        self.compute_beta_hat_z(y)\n",
    "\n",
    "        self.beta_hat_x = np.linalg.inv(self.gamma) @ self.beta_hat_z\n",
    "    \n",
    "    def compute_beta_hat_z(self, y):\n",
    "        self.beta_hat_z = np.zeros(self.z.shape[1])\n",
    "        \n",
    "        for i in range(self.z.shape[1]):\n",
    "            self.beta_hat_z[i] = (self.z[:, i] @ y) / (self.z[:, i] @ self.z[:, i])\n",
    "        \n",
    "    def compute_gamma(self, x):\n",
    "        self.z = np.zeros_like(x)\n",
    "        self.z[:, 0] = 1.0\n",
    "        self.gamma = np.zeros((x.shape[1], x.shape[1]))\n",
    "        \n",
    "        for i in range(x.shape[1]):\n",
    "            sum_gamma_z = 0\n",
    "            \n",
    "            for j in range(i):\n",
    "                self.gamma[j, i] = (self.z[:, j] @ x[:, i]) / (self.z[:, j] @ self.z[:, j])\n",
    "                sum_gamma_z = sum_gamma_z + (self.gamma[j, i] * self.z[:, j])\n",
    "\n",
    "            self.z[:, i] = x[:, i] - sum_gamma_z\n",
    "            self.gamma[i, i] = (self.z[:, i] @ x[:, i]) / (self.z[:, i] @ self.z[:, i])\n",
    "            \n",
    "        \n",
    "    def predict(self, x, mode='x'):\n",
    "        x = self._check_intercept(x)\n",
    "\n",
    "        if mode == 'x':\n",
    "            return x @ self.beta_hat_x\n",
    "        \n",
    "        elif mode == 'z':\n",
    "            return x @ np.linalg.inv(self.gamma) @ self.beta_hat_z"
   ]
  },
  {
   "cell_type": "markdown",
   "metadata": {},
   "source": [
    "Here, we initialize the class and fit the data:"
   ]
  },
  {
   "cell_type": "code",
   "execution_count": 8,
   "metadata": {},
   "outputs": [],
   "source": [
    "lsortho  = LSOrthogonalization()\n",
    "lsortho.fit(x_train, y_train)"
   ]
  },
  {
   "cell_type": "markdown",
   "metadata": {},
   "source": [
    "Do prediction in both $X$ and $Z$ domains for comparison:"
   ]
  },
  {
   "cell_type": "code",
   "execution_count": 9,
   "metadata": {},
   "outputs": [],
   "source": [
    "y_hat_x = lsortho.predict(x_train, mode='x')\n",
    "y_hat_z = lsortho.predict(x_train, mode='z')"
   ]
  },
  {
   "cell_type": "markdown",
   "metadata": {},
   "source": [
    "Plot the predictions results"
   ]
  },
  {
   "cell_type": "code",
   "execution_count": 10,
   "metadata": {},
   "outputs": [
    {
     "data": {
      "image/png": "[encoded data removed]",
      "text/plain": [
       "<Figure size 576x288 with 1 Axes>"
      ]
     },
     "metadata": {
      "needs_background": "light"
     },
     "output_type": "display_data"
    }
   ],
   "source": [
    "plt.figure(figsize=(8, 4))\n",
    "plt.plot(y_train, label='gt')\n",
    "plt.plot(y_hat_z, ':', label='pred-z')\n",
    "plt.plot(y_hat_x, '*', label='pred-normal')\n",
    "plt.xlabel('time')\n",
    "plt.ylabel('lpsa')\n",
    "plt.legend()\n",
    "plt.show()"
   ]
  },
  {
   "cell_type": "markdown",
   "metadata": {},
   "source": [
    "### Regression by QR Decomposition\n",
    "\n",
    "Step 2 of Algorithm 3.1 can be represented in matrix form:\n",
    "\n",
    "$$\\mathbf X = \\mathbf Z \\mathbf\\Gamma$$\n",
    "\n",
    "where $\\mathbf Z$ has as columns the $\\mathbf z_j$, and $\\mathbf\\Gamma$ is the upper triangular matrix with entries $\\hat\\gamma_{kj}$.\n",
    "\n",
    "Introducing the diagonal matrix $\\mathbf D$ with $jth$ diagonal element $D_{jj} = \\|\\mathbf z_j\\|$, we obtain\n",
    "\n",
    "$$\\begin{aligned}\\mathbf X &= \\mathbf Z \\mathbf D^{-1}\\mathbf D\\mathbf\\Gamma\\\\\n",
    "&= \\mathbf Q\\mathbf R\n",
    "\\end{aligned}$$\n",
    "\n",
    "the so-called **QR** decomposition of $\\mathbf X$.\n",
    "\n",
    "The least squares solution is given by:\n",
    "\n",
    "$$\n",
    "\\begin{aligned}\n",
    "\\hat\\beta &= \\mathbf R^{-1} \\mathbf Q^\\top \\mathbf y\\\\\n",
    "\\hat{\\mathbf y} & = \\mathbf Q\\mathbf Q^\\top \\mathbf y\n",
    "\\end{aligned}\n",
    "$$"
   ]
  },
  {
   "cell_type": "markdown",
   "metadata": {},
   "source": [
    "#### Python Implementation\n",
    "We use the same dataset in the previous section so we can compare the performance of both the algorithms.\n",
    "\n",
    "##### Main Algorithm\n",
    "Here, we develop a class for least squares regression by **QR** decomposition. This class extends `LSOrthogonalization` class and contains several methods:\n",
    "\n",
    "   * `fit`: it's used to fit the model using the **QR** least squares algorithm. It calls `compute_gamma` (from `LSOrthogonalization`) and `compute_QR` methods. It gives us both $\\hat\\beta$ that is computed using:\n",
    "   \n",
    "   $$\\hat\\beta = \\mathbf R^{-1} \\mathbf Q^\\top \\mathbf y$$\n",
    "   \n",
    "   * `compute_QR`: it calculates the $\\mathbf Q$ and $\\mathbf R$ matrices by introducing the diagonal matrix $\\mathbf D$.\n",
    "   \n",
    "   * `predict`: it calculates the prediction using:\n",
    "   \n",
    "   $$ \\hat\\beta = \\mathbf X\\hat\\beta$$"
   ]
  },
  {
   "cell_type": "code",
   "execution_count": 11,
   "metadata": {},
   "outputs": [],
   "source": [
    "class LSQR(LSOrthogonalization): \n",
    "    def __init__(self, *args, **kwargs):\n",
    "        super(LSQR, self).__init__(*args, **kwargs)\n",
    "        \n",
    "    def fit(self, x, y):\n",
    "        x = self._check_intercept(x)\n",
    "        self.compute_gamma(x)\n",
    "        self.compute_QR()\n",
    "        self.beta_hat = np.linalg.inv(self.R) @ self.Q.T @ y\n",
    "            \n",
    "    def compute_QR(self):\n",
    "        D = np.diag(np.linalg.norm(self.z, axis=0))\n",
    "        \n",
    "        self.Q = self.z @ np.linalg.inv(D)\n",
    "        self.R = D @ self.gamma\n",
    "        \n",
    "    def predict(self, x):\n",
    "        x = self._check_intercept(x)\n",
    "        return x @ self.beta_hat"
   ]
  },
  {
   "cell_type": "markdown",
   "metadata": {},
   "source": [
    "Initialize the class and fit the data."
   ]
  },
  {
   "cell_type": "code",
   "execution_count": 12,
   "metadata": {},
   "outputs": [],
   "source": [
    "lsqr = LSQR()\n",
    "lsqr.fit(x_train, y_train)"
   ]
  },
  {
   "cell_type": "markdown",
   "metadata": {},
   "source": [
    "Do prediction"
   ]
  },
  {
   "cell_type": "code",
   "execution_count": 13,
   "metadata": {},
   "outputs": [],
   "source": [
    "y_hat_qr = lsqr.predict(x_train)"
   ]
  },
  {
   "cell_type": "markdown",
   "metadata": {},
   "source": [
    "#### Comparison: LS-Orthogonalization VS LS-QR-Decomposition\n",
    "\n",
    "First, we compare the parameters $\\hat\\beta$ between the two algorithms:"
   ]
  },
  {
   "cell_type": "code",
   "execution_count": 14,
   "metadata": {},
   "outputs": [
    {
     "name": "stdout",
     "output_type": "stream",
     "text": [
      "LS-Orthogonalization Beta:  [ 2.46493292  0.67601634  0.26169361 -0.14073374  0.20906052  0.30362332\n",
      " -0.28700184 -0.02119493  0.26557614]\n",
      "LS-QR-Decomposition Beta:  [ 2.46493292  0.67601634  0.26169361 -0.14073374  0.20906052  0.30362332\n",
      " -0.28700184 -0.02119493  0.26557614]\n"
     ]
    }
   ],
   "source": [
    "print(\"LS-Orthogonalization Beta: \", lsortho.beta_hat_x)\n",
    "print(\"LS-QR-Decomposition Beta: \", lsqr.beta_hat)"
   ]
  },
  {
   "cell_type": "markdown",
   "metadata": {},
   "source": [
    "We can see that they are identicals.\n",
    "\n",
    "Now, we plot the test prediction of both algorithms:"
   ]
  },
  {
   "cell_type": "code",
   "execution_count": 15,
   "metadata": {},
   "outputs": [],
   "source": [
    "x_test = df_x[train_test=='F'].values\n",
    "y_test =  df_y[train_test=='F'].values\n",
    "y_test_hat_ortho = lsortho.predict(x_test)\n",
    "y_test_hat_qr = lsqr.predict(x_test)"
   ]
  },
  {
   "cell_type": "code",
   "execution_count": 16,
   "metadata": {},
   "outputs": [
    {
     "data": {
      "image/png": "[encoded data removed]",
      "text/plain": [
       "<Figure size 576x288 with 1 Axes>"
      ]
     },
     "metadata": {
      "needs_background": "light"
     },
     "output_type": "display_data"
    }
   ],
   "source": [
    "plt.figure(figsize=(8, 4))\n",
    "plt.plot(y_test, label='ground truth')\n",
    "plt.plot(y_test_hat_ortho, 'o', label='pred-ortho')\n",
    "plt.plot(y_test_hat_qr, ':', label='pred-qr')\n",
    "plt.legend()\n",
    "plt.xlabel('time')\n",
    "plt.ylabel('lpsa')\n",
    "plt.show()"
   ]
  },
  {
   "cell_type": "markdown",
   "metadata": {},
   "source": [
    "#### Sanity Check\n",
    "\n",
    "Just to make sure that our implementations of the algorithms are correct, we compare them with the Least Squares algorithm using Normal equation developed in the previous section:"
   ]
  },
  {
   "cell_type": "code",
   "execution_count": 17,
   "metadata": {},
   "outputs": [],
   "source": [
    "lsreg = LeastSquaresRegression()\n",
    "lsreg.fit(x_train, y_train)"
   ]
  },
  {
   "cell_type": "code",
   "execution_count": 18,
   "metadata": {},
   "outputs": [
    {
     "name": "stdout",
     "output_type": "stream",
     "text": [
      "LS-Orthogonalization Beta: \n",
      " [ 2.46493292  0.67601634  0.26169361 -0.14073374  0.20906052  0.30362332\n",
      " -0.28700184 -0.02119493  0.26557614]\n",
      "LS-QR-Decomposition Beta: \n",
      " [ 2.46493292  0.67601634  0.26169361 -0.14073374  0.20906052  0.30362332\n",
      " -0.28700184 -0.02119493  0.26557614]\n",
      "LS-Normal Beta: \n",
      " [ 2.46493292  0.67601634  0.26169361 -0.14073374  0.20906052  0.30362332\n",
      " -0.28700184 -0.02119493  0.26557614]\n"
     ]
    }
   ],
   "source": [
    "print(\"LS-Orthogonalization Beta: \\n {}\".format(lsortho.beta_hat_x))\n",
    "print(\"LS-QR-Decomposition Beta: \\n {}\".format(lsqr.beta_hat))\n",
    "print(\"LS-Normal Beta: \\n {}\".format(lsreg.beta_hat))"
   ]
  },
  {
   "cell_type": "markdown",
   "metadata": {},
   "source": [
    "We can see that they have identical coefficients."
   ]
  },
  {
   "cell_type": "code",
   "execution_count": null,
   "metadata": {},
   "outputs": [],
   "source": []
  }
 ],
 "metadata": {
  "kernelspec": {
   "display_name": "Python [conda env:esl]",
   "language": "python",
   "name": "conda-env-esl-py"
  },
  "language_info": {
   "codemirror_mode": {
    "name": "ipython",
    "version": 3
   },
   "file_extension": ".py",
   "mimetype": "text/x-python",
   "name": "python",
   "nbconvert_exporter": "python",
   "pygments_lexer": "ipython3",
   "version": "3.7.7"
  }
 },
 "nbformat": 4,
 "nbformat_minor": 4
}
