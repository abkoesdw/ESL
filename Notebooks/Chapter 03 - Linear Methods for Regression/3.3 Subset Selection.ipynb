{
 "cells": [
  {
   "cell_type": "markdown",
   "metadata": {},
   "source": [
    "# Subset Selection\n",
    "\n",
    "Two reasons why we are not satisfied with the least squares prediction:\n",
    "\n",
    "   * Prediction accuracy: the prediction sometimes have low bias but large variance. Setting some coefficients to zero can sometimes improve the prediction accuracy.\n",
    "   \n",
    "   * Interpretation: large number of predictors is confusing. Sometimes we would like to find a smaller subset of predictors that has the strongest effect.\n",
    "   \n",
    "There are a number of methods to perform subset selections, for example:\n",
    "\n",
    "   * Best-Subset Selection\n",
    "   * Forward-Stepwise Selection\n",
    "   * Backward-Stepwise Selection"
   ]
  },
  {
   "cell_type": "markdown",
   "metadata": {},
   "source": [
    "#### Dataset\n",
    "We use *Prostate Cancer* Dataset to test our implementation."
   ]
  },
  {
   "cell_type": "code",
   "execution_count": 1,
   "metadata": {},
   "outputs": [],
   "source": [
    "import numpy as np\n",
    "import matplotlib.pyplot as plt\n",
    "import pandas as pd\n",
    "import sys\n",
    "from tqdm import tqdm\n",
    "from itertools import combinations\n",
    "from ml_datasets.esl import ProstateCancer\n",
    "from esl.utils import scale\n",
    "from esl.chapter03 import LeastSquaresRegression"
   ]
  },
  {
   "cell_type": "code",
   "execution_count": 2,
   "metadata": {},
   "outputs": [],
   "source": [
    "prostate_cancer = ProstateCancer(verbose=0)"
   ]
  },
  {
   "cell_type": "code",
   "execution_count": 3,
   "metadata": {},
   "outputs": [],
   "source": [
    "df = prostate_cancer.load()"
   ]
  },
  {
   "cell_type": "code",
   "execution_count": 4,
   "metadata": {},
   "outputs": [],
   "source": [
    "train_test = prostate_cancer.train_test\n",
    "df_x = df[prostate_cancer.meta[:-1]]\n",
    "df_y = df[prostate_cancer.meta[-1]]"
   ]
  },
  {
   "cell_type": "markdown",
   "metadata": {},
   "source": [
    "##### Scaling"
   ]
  },
  {
   "cell_type": "code",
   "execution_count": 5,
   "metadata": {},
   "outputs": [],
   "source": [
    "df_x = df_x.apply(lambda x: scale(x))"
   ]
  },
  {
   "cell_type": "code",
   "execution_count": 6,
   "metadata": {},
   "outputs": [],
   "source": [
    "x_train = df_x[train_test=='T'].values\n",
    "y_train =  df_y[train_test=='T'].values\n",
    "\n",
    "x_test = df_x[train_test=='F'].values\n",
    "y_test =  df_y[train_test=='F'].values"
   ]
  },
  {
   "cell_type": "markdown",
   "metadata": {},
   "source": [
    "#### 3.3.1 Best-Subset Selection\n",
    "\n",
    "This method finds for each $k\\in {0, 1, 2, \\cdots, p}$ the subset of size $k$ that gives the smallest residual sum of squares.\n",
    "\n",
    "It works by evaluating a set of models built from all possible combination of $k$ features. This is possibly best illustrated by the following pseudo code with an example:\n",
    "\n",
    "<pre><code>Train a model M<sub>0</sub> using only the intercept as the feature\n",
    "Suppose we have three features (p=3).\n",
    "For k in [1, 2, 3]\n",
    "    generate combinations of k features. As an example for k=2, the combinations are: [1, 2], [1, 3], [2, 3]    \n",
    "    fit models using these combinations    \n",
    "    find the best model M<sub>k</sub> that gives the lowest error, e.g., RSS\n",
    "</code></pre>\n",
    "\n",
    "This algorithm is implemented as a method called `process_subset_best`. \n",
    "\n",
    "Once we get a set of best models for all $k$, we can select the best overall model using some useful statistics such as *AIC*, *BIC*, *Mallow's Cp*, etc. Since we need to search through all possible subsets of features, this algorithm is feasible for limited number of parameters.\n",
    "\n",
    "#### 3.3.2 Forward- and Backward-Stepwise Selection\n",
    "Rather that search through all possible subsets of features, we can seek a good path through them. \n",
    "\n",
    "The **forward-stepwise** selection starts with the intercept then sequentially adds into the model the predictor that most improves the fit. This algorithm is illustrated as below:\n",
    "<pre><code>Train a model M<sub>0</sub> using only the intercept as the feature\n",
    "Suppose we have three features (p=3).\n",
    "Initialize a set of remaining features f<sub>r</sub> = [1, 2, 3]\n",
    "Initialize a set of features to keep f<sub>k</sub>= []\n",
    "For k in [1, 2, 3]\n",
    "    generate combinations of features by appending a feature from f<sub>r</sub> with f<sub>k</sub> \n",
    "    fit models using these combinations\n",
    "    find the best model M<sub>k</sub> that gives the lowest error, e.g., RSS\n",
    "    add the element of f<sub>r</sub> that produces the best M<sub>k</sub> to f<sub>k</sub>\n",
    "    remove the element of f<sub>r</sub> that produces the best M<sub>k</sub> from f<sub>r</sub>\n",
    "</code></pre>\n",
    "\n",
    "This algorithm is implemented as a method called `process_subset_forward`. Then we can use the same statistics as before to get the best overall model.\n",
    "\n",
    "The **backward-stepwise** selection starts with the full features then sequentially removes from the model the predictor that most improves the fit. This algorithm is illustrated as below:\n",
    "<pre><code>Initialize a set of best features f<sub>f</sub> = [1, 2, 3]\n",
    "Train a model M<sub>p</sub> using f<sub>f</sub>\n",
    "Suppose we have three features (p=3).\n",
    "Initialize a set of best features f<sub>b</sub> = f<sub>f</sub> = [1, 2, 3]\n",
    "For k in [1, 2, 3]\n",
    "    generate combinations of (len(f<sub>f</sub>) - 1) features from f<sub>b</sub> \n",
    "    fit models using these combinations\n",
    "    find the best model M<sub>k</sub> that gives the lowest error, e.g., RSS\n",
    "    assign the combination that produces the best M<sub>k</sub> as f<sub>b</sub>\n",
    "</code></pre>\n",
    "\n",
    "This algorithm is implemented as a method called `process_subset_backward`. Then we can use the same statistics as before to get the best overall model."
   ]
  },
  {
   "cell_type": "markdown",
   "metadata": {},
   "source": [
    "#### 3.3.4 Prostate Cancer Data Example\n",
    "\n",
    "Here, we try to apply the subset selection methods to the *Prostate Cancer* dataset. We wrap the three mentioned methods in a class called *SubsetSelection*.\n",
    "\n",
    "This class contains several methods:\n",
    "\n",
    "   * `fit`: to fit the model using the least squares algorithm (similar to the one in Chapter 2). In here, we'll obtain $\\hat\\beta$.\n",
    "   * `process_subset_best`: to find the best subset using the best selection method.\n",
    "   * `process_subset_forward`: to find the best subset using the forward-stepwise selection method.\n",
    "   * `process_subset_backward`: to find the best subset using the backward-stepwise selection method.\n",
    "   * `run`: to run the subset selection algoritms using our dataset. It takes `mode` (`best`, `forward`, `backward`) as an argument.\n",
    "   * `get_statistics`: to get the statistics ($Mallow's C_p$, $AIC$, $BIC$) from the $k$ best models. This method calls `get_mallow_cp`, `get_aic`, and `get_bic`.\n",
    "   * `get_mallow_cp`: it calculates the `Mallow's Cp` statistic using the following equation:\n",
    "   $$C_p = \\frac{1}{m} (RSS + 2d\\hat\\sigma^2)$$\n",
    "   \n",
    "       where $m$ is the number of datapoints, $d$ is the number of features used, and $\\hat\\sigma^2$ is given as:\n",
    "       $$\\hat\\sigma^2 = \\frac{RSS}{m-p-1}$$\n",
    "   \n",
    "       here, $RSS$ is the $RSS$ generated from the full model with $p$ features. \n",
    "       \n",
    "   * `get_aic`: it calculates the `AIC` statistic using the following equation:\n",
    "       $$AIC = \\frac{1}{m\\hat\\sigma^2} (RSS + 2d\\hat\\sigma^2)$$\n",
    "       \n",
    "   * `get_bic`: it calculates the `BIC` statistic using the following equation:\n",
    "       $$BIC = \\frac{1}{m\\hat\\sigma^2} (RSS + \\log(m)2d\\hat\\sigma^2)$$\n",
    "\n",
    "The following is the complete `SubsetSelection` class:"
   ]
  },
  {
   "cell_type": "code",
   "execution_count": 7,
   "metadata": {},
   "outputs": [],
   "source": [
    "class SubsetSelection:\n",
    "    def __init__(self, *args, **kwargs):\n",
    "        self.subsets = kwargs.get(\"subsets\", None)\n",
    "\n",
    "    def fit(self, feature_index):\n",
    "        if feature_index:\n",
    "            x_temp = self.x[:, feature_index].reshape(-1, len(feature_index))\n",
    "\n",
    "        else:\n",
    "            x_temp = np.zeros_like(self.x[:, 0]).reshape(-1, 1)\n",
    "            x_temp[:, 0] = np.nan\n",
    "\n",
    "        lsqr = LeastSquaresRegression()\n",
    "        lsqr.fit(x_temp, self.y)\n",
    "\n",
    "        return lsqr.RSS(x_temp, self.y)\n",
    "\n",
    "    def process_subset_best(self):\n",
    "        result = dict()\n",
    "        result[\"num_feat\"] = []\n",
    "        result[\"feat_subset\"] = []\n",
    "        result[\"RSS\"] = []\n",
    "        \n",
    "        for subset_size in range(len(self.subsets) + 1):\n",
    "            subset = combinations(self.subsets, subset_size)\n",
    "            subset = [list(i) for i in subset]\n",
    "            best_RSS = np.inf\n",
    "            if any(subset):\n",
    "                for feature_index in tqdm(\n",
    "                    subset,\n",
    "                    total=len(subset),\n",
    "                    desc=\"processing Best subset: {}\".format(subset_size),\n",
    "                ):\n",
    "                    RSS_temp = self.fit(feature_index)\n",
    "     \n",
    "                    result[\"RSS\"].append(RSS_temp)\n",
    "                    result[\"feat_subset\"].append(feature_index)\n",
    "                    result[\"num_feat\"].append(subset_size)\n",
    "            else:\n",
    "\n",
    "                result[\"RSS\"].append(self.fit(None))\n",
    "                result[\"feat_subset\"].append(\"intercept\")\n",
    "                result[\"num_feat\"].append(0)\n",
    "        \n",
    "        result = pd.DataFrame(result)\n",
    "        result_best = result[result.groupby('num_feat')['RSS'].transform(min) == result['RSS']]\n",
    "       \n",
    "        return result, result_best.reset_index(drop=True)\n",
    "    \n",
    "    def process_subset_forward(self):\n",
    "        result = dict()\n",
    "        result[\"num_feat\"] = []\n",
    "        result[\"feat_subset\"] = []\n",
    "        result[\"RSS\"] = []\n",
    "        \n",
    "        subsets_remaining = list(self.subsets)\n",
    "        \n",
    "        subsets_keep = []\n",
    "        for subset_size in range(len(self.subsets) + 1):\n",
    "            subset = combinations(subsets_remaining, 1)\n",
    "            subset = [list(i) for i in subset]\n",
    "            best_RSS = np.inf\n",
    "\n",
    "            if subset_size != 0:\n",
    "                for feature_index in tqdm(\n",
    "                    subset,\n",
    "                    total=len(subset),\n",
    "                    desc=\"processing Forward subset: {}\".format(subset_size),\n",
    "                ):\n",
    "                    idx_temp = subsets_keep + feature_index\n",
    "                    RSS_temp = self.fit(idx_temp)\n",
    "                    \n",
    "                    if RSS_temp < best_RSS:\n",
    "                        best_RSS = RSS_temp\n",
    "                        best_feature = feature_index[0]\n",
    "\n",
    "                subsets_keep.append(best_feature)\n",
    "                subsets_remaining.remove(best_feature)\n",
    "                result[\"RSS\"].append(best_RSS)\n",
    "                \n",
    "                subsets_keep_copy = np.sort(subsets_keep.copy())\n",
    "                result[\"feat_subset\"].append(subsets_keep_copy)\n",
    "                result[\"num_feat\"].append(subset_size)\n",
    "\n",
    "            else:\n",
    "                result[\"RSS\"].append(self.fit(None))\n",
    "                result[\"feat_subset\"].append('intercept')\n",
    "                result[\"num_feat\"].append(0)\n",
    "        \n",
    "        result = pd.DataFrame(result)\n",
    "        return result.reset_index(drop=True)\n",
    "    \n",
    "    def process_subset_backward(self):\n",
    "        result = dict()\n",
    "        result[\"num_feat\"] = []\n",
    "        result[\"feat_subset\"] = []\n",
    "        result[\"RSS\"] = []\n",
    "        \n",
    "        best_feature = list(self.subsets)\n",
    "\n",
    "        for subset_size in range(len(self.subsets) + 1):\n",
    "            subset = combinations(best_feature, len(list(self.subsets)) - subset_size)\n",
    "            subset = [list(i) for i in subset]\n",
    "            best_RSS = np.inf\n",
    "            \n",
    "            if len(list(self.subsets)) - subset_size != 0:\n",
    "                for feature_index in tqdm(\n",
    "                    subset,\n",
    "                    total=len(subset),\n",
    "                    desc=\"processing Backward subset: {}\".format(subset_size),\n",
    "                ):\n",
    "                    RSS_temp = self.fit(list(feature_index))\n",
    "                    \n",
    "                    if RSS_temp < best_RSS:\n",
    "                        best_RSS = RSS_temp\n",
    "                        best_feature = feature_index\n",
    "                                                     \n",
    "                result[\"RSS\"].append(best_RSS)\n",
    "                result[\"feat_subset\"].append(best_feature)\n",
    "                result[\"num_feat\"].append(len(best_feature))\n",
    "\n",
    "            else:\n",
    "                result[\"RSS\"].append(self.fit(None))\n",
    "                result[\"feat_subset\"].append('intercept')\n",
    "                result[\"num_feat\"].append(0)\n",
    "        \n",
    "        result = pd.DataFrame(result).sort_values(by=['num_feat'], ascending=False)\n",
    "        return result.reset_index(drop=True)\n",
    "    \n",
    "    def run(self, x, y , mode='best'):\n",
    "        if self.subsets is not None:\n",
    "            self.x = x\n",
    "            self.y = y\n",
    "            \n",
    "            if mode == 'best':\n",
    "                return self.process_subset_best()\n",
    "            \n",
    "            elif mode == 'forward':\n",
    "                return self.process_subset_forward()\n",
    "            \n",
    "            elif mode == 'backward':\n",
    "                return self.process_subset_backward()\n",
    "            \n",
    "            else:\n",
    "                print('Incorrect mode selection, available: best, forward, backward')\n",
    "                \n",
    "\n",
    "        else:\n",
    "            print(\"Subsets need to be defined!\")\n",
    "            sys.exit()\n",
    "    \n",
    "    def get_statistics(self, result):\n",
    "        result = self.get_mallow_cp(result)\n",
    "        result = self.get_aic(result)\n",
    "        result = self.get_bic(result)\n",
    "        return result\n",
    "        \n",
    "        \n",
    "    def get_mallow_cp(self, result):\n",
    "        m, p = self.x.shape\n",
    "        RSS_full = min(result['RSS'])\n",
    "        sigma_hat_squared = (1/(m - p)) * min(result['RSS'])\n",
    "        result[\"Mallow's Cp\"] = (1 / m) * (result['RSS'] + 2 * result[\"num_feat\"] * sigma_hat_squared) \n",
    "        return result\n",
    "        \n",
    "    def get_aic(self, result):\n",
    "        m, p = self.x.shape\n",
    "        RSS_full = min(result['RSS'])\n",
    "        sigma_hat_squared = (1/(m - p -1)) * min(result['RSS'])\n",
    "        result[\"AIC\"] = (1 / (m * sigma_hat_squared)) * (result['RSS'] + 2 * result[\"num_feat\"] * sigma_hat_squared) \n",
    "        return result\n",
    "        \n",
    "    def get_bic(self, result):\n",
    "        m, p = self.x.shape\n",
    "        RSS_full = min(result['RSS'])\n",
    "        sigma_hat_squared = (1/(m - p -1)) * min(result['RSS'])\n",
    "        result[\"BIC\"] = (1 / (m * sigma_hat_squared)) * (result['RSS'] + np.log(m) * result[\"num_feat\"] * sigma_hat_squared) \n",
    "        return result"
   ]
  },
  {
   "cell_type": "markdown",
   "metadata": {},
   "source": [
    "Now, we use this class to generate subsets using the three methods.\n",
    "\n",
    "First, we initialize the class:"
   ]
  },
  {
   "cell_type": "code",
   "execution_count": 8,
   "metadata": {},
   "outputs": [],
   "source": [
    "subset = SubsetSelection(subsets=np.arange(x_train.shape[1]))"
   ]
  },
  {
   "cell_type": "markdown",
   "metadata": {},
   "source": [
    "Generate subsets using best selection method:"
   ]
  },
  {
   "cell_type": "code",
   "execution_count": 9,
   "metadata": {},
   "outputs": [
    {
     "name": "stderr",
     "output_type": "stream",
     "text": [
      "processing Best subset: 1: 100%|███████████████████████████████████████████████████████| 8/8 [00:00<00:00, 3176.00it/s]\n",
      "processing Best subset: 2: 100%|█████████████████████████████████████████████████████| 28/28 [00:00<00:00, 2797.20it/s]\n",
      "processing Best subset: 3: 100%|█████████████████████████████████████████████████████| 56/56 [00:00<00:00, 2794.87it/s]\n",
      "processing Best subset: 4: 100%|█████████████████████████████████████████████████████| 70/70 [00:00<00:00, 3044.68it/s]\n",
      "processing Best subset: 5: 100%|█████████████████████████████████████████████████████| 56/56 [00:00<00:00, 2487.43it/s]\n",
      "processing Best subset: 6: 100%|█████████████████████████████████████████████████████| 28/28 [00:00<00:00, 2067.72it/s]\n",
      "processing Best subset: 7: 100%|███████████████████████████████████████████████████████| 8/8 [00:00<00:00, 1331.37it/s]\n",
      "processing Best subset: 8: 100%|███████████████████████████████████████████████████████| 1/1 [00:00<00:00, 1000.55it/s]\n"
     ]
    }
   ],
   "source": [
    "result_bs, result_bs_best = subset.run(x_train, y_train, mode='best')"
   ]
  },
  {
   "cell_type": "markdown",
   "metadata": {},
   "source": [
    "Plot the results to generate Figure 3.5"
   ]
  },
  {
   "cell_type": "code",
   "execution_count": 10,
   "metadata": {},
   "outputs": [
    {
     "data": {
      "image/png": "[encoded data removed]",
      "text/plain": [
       "<Figure size 720x504 with 1 Axes>"
      ]
     },
     "metadata": {
      "needs_background": "light"
     },
     "output_type": "display_data"
    }
   ],
   "source": [
    "plt.figure(figsize=(10, 7))\n",
    "plt.title('All possible subset models for the prostate cancer example', fontsize=18)\n",
    "plt.plot(result_bs['num_feat'], result_bs['RSS'], 'o', color='grey', markersize=5)\n",
    "plt.plot(result_bs_best['num_feat'], result_bs_best['RSS'], 'r--o', markersize=7, mfc='red', lw=1)\n",
    "plt.ylim([-2, 103])\n",
    "plt.xlabel('Subset Size k', fontsize=16)\n",
    "plt.ylabel('Residual Sum-of-Squares', rotation=90, fontsize=16)\n",
    "plt.show()"
   ]
  },
  {
   "cell_type": "markdown",
   "metadata": {},
   "source": [
    "Generate subsets using forward-stepwise selection method:"
   ]
  },
  {
   "cell_type": "code",
   "execution_count": 11,
   "metadata": {},
   "outputs": [
    {
     "name": "stderr",
     "output_type": "stream",
     "text": [
      "processing Forward subset: 1: 100%|████████████████████████████████████████████████████| 8/8 [00:00<00:00, 3181.72it/s]\n",
      "processing Forward subset: 2: 100%|████████████████████████████████████████████████████| 7/7 [00:00<00:00, 3507.78it/s]\n",
      "processing Forward subset: 3: 100%|████████████████████████████████████████████████████| 6/6 [00:00<00:00, 2998.43it/s]\n",
      "processing Forward subset: 4: 100%|████████████████████████████████████████████████████| 5/5 [00:00<00:00, 2490.09it/s]\n",
      "processing Forward subset: 5: 100%|████████████████████████████████████████████████████| 4/4 [00:00<00:00, 1995.15it/s]\n",
      "processing Forward subset: 6: 100%|████████████████████████████████████████████████████| 3/3 [00:00<00:00, 1504.05it/s]\n",
      "processing Forward subset: 7: 100%|████████████████████████████████████████████████████| 2/2 [00:00<00:00, 1995.39it/s]\n",
      "processing Forward subset: 8: 100%|█████████████████████████████████████████████████████| 1/1 [00:00<00:00, 997.22it/s]\n"
     ]
    }
   ],
   "source": [
    "result_fw_step = subset.run(x_train, y_train, mode='forward')"
   ]
  },
  {
   "cell_type": "markdown",
   "metadata": {},
   "source": [
    "Generate subsets using backward-stepwise selection method:"
   ]
  },
  {
   "cell_type": "code",
   "execution_count": 12,
   "metadata": {},
   "outputs": [
    {
     "name": "stderr",
     "output_type": "stream",
     "text": [
      "processing Backward subset: 0: 100%|████████████████████████████████████████████████████| 1/1 [00:00<00:00, 666.82it/s]\n",
      "processing Backward subset: 1: 100%|███████████████████████████████████████████████████| 8/8 [00:00<00:00, 1596.16it/s]\n",
      "processing Backward subset: 2: 100%|███████████████████████████████████████████████████| 7/7 [00:00<00:00, 1818.64it/s]\n",
      "processing Backward subset: 3: 100%|███████████████████████████████████████████████████| 6/6 [00:00<00:00, 1999.35it/s]\n",
      "processing Backward subset: 4: 100%|███████████████████████████████████████████████████| 5/5 [00:00<00:00, 1665.20it/s]\n",
      "processing Backward subset: 5: 100%|███████████████████████████████████████████████████| 4/4 [00:00<00:00, 1997.53it/s]\n",
      "processing Backward subset: 6: 100%|███████████████████████████████████████████████████| 3/3 [00:00<00:00, 2974.68it/s]\n",
      "processing Backward subset: 7: 100%|███████████████████████████████████████████████████| 2/2 [00:00<00:00, 1005.23it/s]\n"
     ]
    }
   ],
   "source": [
    "result_bw_step = subset.run(x_train, y_train, mode='backward')"
   ]
  },
  {
   "cell_type": "markdown",
   "metadata": {},
   "source": [
    "According to the book, on the prostate cancer example, best-subset, forward and backward selection all gave exactly the same sequence of terms.\n",
    "\n",
    "Let us make sure that this is the case:"
   ]
  },
  {
   "cell_type": "code",
   "execution_count": 13,
   "metadata": {},
   "outputs": [
    {
     "name": "stdout",
     "output_type": "stream",
     "text": [
      "BEST\n"
     ]
    },
    {
     "data": {
      "text/html": [
       "<div>\n",
       "<style scoped>\n",
       "    .dataframe tbody tr th:only-of-type {\n",
       "        vertical-align: middle;\n",
       "    }\n",
       "\n",
       "    .dataframe tbody tr th {\n",
       "        vertical-align: top;\n",
       "    }\n",
       "\n",
       "    .dataframe thead th {\n",
       "        text-align: right;\n",
       "    }\n",
       "</style>\n",
       "<table border=\"1\" class=\"dataframe\">\n",
       "  <thead>\n",
       "    <tr style=\"text-align: right;\">\n",
       "      <th></th>\n",
       "      <th>num_feat</th>\n",
       "      <th>feat_subset</th>\n",
       "      <th>RSS</th>\n",
       "    </tr>\n",
       "  </thead>\n",
       "  <tbody>\n",
       "    <tr>\n",
       "      <th>0</th>\n",
       "      <td>0</td>\n",
       "      <td>intercept</td>\n",
       "      <td>96.281445</td>\n",
       "    </tr>\n",
       "    <tr>\n",
       "      <th>1</th>\n",
       "      <td>1</td>\n",
       "      <td>[0]</td>\n",
       "      <td>44.528583</td>\n",
       "    </tr>\n",
       "    <tr>\n",
       "      <th>2</th>\n",
       "      <td>2</td>\n",
       "      <td>[0, 1]</td>\n",
       "      <td>37.091846</td>\n",
       "    </tr>\n",
       "    <tr>\n",
       "      <th>3</th>\n",
       "      <td>3</td>\n",
       "      <td>[0, 1, 4]</td>\n",
       "      <td>34.907749</td>\n",
       "    </tr>\n",
       "    <tr>\n",
       "      <th>4</th>\n",
       "      <td>4</td>\n",
       "      <td>[0, 1, 3, 4]</td>\n",
       "      <td>32.814995</td>\n",
       "    </tr>\n",
       "    <tr>\n",
       "      <th>5</th>\n",
       "      <td>5</td>\n",
       "      <td>[0, 1, 3, 4, 7]</td>\n",
       "      <td>32.069447</td>\n",
       "    </tr>\n",
       "    <tr>\n",
       "      <th>6</th>\n",
       "      <td>6</td>\n",
       "      <td>[0, 1, 3, 4, 5, 7]</td>\n",
       "      <td>30.539778</td>\n",
       "    </tr>\n",
       "    <tr>\n",
       "      <th>7</th>\n",
       "      <td>7</td>\n",
       "      <td>[0, 1, 2, 3, 4, 5, 7]</td>\n",
       "      <td>29.437300</td>\n",
       "    </tr>\n",
       "    <tr>\n",
       "      <th>8</th>\n",
       "      <td>8</td>\n",
       "      <td>[0, 1, 2, 3, 4, 5, 6, 7]</td>\n",
       "      <td>29.426384</td>\n",
       "    </tr>\n",
       "  </tbody>\n",
       "</table>\n",
       "</div>"
      ],
      "text/plain": [
       "   num_feat               feat_subset        RSS\n",
       "0         0                 intercept  96.281445\n",
       "1         1                       [0]  44.528583\n",
       "2         2                    [0, 1]  37.091846\n",
       "3         3                 [0, 1, 4]  34.907749\n",
       "4         4              [0, 1, 3, 4]  32.814995\n",
       "5         5           [0, 1, 3, 4, 7]  32.069447\n",
       "6         6        [0, 1, 3, 4, 5, 7]  30.539778\n",
       "7         7     [0, 1, 2, 3, 4, 5, 7]  29.437300\n",
       "8         8  [0, 1, 2, 3, 4, 5, 6, 7]  29.426384"
      ]
     },
     "execution_count": 13,
     "metadata": {},
     "output_type": "execute_result"
    }
   ],
   "source": [
    "print('BEST')\n",
    "result_bs_best"
   ]
  },
  {
   "cell_type": "code",
   "execution_count": 14,
   "metadata": {},
   "outputs": [
    {
     "name": "stdout",
     "output_type": "stream",
     "text": [
      "FORWARD\n"
     ]
    },
    {
     "data": {
      "text/html": [
       "<div>\n",
       "<style scoped>\n",
       "    .dataframe tbody tr th:only-of-type {\n",
       "        vertical-align: middle;\n",
       "    }\n",
       "\n",
       "    .dataframe tbody tr th {\n",
       "        vertical-align: top;\n",
       "    }\n",
       "\n",
       "    .dataframe thead th {\n",
       "        text-align: right;\n",
       "    }\n",
       "</style>\n",
       "<table border=\"1\" class=\"dataframe\">\n",
       "  <thead>\n",
       "    <tr style=\"text-align: right;\">\n",
       "      <th></th>\n",
       "      <th>num_feat</th>\n",
       "      <th>feat_subset</th>\n",
       "      <th>RSS</th>\n",
       "    </tr>\n",
       "  </thead>\n",
       "  <tbody>\n",
       "    <tr>\n",
       "      <th>0</th>\n",
       "      <td>0</td>\n",
       "      <td>intercept</td>\n",
       "      <td>96.281445</td>\n",
       "    </tr>\n",
       "    <tr>\n",
       "      <th>1</th>\n",
       "      <td>1</td>\n",
       "      <td>[0]</td>\n",
       "      <td>44.528583</td>\n",
       "    </tr>\n",
       "    <tr>\n",
       "      <th>2</th>\n",
       "      <td>2</td>\n",
       "      <td>[0, 1]</td>\n",
       "      <td>37.091846</td>\n",
       "    </tr>\n",
       "    <tr>\n",
       "      <th>3</th>\n",
       "      <td>3</td>\n",
       "      <td>[0, 1, 4]</td>\n",
       "      <td>34.907749</td>\n",
       "    </tr>\n",
       "    <tr>\n",
       "      <th>4</th>\n",
       "      <td>4</td>\n",
       "      <td>[0, 1, 3, 4]</td>\n",
       "      <td>32.814995</td>\n",
       "    </tr>\n",
       "    <tr>\n",
       "      <th>5</th>\n",
       "      <td>5</td>\n",
       "      <td>[0, 1, 3, 4, 7]</td>\n",
       "      <td>32.069447</td>\n",
       "    </tr>\n",
       "    <tr>\n",
       "      <th>6</th>\n",
       "      <td>6</td>\n",
       "      <td>[0, 1, 3, 4, 5, 7]</td>\n",
       "      <td>30.539778</td>\n",
       "    </tr>\n",
       "    <tr>\n",
       "      <th>7</th>\n",
       "      <td>7</td>\n",
       "      <td>[0, 1, 2, 3, 4, 5, 7]</td>\n",
       "      <td>29.437300</td>\n",
       "    </tr>\n",
       "    <tr>\n",
       "      <th>8</th>\n",
       "      <td>8</td>\n",
       "      <td>[0, 1, 2, 3, 4, 5, 6, 7]</td>\n",
       "      <td>29.426384</td>\n",
       "    </tr>\n",
       "  </tbody>\n",
       "</table>\n",
       "</div>"
      ],
      "text/plain": [
       "   num_feat               feat_subset        RSS\n",
       "0         0                 intercept  96.281445\n",
       "1         1                       [0]  44.528583\n",
       "2         2                    [0, 1]  37.091846\n",
       "3         3                 [0, 1, 4]  34.907749\n",
       "4         4              [0, 1, 3, 4]  32.814995\n",
       "5         5           [0, 1, 3, 4, 7]  32.069447\n",
       "6         6        [0, 1, 3, 4, 5, 7]  30.539778\n",
       "7         7     [0, 1, 2, 3, 4, 5, 7]  29.437300\n",
       "8         8  [0, 1, 2, 3, 4, 5, 6, 7]  29.426384"
      ]
     },
     "execution_count": 14,
     "metadata": {},
     "output_type": "execute_result"
    }
   ],
   "source": [
    "print('FORWARD')\n",
    "result_fw_step"
   ]
  },
  {
   "cell_type": "code",
   "execution_count": 15,
   "metadata": {},
   "outputs": [
    {
     "name": "stdout",
     "output_type": "stream",
     "text": [
      "BACKWARD\n"
     ]
    },
    {
     "data": {
      "text/html": [
       "<div>\n",
       "<style scoped>\n",
       "    .dataframe tbody tr th:only-of-type {\n",
       "        vertical-align: middle;\n",
       "    }\n",
       "\n",
       "    .dataframe tbody tr th {\n",
       "        vertical-align: top;\n",
       "    }\n",
       "\n",
       "    .dataframe thead th {\n",
       "        text-align: right;\n",
       "    }\n",
       "</style>\n",
       "<table border=\"1\" class=\"dataframe\">\n",
       "  <thead>\n",
       "    <tr style=\"text-align: right;\">\n",
       "      <th></th>\n",
       "      <th>num_feat</th>\n",
       "      <th>feat_subset</th>\n",
       "      <th>RSS</th>\n",
       "    </tr>\n",
       "  </thead>\n",
       "  <tbody>\n",
       "    <tr>\n",
       "      <th>0</th>\n",
       "      <td>8</td>\n",
       "      <td>[0, 1, 2, 3, 4, 5, 6, 7]</td>\n",
       "      <td>29.426384</td>\n",
       "    </tr>\n",
       "    <tr>\n",
       "      <th>1</th>\n",
       "      <td>7</td>\n",
       "      <td>[0, 1, 2, 3, 4, 5, 7]</td>\n",
       "      <td>29.437300</td>\n",
       "    </tr>\n",
       "    <tr>\n",
       "      <th>2</th>\n",
       "      <td>6</td>\n",
       "      <td>[0, 1, 3, 4, 5, 7]</td>\n",
       "      <td>30.539778</td>\n",
       "    </tr>\n",
       "    <tr>\n",
       "      <th>3</th>\n",
       "      <td>5</td>\n",
       "      <td>[0, 1, 3, 4, 7]</td>\n",
       "      <td>32.069447</td>\n",
       "    </tr>\n",
       "    <tr>\n",
       "      <th>4</th>\n",
       "      <td>4</td>\n",
       "      <td>[0, 1, 3, 4]</td>\n",
       "      <td>32.814995</td>\n",
       "    </tr>\n",
       "    <tr>\n",
       "      <th>5</th>\n",
       "      <td>3</td>\n",
       "      <td>[0, 1, 4]</td>\n",
       "      <td>34.907749</td>\n",
       "    </tr>\n",
       "    <tr>\n",
       "      <th>6</th>\n",
       "      <td>2</td>\n",
       "      <td>[0, 1]</td>\n",
       "      <td>37.091846</td>\n",
       "    </tr>\n",
       "    <tr>\n",
       "      <th>7</th>\n",
       "      <td>1</td>\n",
       "      <td>[0]</td>\n",
       "      <td>44.528583</td>\n",
       "    </tr>\n",
       "    <tr>\n",
       "      <th>8</th>\n",
       "      <td>0</td>\n",
       "      <td>intercept</td>\n",
       "      <td>96.281445</td>\n",
       "    </tr>\n",
       "  </tbody>\n",
       "</table>\n",
       "</div>"
      ],
      "text/plain": [
       "   num_feat               feat_subset        RSS\n",
       "0         8  [0, 1, 2, 3, 4, 5, 6, 7]  29.426384\n",
       "1         7     [0, 1, 2, 3, 4, 5, 7]  29.437300\n",
       "2         6        [0, 1, 3, 4, 5, 7]  30.539778\n",
       "3         5           [0, 1, 3, 4, 7]  32.069447\n",
       "4         4              [0, 1, 3, 4]  32.814995\n",
       "5         3                 [0, 1, 4]  34.907749\n",
       "6         2                    [0, 1]  37.091846\n",
       "7         1                       [0]  44.528583\n",
       "8         0                 intercept  96.281445"
      ]
     },
     "execution_count": 15,
     "metadata": {},
     "output_type": "execute_result"
    }
   ],
   "source": [
    "print('BACKWARD')\n",
    "result_bw_step"
   ]
  },
  {
   "cell_type": "markdown",
   "metadata": {},
   "source": [
    "As we can see, best-subset, forward and backward selection all gave exactly the same sequence of terms."
   ]
  },
  {
   "cell_type": "markdown",
   "metadata": {},
   "source": [
    "**NOTE**: I did not try these methods on the simulated data as presented in the book since running best-selection method for $p=30$ is just unbearable. Therefore, we just implemented these methods on the *Prostate Cancer* dataset as given in section 3.3.4."
   ]
  },
  {
   "cell_type": "code",
   "execution_count": null,
   "metadata": {},
   "outputs": [],
   "source": []
  }
 ],
 "metadata": {
  "kernelspec": {
   "display_name": "Python [conda env:esl]",
   "language": "python",
   "name": "conda-env-esl-py"
  },
  "language_info": {
   "codemirror_mode": {
    "name": "ipython",
    "version": 3
   },
   "file_extension": ".py",
   "mimetype": "text/x-python",
   "name": "python",
   "nbconvert_exporter": "python",
   "pygments_lexer": "ipython3",
   "version": "3.7.7"
  }
 },
 "nbformat": 4,
 "nbformat_minor": 4
}
