{
 "cells": [
  {
   "cell_type": "markdown",
   "metadata": {},
   "source": [
    "# Subset Selection\n",
    "\n",
    "Two reason why we are not satisfied with the least squares prediction:\n",
    "\n",
    "   * Prediction accuracy: the prediction sometimes have low bias but large variance. Setting some coefficients to zero can sometimes improve the prediction accuracy.\n",
    "   \n",
    "   * Interpretation: Large number of predictors is confusing. Sometimes we would like to find a smaller subset of predictors that has the strongest effect.\n",
    "   \n",
    "There are a number of methods to perform subset selection:\n",
    "\n",
    "   * Best-Subset Selection\n",
    "   * Forward-Stepwise Selection\n",
    "   * Backward-Stepwise Selection\n",
    "   * Forward-Stagewise Selection\n",
    "   \n",
    "Here, we implement these methods in Python."
   ]
  },
  {
   "cell_type": "markdown",
   "metadata": {},
   "source": [
    "#### Dataset\n",
    "We use *Prostate Cancer Dataset* to test our implementation"
   ]
  },
  {
   "cell_type": "code",
   "execution_count": 1,
   "metadata": {},
   "outputs": [],
   "source": [
    "import numpy as np\n",
    "import matplotlib.pyplot as plt\n",
    "import pandas as pd\n",
    "import sys\n",
    "from tqdm import tqdm\n",
    "from itertools import combinations\n",
    "from ml_datasets.esl import ProstateCancer\n",
    "from esl.utils import scale\n",
    "from esl.chapter03 import LeastSquaresRegression"
   ]
  },
  {
   "cell_type": "code",
   "execution_count": 2,
   "metadata": {},
   "outputs": [],
   "source": [
    "prostate_cancer = ProstateCancer(verbose=0)"
   ]
  },
  {
   "cell_type": "code",
   "execution_count": 3,
   "metadata": {},
   "outputs": [],
   "source": [
    "df = prostate_cancer.load()"
   ]
  },
  {
   "cell_type": "code",
   "execution_count": 4,
   "metadata": {},
   "outputs": [],
   "source": [
    "train_test = prostate_cancer.train_test\n",
    "df_x = df[prostate_cancer.meta[:-1]]\n",
    "df_y = df[prostate_cancer.meta[-1]]"
   ]
  },
  {
   "cell_type": "markdown",
   "metadata": {},
   "source": [
    "##### Scaling"
   ]
  },
  {
   "cell_type": "code",
   "execution_count": 5,
   "metadata": {},
   "outputs": [],
   "source": [
    "df_x = df_x.apply(lambda x: scale(x))"
   ]
  },
  {
   "cell_type": "code",
   "execution_count": 6,
   "metadata": {},
   "outputs": [],
   "source": [
    "x_train = df_x[train_test=='T'].values\n",
    "y_train =  df_y[train_test=='T'].values\n",
    "\n",
    "x_test = df_x[train_test=='F'].values\n",
    "y_test =  df_y[train_test=='F'].values"
   ]
  },
  {
   "cell_type": "markdown",
   "metadata": {},
   "source": [
    "#### 3.3.1 Best-Subset Selection"
   ]
  },
  {
   "cell_type": "code",
   "execution_count": 21,
   "metadata": {},
   "outputs": [],
   "source": [
    "class BestSelection:\n",
    "    def __init__(self, *args, **kwargs):\n",
    "        self.subsets = kwargs.get(\"subsets\", None)\n",
    "\n",
    "    def fit(self, feature_index):\n",
    "        if feature_index:\n",
    "            x_temp = self.x[:, feature_index].reshape(-1, len(feature_index))\n",
    "\n",
    "        else:\n",
    "            x_temp = np.zeros_like(self.x[:, 0]).reshape(-1, 1)\n",
    "            x_temp[:, 0] = np.nan\n",
    "\n",
    "        lsqr = LeastSquaresRegression()\n",
    "        lsqr.fit(x_temp, self.y)\n",
    "\n",
    "        return lsqr.RSS(x_temp, self.y)\n",
    "\n",
    "    def process_subset(self):\n",
    "        result = dict()\n",
    "        result[\"num_feat\"] = []\n",
    "        result[\"feat_subset\"] = []\n",
    "        result[\"RSS\"] = []\n",
    "        for subset_size in range(len(self.subsets) + 1):\n",
    "            subset = list(combinations(self.subsets, subset_size))\n",
    "\n",
    "            if any(subset):\n",
    "                for feature_index in tqdm(\n",
    "                    subset,\n",
    "                    total=len(subset),\n",
    "                    desc=\"processing subset: {}\".format(subset_size),\n",
    "                ):\n",
    "                    result[\"RSS\"].append(self.fit(feature_index))\n",
    "                    result[\"feat_subset\"].append(feature_index)\n",
    "                    result[\"num_feat\"].append(subset_size)\n",
    "            else:\n",
    "\n",
    "                result[\"RSS\"].append(self.fit(None))\n",
    "                result[\"feat_subset\"].append(\"intercept\")\n",
    "                result[\"num_feat\"].append(0)\n",
    "\n",
    "        return pd.DataFrame(result)\n",
    "\n",
    "    def run(self, x, y):\n",
    "        if self.subsets is not None:\n",
    "            self.x = x\n",
    "            self.y = y\n",
    "            return self.process_subset()\n",
    "\n",
    "        else:\n",
    "            print(\"Subsets need to be defined!\")\n",
    "            sys.exit()"
   ]
  },
  {
   "cell_type": "code",
   "execution_count": 22,
   "metadata": {},
   "outputs": [
    {
     "name": "stderr",
     "output_type": "stream",
     "text": [
      "processing subset: 1: 100%|████████████████████████████████████████████████████████████| 8/8 [00:00<00:00, 1599.96it/s]\n",
      "processing subset: 2: 100%|██████████████████████████████████████████████████████████| 28/28 [00:00<00:00, 1647.06it/s]\n",
      "processing subset: 3: 100%|██████████████████████████████████████████████████████████| 56/56 [00:00<00:00, 1866.76it/s]\n",
      "processing subset: 4: 100%|██████████████████████████████████████████████████████████| 70/70 [00:00<00:00, 1572.32it/s]\n",
      "processing subset: 5: 100%|██████████████████████████████████████████████████████████| 56/56 [00:00<00:00, 1333.50it/s]\n",
      "processing subset: 6: 100%|██████████████████████████████████████████████████████████| 28/28 [00:00<00:00, 1118.16it/s]\n",
      "processing subset: 7: 100%|█████████████████████████████████████████████████████████████| 8/8 [00:00<00:00, 999.24it/s]\n",
      "processing subset: 8: 100%|█████████████████████████████████████████████████████████████| 1/1 [00:00<00:00, 500.10it/s]\n"
     ]
    }
   ],
   "source": [
    "bs = BestSelection(subsets=np.arange(x_train.shape[1]))\n",
    "result_bs = bs.run(x_train, y_train)\n",
    "best_subset = result_bs[result_bs.groupby('num_feat')['RSS'].transform(min) == result_bs['RSS']]"
   ]
  },
  {
   "cell_type": "code",
   "execution_count": 23,
   "metadata": {},
   "outputs": [
    {
     "data": {
      "image/png": "[encoded data removed]",
      "text/plain": [
       "<Figure size 720x504 with 1 Axes>"
      ]
     },
     "metadata": {
      "needs_background": "light"
     },
     "output_type": "display_data"
    }
   ],
   "source": [
    "plt.figure(figsize=(10, 7))\n",
    "plt.title('All possible subset models for the prostate cancer example', fontsize=18)\n",
    "plt.plot(result_bs['num_feat'], result_bs['RSS'], 'o', color='grey', markersize=5)\n",
    "plt.plot(best_subset['num_feat'], best_subset['RSS'], 'r--o', markersize=7, mfc='red', lw=1)\n",
    "plt.ylim([-2, 103])\n",
    "plt.xlabel('Subset Size k', fontsize=16)\n",
    "plt.ylabel('Residual Sum-of-Squares', rotation=90, fontsize=16)\n",
    "plt.show()"
   ]
  },
  {
   "cell_type": "markdown",
   "metadata": {},
   "source": [
    "#### 3.3.2 Forward- and Backward-Stepwise Selection"
   ]
  },
  {
   "cell_type": "markdown",
   "metadata": {},
   "source": [
    "##### Forward-Stepwise Selection"
   ]
  },
  {
   "cell_type": "code",
   "execution_count": 55,
   "metadata": {},
   "outputs": [],
   "source": [
    "class ForwardSelection(BestSelection):\n",
    "    def __init__(self, *args, **kwargs):\n",
    "        super(ForwardSelection, self).__init__(*args, **kwargs)\n",
    "            \n",
    "    def process_subset(self):\n",
    "        result = dict()\n",
    "        result[\"num_feat\"] = []\n",
    "        result[\"feat_subset\"] = []\n",
    "        result[\"RSS\"] = []\n",
    "        \n",
    "        subsets_remaining = list(self.subsets)\n",
    "        \n",
    "        subsets_keep = []\n",
    "        for subset_size in range(len(self.subsets) + 1):\n",
    "            subset = list(combinations(subsets_remaining, 1))\n",
    "\n",
    "            best_RSS = np.inf\n",
    "            \n",
    "            if subset_size != 0:\n",
    "                for feature_index in tqdm(\n",
    "                    subset,\n",
    "                    total=len(subset),\n",
    "                    desc=\"processing Forward subset: {}\".format(subset_size),\n",
    "                ):\n",
    "                    RSS_temp = self.fit(subsets_keep + list(feature_index))\n",
    "                    \n",
    "                    if RSS_temp < best_RSS:\n",
    "                        best_RSS = RSS_temp\n",
    "                        best_feature = feature_index[0]\n",
    "\n",
    "                subsets_keep.append(best_feature)\n",
    "                subsets_remaining.remove(best_feature)\n",
    "                result[\"RSS\"].append(best_RSS)\n",
    "                \n",
    "                subsets_keep_copy = np.sort(subsets_keep.copy())\n",
    "                result[\"feat_subset\"].append(subsets_keep_copy)\n",
    "                result[\"num_feat\"].append(subset_size)\n",
    "\n",
    "            else:\n",
    "                result[\"RSS\"].append(self.fit(None))\n",
    "                result[\"feat_subset\"].append('intercept')\n",
    "                result[\"num_feat\"].append(0)\n",
    "        \n",
    "        result = pd.DataFrame(result)\n",
    "        return result\n",
    "    \n",
    "    def get_statistics(self, result):\n",
    "        result = self.get_mallow_cp(result)\n",
    "        result = self.get_aic(result)\n",
    "        result = self.get_bic(result)\n",
    "        return result\n",
    "        \n",
    "        \n",
    "    def get_mallow_cp(self, result):\n",
    "        m, p = self.x.shape\n",
    "        RSS_full = min(result['RSS'])\n",
    "        sigma_hat_squared = (1/(m - p)) * min(result['RSS'])\n",
    "        result[\"Mallow's Cp\"] = (1 / m) * (result['RSS'] + 2 * result[\"num_feat\"] * sigma_hat_squared) \n",
    "        return result\n",
    "        \n",
    "    def get_aic(self, result):\n",
    "        m, p = self.x.shape\n",
    "        RSS_full = min(result['RSS'])\n",
    "        sigma_hat_squared = (1/(m - p -1)) * min(result['RSS'])\n",
    "        result[\"AIC\"] = (1 / (m * sigma_hat_squared)) * (result['RSS'] + 2 * result[\"num_feat\"] * sigma_hat_squared) \n",
    "        return result\n",
    "        \n",
    "    def get_bic(self, result):\n",
    "        m, p = self.x.shape\n",
    "        RSS_full = min(result['RSS'])\n",
    "        sigma_hat_squared = (1/(m - p -1)) * min(result['RSS'])\n",
    "        result[\"BIC\"] = (1 / (m * sigma_hat_squared)) * (result['RSS'] + np.log(m) * result[\"num_feat\"] * sigma_hat_squared) \n",
    "        return result"
   ]
  },
  {
   "cell_type": "code",
   "execution_count": 56,
   "metadata": {},
   "outputs": [
    {
     "name": "stderr",
     "output_type": "stream",
     "text": [
      "processing Forward subset: 1: 100%|████████████████████████████████████████████████████| 8/8 [00:00<00:00, 2668.13it/s]\n",
      "processing Forward subset: 2: 100%|████████████████████████████████████████████████████| 7/7 [00:00<00:00, 1999.46it/s]\n",
      "processing Forward subset: 3: 100%|████████████████████████████████████████████████████| 6/6 [00:00<00:00, 2001.90it/s]\n",
      "processing Forward subset: 4: 100%|████████████████████████████████████████████████████| 5/5 [00:00<00:00, 2024.67it/s]\n",
      "processing Forward subset: 5: 100%|████████████████████████████████████████████████████| 4/4 [00:00<00:00, 2000.38it/s]\n",
      "processing Forward subset: 6: 100%|████████████████████████████████████████████████████| 3/3 [00:00<00:00, 2000.46it/s]\n",
      "processing Forward subset: 7: 100%|████████████████████████████████████████████████████| 2/2 [00:00<00:00, 1000.19it/s]\n",
      "processing Forward subset: 8: 100%|█████████████████████████████████████████████████████| 1/1 [00:00<00:00, 999.83it/s]"
     ]
    },
    {
     "name": "stdout",
     "output_type": "stream",
     "text": [
      "   num_feat               feat_subset        RSS\n",
      "0         0                 intercept  96.281445\n",
      "1         1                       [0]  44.528583\n",
      "2         2                    [0, 1]  37.091846\n",
      "3         3                 [0, 1, 4]  34.907749\n",
      "4         4              [0, 1, 3, 4]  32.814995\n",
      "5         5           [0, 1, 3, 4, 7]  32.069447\n",
      "6         6        [0, 1, 3, 4, 5, 7]  30.539778\n",
      "7         7     [0, 1, 2, 3, 4, 5, 7]  29.437300\n",
      "8         8  [0, 1, 2, 3, 4, 5, 6, 7]  29.426384\n",
      "     num_feat               feat_subset        RSS\n",
      "0           0                 intercept  96.281445\n",
      "1           1                      (0,)  44.528583\n",
      "9           2                    (0, 1)  37.091846\n",
      "39          3                 (0, 1, 4)  34.907749\n",
      "98          4              (0, 1, 3, 4)  32.814995\n",
      "175         5           (0, 1, 3, 4, 7)  32.069447\n",
      "230         6        (0, 1, 3, 4, 5, 7)  30.539778\n",
      "248         7     (0, 1, 2, 3, 4, 5, 7)  29.437300\n",
      "255         8  (0, 1, 2, 3, 4, 5, 6, 7)  29.426384\n",
      "   num_feat               feat_subset        RSS  Mallow's Cp       AIC  \\\n",
      "0         0                 intercept  96.281445     1.437036  2.832428   \n",
      "1         1                       [0]  44.528583     0.679494  1.339802   \n",
      "2         2                    [0, 1]  37.091846     0.583386  1.150877   \n",
      "3         3                 [0, 1, 4]  34.907749     0.565676  1.116476   \n",
      "4         4              [0, 1, 3, 4]  32.814995     0.549329  1.084761   \n",
      "5         5           [0, 1, 3, 4, 7]  32.069447     0.553089  1.092680   \n",
      "6         6        [0, 1, 3, 4, 5, 7]  30.539778     0.545146  1.077530   \n",
      "7         7     [0, 1, 2, 3, 4, 5, 7]  29.437300     0.543580  1.074948   \n",
      "8         8  [0, 1, 2, 3, 4, 5, 6, 7]  29.426384     0.558305  1.104478   \n",
      "\n",
      "        BIC  \n",
      "0  2.832428  \n",
      "1  1.372708  \n",
      "2  1.216689  \n",
      "3  1.215193  \n",
      "4  1.216385  \n",
      "5  1.257209  \n",
      "6  1.274965  \n",
      "7  1.305289  \n",
      "8  1.367724  \n"
     ]
    },
    {
     "name": "stderr",
     "output_type": "stream",
     "text": [
      "\n"
     ]
    }
   ],
   "source": [
    "fw_step = ForwardSelection(subsets=np.arange(x_train.shape[1]))\n",
    "result_fw_step = fw_step.run(x_train, y_train)\n",
    "print(result_fw_step)\n",
    "print(best_subset)\n",
    "print(fw_step.get_statistics(result_fw_step))"
   ]
  },
  {
   "cell_type": "code",
   "execution_count": 54,
   "metadata": {},
   "outputs": [
    {
     "data": {
      "image/png": "[encoded data removed]",
      "text/plain": [
       "<Figure size 720x504 with 1 Axes>"
      ]
     },
     "metadata": {
      "needs_background": "light"
     },
     "output_type": "display_data"
    }
   ],
   "source": [
    "plt.figure(figsize=(10, 7))\n",
    "plt.title('Comparison of Four Subset-Selection Techniques on a Simulated Dataset', fontsize=18)\n",
    "plt.plot(best_subset['num_feat'][result_bs['num_feat'] != 0], best_subset['RSS'][result_bs['num_feat'] != 0], 'r--o', markersize=7, mfc='red', lw=1)\n",
    "plt.plot(result_fw_step['num_feat'][result_fw_step['num_feat'] != 0], result_fw_step['RSS'][result_fw_step['num_feat'] != 0], 'b--+', markersize=7, mfc='blue', lw=1)\n",
    "plt.xlabel('Subset Size k', fontsize=16)\n",
    "plt.ylabel('Residual Sum-of-Squares', rotation=90, fontsize=16)\n",
    "plt.show()"
   ]
  },
  {
   "cell_type": "markdown",
   "metadata": {},
   "source": [
    "##### Backward-Stepwise Selection"
   ]
  },
  {
   "cell_type": "code",
   "execution_count": null,
   "metadata": {},
   "outputs": [],
   "source": []
  }
 ],
 "metadata": {
  "kernelspec": {
   "display_name": "Python [conda env:esl]",
   "language": "python",
   "name": "conda-env-esl-py"
  },
  "language_info": {
   "codemirror_mode": {
    "name": "ipython",
    "version": 3
   },
   "file_extension": ".py",
   "mimetype": "text/x-python",
   "name": "python",
   "nbconvert_exporter": "python",
   "pygments_lexer": "ipython3",
   "version": "3.7.7"
  }
 },
 "nbformat": 4,
 "nbformat_minor": 4
}
