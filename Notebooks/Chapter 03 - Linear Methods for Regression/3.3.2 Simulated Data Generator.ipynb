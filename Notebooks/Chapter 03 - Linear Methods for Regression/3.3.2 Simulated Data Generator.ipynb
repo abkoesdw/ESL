{
 "cells": [
  {
   "cell_type": "markdown",
   "metadata": {},
   "source": [
    "# 3.3.2 Data Generator\n",
    "\n",
    "This notebook contains a class that generates a simulated dataset for the regression problem $Y=X^\\top\\beta + \\epsilon$. There are $N=300$ observations on $p=31$ standard Gaussian variables, with pairwise correlations all equal to $0.85$.\n",
    "\n",
    "For $10$ of the variables, the coefficients are drawn at random from a $N(0, 0.4)$ distribution, the rest are zero.\n",
    "\n",
    "The noise $\\epsilon \\sim N(0. 6.25)$, resulting in a signal-to-noise ratio of $0.64$."
   ]
  },
  {
   "cell_type": "code",
   "execution_count": 1,
   "metadata": {},
   "outputs": [],
   "source": [
    "import numpy as np"
   ]
  },
  {
   "cell_type": "code",
   "execution_count": 2,
   "metadata": {},
   "outputs": [],
   "source": [
    "class DataGenerator:\n",
    "    def __init__(self, *args, **kwargs):\n",
    "        # data params\n",
    "        self.ndim = kwargs.get('ndim', 11)\n",
    "        self.ndata = kwargs.get('ndata', 300)\n",
    "        \n",
    "        # x params\n",
    "        self.mu_x = kwargs.get('mu_x', np.zeros(self.ndim))\n",
    "        cov = 0.85 * np.ones((self.ndim, self.ndim))\n",
    "        np.fill_diagonal(cov, 1)\n",
    "        self.cov_x = kwargs.get('cov_x', cov)\n",
    "        \n",
    "        # beta params\n",
    "        self.num_choice = kwargs.get('num_choice', 10)\n",
    "        self.mu_b = kwargs.get('mu_b', 0.0)\n",
    "        self.var_b = kwargs.get('var_b', 0.4)\n",
    "        \n",
    "        # noise params\n",
    "        self.mu_n = kwargs.get('mu_n', 0.0)\n",
    "        self.var_n = kwargs.get('var_n', 6.25)\n",
    "    \n",
    "    def get_x(self):\n",
    "        return np.random.multivariate_normal(self.mu_x, self.cov_x, self.ndata)\n",
    "    \n",
    "    def get_beta(self):\n",
    "        beta = np.zeros(self.ndim)\n",
    "        beta_index = np.arange(self.ndim)\n",
    "        \n",
    "        # this part should be uncommented if we wish to use random beta index\n",
    "        # self.choice_index = np.random.choice(beta_index, self.num_choice)\n",
    "        \n",
    "        self.choice_index = np.arange(self.num_choice)\n",
    "        beta[self.choice_index] = np.random.normal(\n",
    "            self.mu_b, \n",
    "            np.sqrt(self.var_b), \n",
    "            len(self.choice_index)\n",
    "        )\n",
    "\n",
    "        return beta\n",
    "\n",
    "    def get_noise(self):\n",
    "        return np.random.normal(self.mu_n, np.sqrt(self.var_n), self.ndata)\n",
    "    \n",
    "    def get_y(self, x, beta):\n",
    "        noise = self.get_noise()\n",
    "        y = x @ beta + noise\n",
    "        self._get_noise_var(y, noise)\n",
    "        \n",
    "        return y\n",
    "    \n",
    "    def _get_noise_var(self, y, noise):\n",
    "        self.sn = np.var(y) / np.var(noise)\n",
    "    \n",
    "    def generate(self):\n",
    "        x = self.get_x()\n",
    "        beta = self.get_beta()\n",
    "        y = self.get_y(x, beta)\n",
    "        return x, y, beta"
   ]
  },
  {
   "cell_type": "code",
   "execution_count": 3,
   "metadata": {},
   "outputs": [],
   "source": [
    "datagen = DataGenerator()\n",
    "x, y, beta = datagen.generate()"
   ]
  },
  {
   "cell_type": "code",
   "execution_count": 4,
   "metadata": {},
   "outputs": [
    {
     "name": "stdout",
     "output_type": "stream",
     "text": [
      "(300, 11) (300,) (11,)\n"
     ]
    }
   ],
   "source": [
    "print(x.shape, y.shape, beta.shape)"
   ]
  }
 ],
 "metadata": {
  "kernelspec": {
   "display_name": "Python [conda env:esl]",
   "language": "python",
   "name": "conda-env-esl-py"
  },
  "language_info": {
   "codemirror_mode": {
    "name": "ipython",
    "version": 3
   },
   "file_extension": ".py",
   "mimetype": "text/x-python",
   "name": "python",
   "nbconvert_exporter": "python",
   "pygments_lexer": "ipython3",
   "version": "3.7.7"
  }
 },
 "nbformat": 4,
 "nbformat_minor": 4
}
