{
 "cells": [
  {
   "cell_type": "code",
   "execution_count": 1,
   "metadata": {},
   "outputs": [],
   "source": [
    "import numpy as np\n",
    "import pandas as pd\n",
    "import matplotlib.pyplot as plt\n",
    "import itertools\n",
    "import sys\n",
    "import scipy.stats\n",
    "from matplotlib.ticker import FormatStrFormatter\n",
    "from ml_datasets.esl import ProstateCancer\n",
    "from esl.utils import scale"
   ]
  },
  {
   "cell_type": "code",
   "execution_count": 2,
   "metadata": {},
   "outputs": [],
   "source": [
    "prostate_cancer = ProstateCancer()"
   ]
  },
  {
   "cell_type": "code",
   "execution_count": 3,
   "metadata": {},
   "outputs": [
    {
     "name": "stdout",
     "output_type": "stream",
     "text": [
      "Retrieving ESL-Prostate_Cancer dataset...\n",
      "C:\\Users\\mzyskk\\AppData\\Local\\Temp\\ESL\\prostate.data available locally, skip downloading\n",
      "C:\\Users\\mzyskk\\AppData\\Local\\Temp\\ESL\\prostate.info.txt available locally, skip downloading\n"
     ]
    }
   ],
   "source": [
    "df = prostate_cancer.load()"
   ]
  },
  {
   "cell_type": "code",
   "execution_count": 151,
   "metadata": {},
   "outputs": [],
   "source": [
    "# extract input and output dataframe\n",
    "train_test = prostate_cancer.train_test\n",
    "df_x = df[prostate_cancer.meta[:-1]]\n",
    "df_y = df[prostate_cancer.meta[-1]]"
   ]
  },
  {
   "cell_type": "code",
   "execution_count": 152,
   "metadata": {},
   "outputs": [
    {
     "data": {
      "text/html": [
       "<div>\n",
       "<style scoped>\n",
       "    .dataframe tbody tr th:only-of-type {\n",
       "        vertical-align: middle;\n",
       "    }\n",
       "\n",
       "    .dataframe tbody tr th {\n",
       "        vertical-align: top;\n",
       "    }\n",
       "\n",
       "    .dataframe thead th {\n",
       "        text-align: right;\n",
       "    }\n",
       "</style>\n",
       "<table border=\"1\" class=\"dataframe\">\n",
       "  <thead>\n",
       "    <tr style=\"text-align: right;\">\n",
       "      <th></th>\n",
       "      <th>lcavol</th>\n",
       "      <th>lweight</th>\n",
       "      <th>age</th>\n",
       "      <th>lbph</th>\n",
       "      <th>svi</th>\n",
       "      <th>lcp</th>\n",
       "      <th>gleason</th>\n",
       "      <th>pgg45</th>\n",
       "    </tr>\n",
       "  </thead>\n",
       "  <tbody>\n",
       "    <tr>\n",
       "      <th>0</th>\n",
       "      <td>-0.579818</td>\n",
       "      <td>2.769459</td>\n",
       "      <td>50</td>\n",
       "      <td>-1.386294</td>\n",
       "      <td>0</td>\n",
       "      <td>-1.386294</td>\n",
       "      <td>6</td>\n",
       "      <td>0</td>\n",
       "    </tr>\n",
       "    <tr>\n",
       "      <th>1</th>\n",
       "      <td>-0.994252</td>\n",
       "      <td>3.319626</td>\n",
       "      <td>58</td>\n",
       "      <td>-1.386294</td>\n",
       "      <td>0</td>\n",
       "      <td>-1.386294</td>\n",
       "      <td>6</td>\n",
       "      <td>0</td>\n",
       "    </tr>\n",
       "    <tr>\n",
       "      <th>2</th>\n",
       "      <td>-0.510826</td>\n",
       "      <td>2.691243</td>\n",
       "      <td>74</td>\n",
       "      <td>-1.386294</td>\n",
       "      <td>0</td>\n",
       "      <td>-1.386294</td>\n",
       "      <td>7</td>\n",
       "      <td>20</td>\n",
       "    </tr>\n",
       "    <tr>\n",
       "      <th>3</th>\n",
       "      <td>-1.203973</td>\n",
       "      <td>3.282789</td>\n",
       "      <td>58</td>\n",
       "      <td>-1.386294</td>\n",
       "      <td>0</td>\n",
       "      <td>-1.386294</td>\n",
       "      <td>6</td>\n",
       "      <td>0</td>\n",
       "    </tr>\n",
       "    <tr>\n",
       "      <th>4</th>\n",
       "      <td>0.751416</td>\n",
       "      <td>3.432373</td>\n",
       "      <td>62</td>\n",
       "      <td>-1.386294</td>\n",
       "      <td>0</td>\n",
       "      <td>-1.386294</td>\n",
       "      <td>6</td>\n",
       "      <td>0</td>\n",
       "    </tr>\n",
       "  </tbody>\n",
       "</table>\n",
       "</div>"
      ],
      "text/plain": [
       "     lcavol   lweight  age      lbph  svi       lcp  gleason  pgg45\n",
       "0 -0.579818  2.769459   50 -1.386294    0 -1.386294        6      0\n",
       "1 -0.994252  3.319626   58 -1.386294    0 -1.386294        6      0\n",
       "2 -0.510826  2.691243   74 -1.386294    0 -1.386294        7     20\n",
       "3 -1.203973  3.282789   58 -1.386294    0 -1.386294        6      0\n",
       "4  0.751416  3.432373   62 -1.386294    0 -1.386294        6      0"
      ]
     },
     "execution_count": 152,
     "metadata": {},
     "output_type": "execute_result"
    }
   ],
   "source": [
    "# df_x = df_x.apply(lambda x: scale(x))\n",
    "df_x.head()"
   ]
  },
  {
   "cell_type": "code",
   "execution_count": 153,
   "metadata": {},
   "outputs": [],
   "source": [
    "class RidgeRegression: \n",
    "    def fit(self, x, y, lambda_):\n",
    "        # calculate beta_hat using SVD\n",
    "        u, d, vT = np.linalg.svd(x, full_matrices=False)\n",
    "        \n",
    "        # divide the equation into 3 parts because it's too long otherwise\n",
    "        inv_diag_lambda = np.linalg.inv(np.diag(d ** 2) + lambda_ *  np.eye(x.shape[1]))\n",
    "        ut_y = u.T @ (y - np.mean(y))\n",
    "        self.beta_hat = vT.T @ inv_diag_lambda @ np.diag(d) @ ut_y"
   ]
  },
  {
   "cell_type": "code",
   "execution_count": 154,
   "metadata": {},
   "outputs": [],
   "source": [
    "def calculate_lambda_given_df(x, dfs):\n",
    "    u, d, v = np.linalg.svd(x, full_matrices=False)\n",
    "    lambdas = []\n",
    "    for df in dfs:\n",
    "        lambda_prev = (x.shape[1] - df) / df\n",
    "        lambda_current = 1e6\n",
    "        diff = lambda_current - lambda_prev\n",
    "        while diff > 1e-5:\n",
    "            num = np.sum((d ** 2) / (d ** 2 + lambda_prev)) - df\n",
    "            den = np.sum((d ** 2) / ((d ** 2 + lambda_prev) ** 2))\n",
    "            lambda_current = lambda_prev + (num / den)\n",
    "            diff = lambda_current - lambda_prev\n",
    "            lambda_prev = lambda_current\n",
    "        lambdas.append(lambda_current)\n",
    "    lambdas.append(0)\n",
    "    dfs = np.append(0, dfs)\n",
    "    dfs = np.append(dfs, x.shape[1])\n",
    "    return lambdas, dfs"
   ]
  },
  {
   "cell_type": "code",
   "execution_count": 159,
   "metadata": {},
   "outputs": [],
   "source": [
    "x_train = scale(df_x[train_test=='T'])\n",
    "y_train =  df_y[train_test=='T'].values\n",
    "\n",
    "# setup df and lambda\n",
    "df_lambda = np.linspace(1, 7.2, 23)\n",
    "# df_lambda = np.append(df_lambda, 8)\n",
    "lambdas, df_lambda = calculate_lambda_given_df(x_train, df_lambda)\n",
    "\n",
    "column_names = prostate_cancer.meta[:-1]\n",
    "\n",
    "coefficients = dict()\n",
    "for lambda_ in lambdas:\n",
    "    ridgereg = RidgeRegression()\n",
    "    ridgereg.fit(x_train, y_train, lambda_)\n",
    "\n",
    "    for beta_hat_, column in zip(ridgereg.beta_hat, column_names):\n",
    "        if column in coefficients.keys():\n",
    "            coefficients[column].append(beta_hat_)\n",
    "        else:\n",
    "            coefficients[column] = [0, beta_hat_]\n",
    "\n",
    "# include when all coefficients = 0\n",
    "# df_lambda = np.append(0, df_lambda)"
   ]
  },
  {
   "cell_type": "code",
   "execution_count": 167,
   "metadata": {},
   "outputs": [
    {
     "data": {
      "image/png": "[encoded data removed]",
      "text/plain": [
       "<Figure size 576x720 with 1 Axes>"
      ]
     },
     "metadata": {
      "needs_background": "light"
     },
     "output_type": "display_data"
    }
   ],
   "source": [
    "plt.figure(figsize=(8, 10))\n",
    "for column in coefficients.keys():\n",
    "    plt.plot(df_lambda, coefficients[column], 'b-o', linewidth=1.0, markersize=3)\n",
    "    plt.annotate(column, xy=(8.2, coefficients[column][-1] - 0.01))\n",
    "\n",
    "plt.xlim([-0.3, 9.5])\n",
    "plt.ylim([-0.35, 0.73])\n",
    "plt.plot(np.linspace(-0.3, 9.5, len(df_lambda)), np.zeros_like(df_lambda), 'k--', linewidth=1.0)\n",
    "plt.plot(5 * np.ones(len(np.linspace(-0.35, 0.73))), np.linspace(-0.35, 0.73), 'r--', linewidth=1.0)\n",
    "plt.xlabel('df($\\lambda$)')\n",
    "plt.ylabel('Coefficients')\n",
    "plt.show()"
   ]
  },
  {
   "cell_type": "code",
   "execution_count": null,
   "metadata": {},
   "outputs": [],
   "source": []
  }
 ],
 "metadata": {
  "kernelspec": {
   "display_name": "Python [conda env:esl]",
   "language": "python",
   "name": "conda-env-esl-py"
  },
  "language_info": {
   "codemirror_mode": {
    "name": "ipython",
    "version": 3
   },
   "file_extension": ".py",
   "mimetype": "text/x-python",
   "name": "python",
   "nbconvert_exporter": "python",
   "pygments_lexer": "ipython3",
   "version": "3.7.7"
  }
 },
 "nbformat": 4,
 "nbformat_minor": 4
}
