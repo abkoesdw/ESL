{
 "cells": [
  {
   "cell_type": "markdown",
   "metadata": {},
   "source": [
    "# Ridge Regression\n",
    "Ridge regression shrinks the regression coefficients by imposing a penalty on their size.\n",
    "\n",
    "The criterion of the Ridge regression is given as:\n",
    "\n",
    "$$\\text{RSS}(\\lambda) = (\\mathbf{y}-\\mathbf{X}\\beta)^\\top(\\mathbf{y}-\\mathbf{X}\\beta) + \\lambda\\beta^\\top\\beta$$\n",
    "\n",
    "minimizing this criterion w.r.t $\\beta$ gives:\n",
    "\n",
    "$$\\hat\\beta_{ridge} = (\\mathbf{X}^\\top\\mathbf{X} + \\lambda\\mathbf{I})^{-1} \\mathbf{X}^\\top \\mathbf{y}$$\n",
    "\n",
    "##### proof:\n",
    "\n",
    "$$\\begin{aligned}\n",
    "\\text{RSS}(\\lambda) &= (\\mathbf{y}-\\mathbf{X}\\beta)^\\top(\\mathbf{y}-\\mathbf{X}\\beta) + \\lambda\\beta^\\top\\beta\\\\\n",
    "&= (\\mathbf{y}^\\top-\\beta^\\top\\mathbf{X}^\\top)(\\mathbf{y}-\\mathbf{X}\\beta) + \\lambda\\beta^\\top\\beta\\\\\n",
    "&= \\mathbf{y}^\\top\\mathbf{y} - \\mathbf{y}^\\top\\mathbf{x}\\beta-\\beta^\\top\\mathbf{x}^\\top\\mathbf{y} + \\beta^\\top\\mathbf{x}^\\top\\mathbf{x}\\beta + \\lambda\\beta^\\top\\beta\\\\\n",
    "&= \\mathbf{y}^\\top\\mathbf{y} - 2\\mathbf{y}^\\top\\mathbf{x}\\beta + \\beta^\\top\\mathbf{x}^\\top\\mathbf{x}\\beta + \\lambda\\beta^\\top\\beta\n",
    "\\end{aligned}$$\n",
    "\n",
    "minimizing this w.r.t $\\beta$ and equating to $0$:\n",
    "\n",
    "$$\\begin{aligned}\n",
    "\\frac{\\partial RSS}{\\partial \\beta} &= 0 = 0-2\\mathbf{X}^\\top\\mathbf{y} +(\\mathbf{X}^\\top\\mathbf{X} + \\mathbf{X}^\\top\\mathbf{X})\\beta + 2\\lambda\\beta\\\\\n",
    "&=-\\mathbf{X}^\\top\\mathbf{y} + (\\mathbf{X}^\\top\\mathbf{X} + \\lambda\\mathbf{I})\\beta\\\\\n",
    "\\hat\\beta_{ridge} &= (\\mathbf{X}^\\top\\mathbf{X} + \\lambda\\mathbf{I})^{-1}\\mathbf{X}^\\top\\mathbf{y}\n",
    "\\end{aligned}$$\n",
    "\n",
    "The *Singular Value Decomposition* (SVD) of the centered input matrix $\\mathbf{X}$ gives us some additional insight into the analysis of many statistical methods. The SVD of $\\mathbf{X}$ has the form:\n",
    "\n",
    "$$\\mathbf{X}=\\mathbf{U}\\mathbf{D}\\mathbf{V}^\\top$$\n",
    "\n",
    "wher $\\mathbf{U}$ and $\\mathbf{V}$ are $N\\times p$ and $p\\times p$ orthogonal matrices, and $\\mathbf{D}$ is a $p\\times p$ diagonal matrix, with entries $d_1\\geq d_2\\geq \\cdots \\geq d_p \\geq 0$, called the singular values of $\\mathbf{X}$.\n",
    "\n",
    "**NOTE**: properties of an orthogonal matrix $\\mathbf{Q}$:\n",
    "$$\\mathbf{Q}^\\top\\mathbf{Q} = \\mathbf{Q}\\mathbf{Q}^\\top = \\mathbf{I}\\\\\n",
    "\\mathbf{Q}^\\top = \\mathbf{Q}^{-1}$$\n",
    "\n",
    "Using the SVD, the ridge prediction can be presented as follows:\n",
    "\n",
    "$$\\begin{aligned}\n",
    "\\mathbf{X}\\hat\\beta_{ridge} = \\mathbf{U}\\mathbf{D}(\\mathbf{D}^2 + \\lambda\\mathbf{I})^{-1}\\mathbf{D}\\mathbf{U}^\\top\\mathbf{y}\n",
    "\\end{aligned}$$\n",
    "\n",
    "##### proof: \n",
    "we are going to do some cancellations using the orthogonal and diagonal properties:\n",
    "\n",
    "$$\\begin{aligned}\n",
    "\\mathbf{X}\\hat\\beta_{ridge} &= \\mathbf{X}(\\mathbf{X}^\\top\\mathbf{X} + \\lambda\\mathbf{I})^{-1}\\mathbf{X}^\\top\\mathbf{y}\\\\\n",
    "&=\\mathbf{U}\\mathbf{D}\\mathbf{V}^\\top \\left((\\mathbf{U}\\mathbf{D}\\mathbf{V}^\\top)^\\top(\\mathbf{U}\\mathbf{D}\\mathbf{V}^\\top) + \\lambda\\mathbf{I}\\right)^{-1}(\\mathbf{U}\\mathbf{D}\\mathbf{V}^\\top)^\\top\\mathbf{y}\\\\\n",
    "&=\\mathbf{U}\\mathbf{D}\\mathbf{V}^\\top \\left(\\mathbf{V}\\mathbf{D}\\mathbf{U}^\\top\\mathbf{U}\\mathbf{D}\\mathbf{V}^\\top + \\lambda\\mathbf{I}\\right)^{-1}(\\mathbf{V}\\mathbf{D}\\mathbf{U}^\\top)\\mathbf{y}\\\\\n",
    "&=\\mathbf{U}\\mathbf{D}\\mathbf{V}^\\top \\left(\\mathbf{V}\\mathbf{D}^2\\mathbf{V}^\\top + \\lambda\\mathbf{I}\\right)^{-1}(\\mathbf{V}\\mathbf{D}\\mathbf{U}^\\top)\\mathbf{y}\\\\\n",
    "&=\\mathbf{U}\\mathbf{D}\\mathbf{V}^\\top \\left(\\mathbf{V}\\mathbf{D}^2\\mathbf{V}^\\top + \\mathbf{V}\\lambda\\mathbf{I}\\mathbf{V}^\\top\\right)^{-1}(\\mathbf{V}\\mathbf{D}\\mathbf{U}^\\top)\\mathbf{y}\\\\\n",
    "&=\\mathbf{U}\\mathbf{D}\\mathbf{V}^\\top \\left(\\mathbf{V}(\\mathbf{D}^2 + \\lambda\\mathbf{I})\\mathbf{V}^\\top\\right)^{-1}(\\mathbf{V}\\mathbf{D}\\mathbf{U}^\\top)\\mathbf{y}\\\\\n",
    "&=\\mathbf{U}\\mathbf{D}\\mathbf{V}^\\top \\underbrace{(\\mathbf{V}^\\top)^{-1}}_{\\mathbf{V}}(\\mathbf{D}^2 + \\lambda\\mathbf{I})^{-1}\\underbrace{\\mathbf{V}^{-1}}_{\\mathbf{V}^\\top}\\mathbf{V}\\mathbf{D}\\mathbf{U}^\\top\\mathbf{y}\\\\\n",
    "&=\\mathbf{U}\\mathbf{D}(\\mathbf{D}^2 + \\lambda\\mathbf{I})^{-1}\\mathbf{D}\\mathbf{U}^\\top\\mathbf{y}\n",
    "\\end{aligned}$$\n",
    "\n",
    "which can be rewritten as :\n",
    "\n",
    "$$\\mathbf{X}\\hat\\beta_{ridge} = \\sum_{j=1}^{p} \\mathbf{u}_j \\frac{d_j^2}{d_j^2 + \\lambda}\\mathbf{u}_j^\\top \\mathbf{y}$$\n",
    "\n",
    "where $\\mathbf{u}_j$  are the columns of $\\mathbf{U}$."
   ]
  },
  {
   "cell_type": "markdown",
   "metadata": {},
   "source": [
    "#### Pyton Implementation\n",
    "\n",
    "First, we load the necessary packages and dataset."
   ]
  },
  {
   "cell_type": "code",
   "execution_count": 1,
   "metadata": {},
   "outputs": [],
   "source": [
    "import numpy as np\n",
    "import pandas as pd\n",
    "import matplotlib.pyplot as plt\n",
    "import itertools\n",
    "import sys\n",
    "import scipy.stats\n",
    "from matplotlib.ticker import FormatStrFormatter\n",
    "from ml_datasets.esl import ProstateCancer\n",
    "from esl.utils import scale"
   ]
  },
  {
   "cell_type": "code",
   "execution_count": 2,
   "metadata": {},
   "outputs": [],
   "source": [
    "prostate_cancer = ProstateCancer(verbose=0)"
   ]
  },
  {
   "cell_type": "code",
   "execution_count": 3,
   "metadata": {},
   "outputs": [],
   "source": [
    "df = prostate_cancer.load()"
   ]
  },
  {
   "cell_type": "code",
   "execution_count": 4,
   "metadata": {},
   "outputs": [],
   "source": [
    "# extract input and output dataframe\n",
    "train_test = prostate_cancer.train_test\n",
    "df_x = df[prostate_cancer.meta[:-1]]\n",
    "df_y = df[prostate_cancer.meta[-1]]\n",
    "\n",
    "x_train = scale(df_x[train_test=='T'].copy()).values\n",
    "y_train =  df_y[train_test=='T'].copy().values"
   ]
  },
  {
   "cell_type": "markdown",
   "metadata": {},
   "source": [
    "Prepare the scaling class:"
   ]
  },
  {
   "cell_type": "code",
   "execution_count": 5,
   "metadata": {},
   "outputs": [],
   "source": [
    "class Scale:\n",
    "    def fit_transform(self, x):\n",
    "        self.mean = x.mean(axis=0, keepdims=True)\n",
    "        self.stdev = x.std(axis=0, keepdims=True, ddof=0)\n",
    "        return np.divide(np.subtract(x, self.mean), self.stdev)\n",
    "    \n",
    "    def transform(self, x):\n",
    "        return np.divide(np.subtract(x, self.mean), self.stdev)"
   ]
  },
  {
   "cell_type": "markdown",
   "metadata": {},
   "source": [
    "Next, we build the `RidgeRegression` class based on the SVD.\n",
    "\n",
    "This class contains several methods:\n",
    "\n",
    "   * `fit`: to fit the model using the SVD-based ridge regression algorithm. Here, we'll obtain $\\hat\\beta_{ridge}$.\n",
    "   * `predict`: to perform prediction using the computed $\\hat\\beta_{ridge}$.\n",
    "   * `RSS`: to calculate the RSS.\n",
    "   * `MRSS`: to calculate the mean RSS.\n",
    "\n",
    "The following is the complete `RidgeRegression` class:"
   ]
  },
  {
   "cell_type": "code",
   "execution_count": 6,
   "metadata": {},
   "outputs": [],
   "source": [
    "class RidgeRegression: \n",
    "    def fit(self, x, y, lambda_):\n",
    "        # calculate beta_hat using SVD\n",
    "        self.u, self.d, self.vT = np.linalg.svd(x, full_matrices=False)\n",
    "\n",
    "        # divide the equation into 3 parts because it's too long otherwise\n",
    "        self.diag_mat = np.diag(self.d)\n",
    "        self.inv_diag_lambda = np.linalg.inv(self.diag_mat ** 2 + lambda_ *  np.eye(x.shape[1]))\n",
    "        self.ut_y = self.u.T @ y\n",
    "        self.beta_hat = self.vT.T @ self.inv_diag_lambda @ self.diag_mat @ self.ut_y\n",
    "    \n",
    "    def predict(self, x):\n",
    "        return x @ self.beta_hat\n",
    "    \n",
    "    def RSS(self, x, y):\n",
    "        y_hat = x @ self.beta_hat\n",
    "        return ((y - y_hat).T @ (y - y_hat))\n",
    "    \n",
    "    def MRSS(self, x, y):\n",
    "        y_hat = x @ self.beta_hat\n",
    "        return ((y - y_hat).T @ (y - y_hat)) / len(y)"
   ]
  },
  {
   "cell_type": "markdown",
   "metadata": {},
   "source": [
    "#### Cross-Validation to find the best $\\lambda$\n",
    "\n",
    "In the book, to find the best $\\lambda$, we need to perform cross validation on the training data. Here, I build my own method to partition the data into $k$-folds. It returns a dictionary of train and test sets for every fold:"
   ]
  },
  {
   "cell_type": "code",
   "execution_count": 7,
   "metadata": {},
   "outputs": [],
   "source": [
    "def kfold(x, y, nfold=10):\n",
    "    num_data = len(y)\n",
    "    index = np.arange(num_data)\n",
    "    np.random.seed(2)\n",
    "    np.random.shuffle(index)\n",
    "    \n",
    "    num_data = len(y)\n",
    "    avg = len(index) / float(nfold)\n",
    "    last = 0.0\n",
    "    \n",
    "    x_dict = dict()\n",
    "    y_dict = dict()\n",
    "    \n",
    "    i = 0\n",
    "    while last < num_data:\n",
    "        index_val = index[int(last):int(last + avg)]\n",
    "        index_train = np.array([j for j in range(num_data) if j not in index_val])\n",
    "        \n",
    "        y_dict[i] = {'train': y[index_train], 'val': y[index_val]}\n",
    "        x_dict[i] = {'train': x[index_train, :], 'val': x[index_val, :]}\n",
    "        \n",
    "        last += avg\n",
    "        i += 1\n",
    "    \n",
    "    return x_dict, y_dict"
   ]
  },
  {
   "cell_type": "markdown",
   "metadata": {},
   "source": [
    "The cross-validation plot presented in the book (Figure 3.7), requires $df(\\lambda)$ in the $x$ axis and CV error (MSE) in the $y$ axis. As we know from the book:\n",
    "\n",
    "$$df(\\lambda) = \\sum_{j=1}^p \\frac{d_j^2}{d_j^2 + \\lambda}$$\n",
    "\n",
    "There are two things we need to consider before we proceed:\n",
    "   * To have nice plots as the one in the book, we need to specify $df(\\lambda)$.\n",
    "   * To train the model, we need $\\lambda$ instead of $df(\\lambda)$.\n",
    "   \n",
    "Therefore, we need to calculate $\\lambda$ given the $df(\\lambda)$. Note that there is no closed-form solution to the above equation. However, there is a structure present which can be used to produce solutions using standard root-finding methods. Here, we use *Newton-Rapshon* algorithm to find $\\lambda$ (refer to this post on [StackExchange](https://stats.stackexchange.com/questions/8309/how-to-calculate-regularization-parameter-in-ridge-regression-given-degrees-of-f)). Below is the python implementation of the algorithm adapted from the Matlab code available in the post."
   ]
  },
  {
   "cell_type": "code",
   "execution_count": 8,
   "metadata": {},
   "outputs": [],
   "source": [
    "def calculate_lambda_given_df(x, df_lambda):\n",
    "    u, d, v = np.linalg.svd(x, full_matrices=False)\n",
    "    lambdas = []\n",
    "    \n",
    "    for df in df_lambda:\n",
    "        lambda_prev = (x.shape[1] - df) / df\n",
    "        lambda_current = 1e6\n",
    "        diff = lambda_current - lambda_prev\n",
    "        \n",
    "        while diff > 1e-5:\n",
    "            num = np.sum((d ** 2) / (d ** 2 + lambda_prev)) - df\n",
    "            den = np.sum((d ** 2) / ((d ** 2 + lambda_prev) ** 2))\n",
    "            lambda_current = lambda_prev + (num / den)\n",
    "            diff = lambda_current - lambda_prev\n",
    "            lambda_prev = lambda_current\n",
    "        lambdas.append(lambda_current)\n",
    "    \n",
    "    # append 0 at the end to include df = 8\n",
    "    lambdas.append(0)\n",
    "    \n",
    "    # append inf at the beginning to include df = 0\n",
    "    full_lambdas = [np.inf] + lambdas\n",
    "    \n",
    "    # append 0 at the beginning to include lambda=inf\n",
    "    df_lambda = np.append(0, df_lambda)\n",
    "    \n",
    "    # append df=8 at the end\n",
    "    df_lambda = np.append(df_lambda, x.shape[1])\n",
    "    \n",
    "    return full_lambdas, df_lambda"
   ]
  },
  {
   "cell_type": "markdown",
   "metadata": {},
   "source": [
    "Specify a range of $df(\\lambda)$ and use it to generate $\\lambda$:"
   ]
  },
  {
   "cell_type": "code",
   "execution_count": 9,
   "metadata": {},
   "outputs": [],
   "source": [
    "df_lambda_cv = np.linspace(1, 7, 7)\n",
    "lambdas_cv, df_lambda_cv = calculate_lambda_given_df(x_train, df_lambda_cv)"
   ]
  },
  {
   "cell_type": "markdown",
   "metadata": {},
   "source": [
    "Generate data for $10$-fold cross validation:"
   ]
  },
  {
   "cell_type": "code",
   "execution_count": 10,
   "metadata": {},
   "outputs": [],
   "source": [
    "x_dict, y_dict = kfold(x_train, y_train, nfold=10)"
   ]
  },
  {
   "cell_type": "markdown",
   "metadata": {},
   "source": [
    "Here is the main loop to perform cross validation. For every $\\lambda$, we perform training on the 10 folds and record the MSE:"
   ]
  },
  {
   "cell_type": "code",
   "execution_count": 11,
   "metadata": {},
   "outputs": [],
   "source": [
    "RSS = dict()\n",
    "MRSS = dict()\n",
    "\n",
    "for lambda_, df_lambda_ in zip(lambdas_cv, df_lambda_cv):\n",
    "    RSS_temp = []\n",
    "    MRSS_temp = []\n",
    "    \n",
    "    for fold in x_dict.keys():\n",
    "        if lambda_ == np.inf:\n",
    "            x_train_temp = x_dict[fold]['train'].copy()\n",
    "            x_train_temp = np.ones((len(x_train_temp), 1))\n",
    "\n",
    "            x_val_temp = x_dict[fold]['val'].copy()\n",
    "            x_val_temp = np.ones((len(x_val_temp), 1))                \n",
    "                            \n",
    "            y_train_temp = y_dict[fold]['train'].copy()\n",
    "            y_train_mean = np.mean(y_train_temp)\n",
    "            \n",
    "            y_train_temp = y_train_temp - y_train_mean\n",
    "            y_val_temp = y_dict[fold]['val'].copy() - y_train_mean\n",
    "            \n",
    "        else:\n",
    "            sc = Scale()\n",
    "            x_train_temp = x_dict[fold]['train'].copy()\n",
    "            x_train_temp = np.hstack([np.ones((len(x_train_temp), 1)), x_train_temp])\n",
    "            \n",
    "            x_val_temp = x_dict[fold]['val'].copy()\n",
    "            x_val_temp = np.hstack([np.ones((len(x_val_temp), 1)), x_val_temp])\n",
    "            \n",
    "            y_train_temp = y_dict[fold]['train'].copy()\n",
    "            y_train_mean = np.mean(y_train_temp)\n",
    "            \n",
    "            y_train_temp = y_train_temp - y_train_mean\n",
    "            y_val_temp = y_dict[fold]['val'].copy() - y_train_mean\n",
    "        \n",
    "        ridgereg = RidgeRegression()\n",
    "        ridgereg.fit(x_train_temp, y_train_temp, lambda_)\n",
    "            \n",
    "        error = ridgereg.RSS(x_val_temp, y_val_temp)\n",
    "        merror = ridgereg.MRSS(x_val_temp, y_val_temp)\n",
    "        RSS_temp.append(error)\n",
    "        MRSS_temp.append(merror)\n",
    "        \n",
    "    RSS[df_lambda_] = RSS_temp\n",
    "    MRSS[df_lambda_] = MRSS_temp"
   ]
  },
  {
   "cell_type": "markdown",
   "metadata": {},
   "source": [
    "**Note**: The cross-validation algorithm requires randomly generating data indices; therefore, the performance of the training depends on the randomly partitioned data.\n",
    "\n",
    "We use the *one-standard error* rule to choose the most parsimonious model whose error is no more than one standard error above the error of the best model. The code below does this:"
   ]
  },
  {
   "cell_type": "code",
   "execution_count": 12,
   "metadata": {},
   "outputs": [],
   "source": [
    "x_cv = np.array(list(RSS.keys()))\n",
    "\n",
    "# calculate the mean of MSE from the 10-fold cross validation\n",
    "y_cv_mean = np.array([np.mean(MRSS[key]) for key in MRSS.keys()])\n",
    "\n",
    "# calculate the standard error\n",
    "y_cv_std = np.array([np.std(MRSS[key])/ (np.sqrt(len(MRSS[key]))) for key in MRSS.keys()])\n",
    "\n",
    "# find the most parsimonious model\n",
    "upper_bound = np.min(y_cv_mean) + y_cv_std[np.argmin(y_cv_mean)]\n",
    "best_df = np.min(np.where(y_cv_mean <= upper_bound)[0])"
   ]
  },
  {
   "cell_type": "markdown",
   "metadata": {},
   "source": [
    "Now, we plot the cross validation error on every defined $df(\\lambda)$ (Figure 3.7):"
   ]
  },
  {
   "cell_type": "code",
   "execution_count": 13,
   "metadata": {},
   "outputs": [
    {
     "data": {
      "image/png": "[encoded data removed]",
      "text/plain": [
       "<Figure size 576x432 with 1 Axes>"
      ]
     },
     "metadata": {
      "needs_background": "light"
     },
     "output_type": "display_data"
    }
   ],
   "source": [
    "plt.figure(figsize=(8, 6))\n",
    "plt.errorbar(x_cv, y_cv_mean, yerr=y_cv_std, capsize=5, ecolor='C0', color='C1', elinewidth=1, linewidth=1, marker='o', markersize=5)\n",
    "x_cvv = np.linspace(-0.4, 8.4, 20)\n",
    "y_cvv = np.linspace(0.4, 1.8, 20)\n",
    "\n",
    "plt.plot(x_cvv, upper_bound * np.ones(len(x_cvv)), '--', color='purple', linewidth=1)\n",
    "plt.plot(best_df * np.ones(len(y_cvv)), y_cvv, '--', color='purple', linewidth=1)\n",
    "\n",
    "plt.xlim([-0.4, 8.4])\n",
    "plt.ylim([0.45, 1.8])\n",
    "plt.xlabel('Degrees of Freedom')\n",
    "plt.ylabel('CV Error')\n",
    "plt.show()"
   ]
  },
  {
   "cell_type": "markdown",
   "metadata": {},
   "source": [
    "This result is obtained after carefully choosing the `seed` in the cross validation. Sometimes, for different `seed`, we obtain the best model at $df(\\lambda)=4$. Also, the standard error here is calculated based using $\\frac{\\sigma}{\\sqrt(N)}$, where $N$ is the number of data to calculate the mean. So, the standard error bars might not be exactly like the ones in the book."
   ]
  },
  {
   "cell_type": "markdown",
   "metadata": {},
   "source": [
    "#### Profile of Ridge Coefficients\n",
    "\n",
    "This section aims to reproduce Figure 3.8. It requires us to generate more $\\lambda$ for the given range of $df(\\lambda)$."
   ]
  },
  {
   "cell_type": "code",
   "execution_count": 14,
   "metadata": {},
   "outputs": [],
   "source": [
    "# setup df and lambda\n",
    "df_lambda = np.linspace(1, 7.2, 23)\n",
    "lambdas, df_lambda = calculate_lambda_given_df(x_train, df_lambda)\n",
    "\n",
    "column_names = prostate_cancer.meta[:-1]\n",
    "\n",
    "coefficients = dict()\n",
    "for lambda_ in lambdas:\n",
    "    ridgereg = RidgeRegression()\n",
    "    ridgereg.fit(x_train, y_train, lambda_)\n",
    "\n",
    "    for beta_hat_, column in zip(ridgereg.beta_hat, column_names):\n",
    "        if np.isnan(beta_hat_):\n",
    "            beta_hat_ = 0\n",
    "            \n",
    "        if column in coefficients.keys():\n",
    "            coefficients[column].append(beta_hat_)\n",
    "        else:\n",
    "            coefficients[column] = [beta_hat_]"
   ]
  },
  {
   "cell_type": "markdown",
   "metadata": {},
   "source": [
    "Now, we plot the profiles of the ridge coefficients. We added a vertical line at $df(\\lambda)=0.5$, the value chosen by cross-validation:"
   ]
  },
  {
   "cell_type": "code",
   "execution_count": 15,
   "metadata": {},
   "outputs": [
    {
     "data": {
      "image/png": "[encoded data removed]",
      "text/plain": [
       "<Figure size 648x720 with 1 Axes>"
      ]
     },
     "metadata": {
      "needs_background": "light"
     },
     "output_type": "display_data"
    }
   ],
   "source": [
    "plt.figure(figsize=(9, 10))\n",
    "\n",
    "for column in coefficients.keys():\n",
    "    plt.plot(df_lambda, coefficients[column], 'b-o', linewidth=1.0, markersize=3)\n",
    "    plt.annotate(column, xy=(8.2, coefficients[column][-1] - 0.01))\n",
    "\n",
    "# plt.plot(df_lambda, RSS)\n",
    "plt.xlim([-0.3, 9.5])\n",
    "plt.ylim([-0.35, 0.73])\n",
    "plt.plot(np.linspace(-0.3, 9.5, len(df_lambda)), np.zeros_like(df_lambda), 'k--', linewidth=1.0)\n",
    "plt.plot(5 * np.ones(len(np.linspace(-0.35, 0.73))), np.linspace(-0.35, 0.73), 'r--', linewidth=1.0)\n",
    "plt.xlabel('df($\\lambda$)')\n",
    "plt.ylabel('Coefficients')\n",
    "plt.show()"
   ]
  },
  {
   "cell_type": "code",
   "execution_count": null,
   "metadata": {},
   "outputs": [],
   "source": []
  }
 ],
 "metadata": {
  "kernelspec": {
   "display_name": "Python [conda env:esl]",
   "language": "python",
   "name": "conda-env-esl-py"
  },
  "language_info": {
   "codemirror_mode": {
    "name": "ipython",
    "version": 3
   },
   "file_extension": ".py",
   "mimetype": "text/x-python",
   "name": "python",
   "nbconvert_exporter": "python",
   "pygments_lexer": "ipython3",
   "version": "3.7.7"
  }
 },
 "nbformat": 4,
 "nbformat_minor": 4
}
