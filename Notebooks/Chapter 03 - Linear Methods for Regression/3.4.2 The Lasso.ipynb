{
 "cells": [
  {
   "cell_type": "code",
   "execution_count": 1,
   "metadata": {},
   "outputs": [],
   "source": [
    "import numpy as np\n",
    "import pandas as pd\n",
    "import matplotlib.pyplot as plt\n",
    "import itertools\n",
    "import sys\n",
    "import scipy.stats\n",
    "from matplotlib.ticker import FormatStrFormatter\n",
    "from ml_datasets.esl import ProstateCancer\n",
    "from esl.utils import scale"
   ]
  },
  {
   "cell_type": "code",
   "execution_count": 2,
   "metadata": {},
   "outputs": [],
   "source": [
    "prostate_cancer = ProstateCancer(verbose=0)"
   ]
  },
  {
   "cell_type": "code",
   "execution_count": 3,
   "metadata": {},
   "outputs": [],
   "source": [
    "df = prostate_cancer.load()\n",
    "# extract input and output dataframe\n",
    "train_test = prostate_cancer.train_test\n",
    "df_x = df[prostate_cancer.meta[:-1]]\n",
    "df_y = df[prostate_cancer.meta[-1]]\n",
    "\n",
    "x_train = scale(df_x[train_test=='T'].copy()).values\n",
    "y_train =  df_y[train_test=='T'].copy().values"
   ]
  },
  {
   "cell_type": "code",
   "execution_count": 4,
   "metadata": {},
   "outputs": [],
   "source": [
    "def kfold(x, y, nfold=10):\n",
    "    num_data = len(y)\n",
    "    index = np.arange(num_data)\n",
    "    np.random.seed(2)\n",
    "    np.random.shuffle(index)\n",
    "    \n",
    "    num_data = len(y)\n",
    "    avg = len(index) / float(nfold)\n",
    "    last = 0.0\n",
    "    \n",
    "    x_dict = dict()\n",
    "    y_dict = dict()\n",
    "    \n",
    "    i = 0\n",
    "    while last < num_data:\n",
    "        index_val = index[int(last):int(last + avg)]\n",
    "#         print(last, avg, int(last + avg))\n",
    "        index_train = np.array([j for j in range(num_data) if j not in index_val])\n",
    "        \n",
    "        y_dict[9 - i] = {'train': y[index_train], 'val': y[index_val]}\n",
    "        x_dict[9 - i] = {'train': x[index_train, :], 'val': x[index_val, :]}\n",
    "        \n",
    "        last += avg\n",
    "        i += 1\n",
    "    \n",
    "    return x_dict, y_dict"
   ]
  },
  {
   "cell_type": "code",
   "execution_count": 5,
   "metadata": {},
   "outputs": [],
   "source": [
    "# x_dict, y_dict = kfold(x_train, y_train, nfold=10)"
   ]
  },
  {
   "cell_type": "code",
   "execution_count": null,
   "metadata": {},
   "outputs": [],
   "source": [
    "# class Lasso:\n",
    "    \n",
    "#     def fit(self, x , y):\n",
    "        "
   ]
  },
  {
   "cell_type": "code",
   "execution_count": 30,
   "metadata": {},
   "outputs": [],
   "source": [
    "r = y_train - np.mean(y_train)\n",
    "beta_hat = np.zeros(x_train.shape[1])\n",
    "A = np.zeros_like(x_train)\n",
    "delta = np.zeros_like(beta_hat)\n",
    "f = np.zeros_like(y_train)\n",
    "alpha = 0.95"
   ]
  },
  {
   "cell_type": "code",
   "execution_count": 36,
   "metadata": {},
   "outputs": [],
   "source": [
    "for k in np.arange(1, x_train.shape[1] + 1):\n",
    "    corr = x_train.T @ r\n",
    "\n",
    "    corr_best_idx = np.argmax(corr)\n",
    "    A[:, corr_best_idx] = x_train[:, corr_best_idx]\n",
    "    \n",
    "    delta[corr_best_idx] = A[:, corr_best_idx].T @ r\n",
    "    \n",
    "    beta_hat[corr_best_idx]  = beta_hat[corr_best_idx]  + alpha * delta[corr_best_idx] \n",
    "\n",
    "    f = A[:, corr_best_idx] * beta_hat[corr_best_idx]\n",
    "    \n",
    "    r = r - f\n",
    "    \n",
    "    u = A[:, corr_best_idx] * delta[corr_best_idx]\n",
    "    f = f + alpha * u"
   ]
  },
  {
   "cell_type": "code",
   "execution_count": 34,
   "metadata": {},
   "outputs": [
    {
     "name": "stdout",
     "output_type": "stream",
     "text": [
      "[ 1.11881477e+02 -1.16249216e+17  0.00000000e+00  3.74581278e+05\n",
      "  2.26675088e+05  0.00000000e+00  5.87804135e+16  0.00000000e+00]\n"
     ]
    }
   ],
   "source": [
    "print(beta_hat)"
   ]
  },
  {
   "cell_type": "code",
   "execution_count": null,
   "metadata": {},
   "outputs": [],
   "source": []
  }
 ],
 "metadata": {
  "kernelspec": {
   "display_name": "Python [conda env:esl]",
   "language": "python",
   "name": "conda-env-esl-py"
  },
  "language_info": {
   "codemirror_mode": {
    "name": "ipython",
    "version": 3
   },
   "file_extension": ".py",
   "mimetype": "text/x-python",
   "name": "python",
   "nbconvert_exporter": "python",
   "pygments_lexer": "ipython3",
   "version": "3.7.7"
  }
 },
 "nbformat": 4,
 "nbformat_minor": 4
}
