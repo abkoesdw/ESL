{
 "cells": [
  {
   "cell_type": "markdown",
   "metadata": {},
   "source": [
    "# Discussion: Subset Selection, Ridge Regression, and the Lasso\n",
    "\n",
    "So far, we implemented three approaches for restricting the linear regression model:\n",
    "   * Ridge regression does a proportional shrinkage (soft-thresholding).\n",
    "   * Lasso translates each coefficient by a constant factor $\\lambda$, truncating at zero (soft-thresholding).\n",
    "   * Best-subset selection drops all the variables with coefficients smaller than the $M^{th}$ largest (hard-thresholding).\n",
    "   \n",
    "In the case of orthonormal input matrix $\\mathbf{X}$, the three procedures have explicit solutions. Each method applies a simple transformation to the least squares estime $\\hat\\beta_j$ as follows:\n",
    "\n",
    "| Estimator | Formula |\n",
    "| --- | --- |\n",
    "| Best subset (size $M$ ) |  $$\\hat\\beta_j \\cdot I(\\|\\hat\\beta_j\\| \\geq \\|\\hat\\beta_{(M)}\\|)$$ |\n",
    "| Ridge | $$\\hat\\beta_j / (1 +\\lambda)$$ |\n",
    "| Lasso | $$\\text{sign}(\\hat\\beta_j)(\\|\\hat\\beta_j\\| - \\lambda)_{+}$$ |\n",
    "\n",
    "We can generalize ridge regression and the lasso, and view them as Bayes estimates. Consider the criterion:\n",
    "\n",
    "$$\\tilde\\beta = \\underset{\\beta}{\\text{argmin}} \\left\\{\\sum_{i=1}^N (y_i -\\beta_0 - \\sum_{j=1}^p x_{ij}\\beta{j})^2 + \\lambda\\sum_{j=1}^N |\\beta_j|^q\\right\\}$$\n",
    "\n",
    "for $q\\geq 0$. \n",
    "\n",
    "Here, we try to plot the contours of the constant value of $\\sum_j |\\beta_j|^q$:"
   ]
  },
  {
   "cell_type": "code",
   "execution_count": 1,
   "metadata": {},
   "outputs": [],
   "source": [
    "import numpy as np\n",
    "import matplotlib.pyplot as plt"
   ]
  },
  {
   "cell_type": "code",
   "execution_count": 2,
   "metadata": {},
   "outputs": [],
   "source": [
    "b1_lin = np.linspace(-1, 1, 1000)\n",
    "b2_lin = np.linspace(-1, 1, 1000)\n",
    "b1, b2 = np.meshgrid(b1_lin, b2_lin)\n",
    "b_12 = np.concatenate((b1.ravel().reshape(-1, 1), b2.ravel().reshape(-1, 1)), axis=1)"
   ]
  },
  {
   "cell_type": "code",
   "execution_count": 3,
   "metadata": {},
   "outputs": [
    {
     "data": {
      "image/png": "[encoded data removed]",
      "text/plain": [
       "<Figure size 864x144 with 5 Axes>"
      ]
     },
     "metadata": {
      "needs_background": "light"
     },
     "output_type": "display_data"
    }
   ],
   "source": [
    "q = [0.1, 0.5, 1, 2, 4][::-1]\n",
    "plt.figure(figsize=(12, 2))\n",
    "for i, q_ in enumerate(q):\n",
    "    c = np.zeros(len(b_12))\n",
    "    for j, b12 in enumerate(b_12):\n",
    "        c[j] = np.abs(b12[0]) ** q_ + np.abs(b12[1]) ** q_\n",
    "    \n",
    "    plt.subplot(1, 5, i+1, aspect='equal')\n",
    "    plt.title(\"$q = $\" + str(q_))\n",
    "    plt.contour(b1, b2, c.reshape(b1.shape), levels=1, colors='cyan')\n",
    "    plt.axhline(y=0, color='k', linewidth=1)\n",
    "    plt.axvline(x=0, color='k', linewidth=1)\n",
    "    plt.xlim([-1.1, 1.1])\n",
    "    plt.ylim([-1.1, 1.1])\n",
    "    plt.axis('off')\n",
    "plt.show()"
   ]
  },
  {
   "cell_type": "markdown",
   "metadata": {},
   "source": [
    "The above plot is the contours of constant value of $\\sum_j |\\beta_j|^q$ for given values of q for the cases of two inputs.\n",
    "\n",
    "Considering the $|\\beta_j|^q$ as the log-prior density for $\\beta_j$, these are also the equi-contours of the prior distribution of the parameters.\n",
    "\n",
    "  * The value $q=0$ corresponds to variable subset selection, as the penalty simpy counts the number of nonzero parameters.\n",
    "  * The value $q=1$ corresponds to lasso.\n",
    "  * The value $q=2$ corresponds to ridge regression.\n",
    "  * The values $q\\leq 1$ corresponds to prior that is not uniform in direction, but concentrates more mass in the coordinate directions.\n",
    "  * The values $1 < q < 2$ suggests a compromise between the lasso and ridge regression. However, for $q>1$, $|\\beta_j|^q$ is differentiable at 0. Therefore it does not shate the ability of lasso for setting coefficients exactly to 0.\n",
    "  \n",
    "There is a different compromise between ridge and the lasso: *Elastic Net* penalty, which is given as follows:\n",
    "\n",
    "$$\\lambda\\sum_{j=1}^p (\\alpha\\beta_j^2 + (1 - \\alpha)|\\beta_j|))$$\n",
    "\n",
    "Here, we implement the comparison between $L_q$ penalty with $q=1.2$ and the elastic net penalty with $\\alpha=0.2$:"
   ]
  },
  {
   "cell_type": "code",
   "execution_count": 4,
   "metadata": {},
   "outputs": [
    {
     "data": {
      "image/png": "[encoded data removed]",
      "text/plain": [
       "<Figure size 432x288 with 2 Axes>"
      ]
     },
     "metadata": {
      "needs_background": "light"
     },
     "output_type": "display_data"
    }
   ],
   "source": [
    "plt.figure(figsize=(6, 4))\n",
    "c = np.zeros(len(b_12))\n",
    "alpha = 0.2\n",
    "q = 1.2\n",
    "\n",
    "for j, b12 in enumerate(b_12):\n",
    "    c[j] = np.abs(b12[0]) ** q + np.abs(b12[1]) ** q\n",
    "\n",
    "plt.subplot(1, 2, 1, aspect='equal')\n",
    "plt.title(\"$q = $\" + str(q))\n",
    "plt.contour(b1, b2, c.reshape(b1.shape), levels=1, colors='cyan')\n",
    "plt.annotate(\"$L_q$\", xy=(-0.1, -1.3), annotation_clip=False, fontsize=14)\n",
    "plt.axhline(y=0, color='k', linewidth=1)\n",
    "plt.axvline(x=0, color='k', linewidth=1)\n",
    "plt.xlim([-1.1, 1.1])\n",
    "plt.ylim([-1.1, 1.1])\n",
    "plt.axis('off')\n",
    "\n",
    "c = np.zeros(len(b_12))\n",
    "for j, b12 in enumerate(b_12):\n",
    "    c[j] = alpha * b12[0] ** 2 + (1 - alpha) * np.abs(b12[0]) + alpha * b12[1] ** 2 + (1 - alpha) * np.abs(b12[1])\n",
    "\n",
    "plt.subplot(1, 2, 2, aspect='equal')\n",
    "plt.title(r\"$\\alpha = $\" + str(alpha))\n",
    "plt.contour(b1, b2, c.reshape(b1.shape), levels=1, colors='red')\n",
    "plt.annotate(\"Elastic Net\", xy=(-0.6, -1.3), annotation_clip=False, fontsize=14)\n",
    "plt.axhline(y=0, color='k', linewidth=1)\n",
    "plt.axvline(x=0, color='k', linewidth=1)\n",
    "plt.xlim([-1.1, 1.1])\n",
    "plt.ylim([-1.1, 1.1])\n",
    "plt.axis('off')\n",
    "plt.show()"
   ]
  },
  {
   "cell_type": "markdown",
   "metadata": {},
   "source": [
    "It is hard to detect the difference with a naked eye. However, the elastic-net has sharp (non-differentiable) corners, while the $q=1.2$ penalty does not."
   ]
  },
  {
   "cell_type": "code",
   "execution_count": null,
   "metadata": {},
   "outputs": [],
   "source": []
  }
 ],
 "metadata": {
  "kernelspec": {
   "display_name": "Python [conda env:esl]",
   "language": "python",
   "name": "conda-env-esl-py"
  },
  "language_info": {
   "codemirror_mode": {
    "name": "ipython",
    "version": 3
   },
   "file_extension": ".py",
   "mimetype": "text/x-python",
   "name": "python",
   "nbconvert_exporter": "python",
   "pygments_lexer": "ipython3",
   "version": "3.7.7"
  }
 },
 "nbformat": 4,
 "nbformat_minor": 4
}
