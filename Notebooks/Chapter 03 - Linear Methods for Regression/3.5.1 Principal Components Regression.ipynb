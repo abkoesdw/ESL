{
 "cells": [
  {
   "cell_type": "markdown",
   "metadata": {},
   "source": [
    "### Principal Component Regression\n",
    "\n",
    "The SVD of the centered matrix $\\mathbf{X}$ is another way of expressing the *principal components* of the variables in $\\mathbf{X}$ where the sample covariance matrix is given by $\\mathbf{S} = \\mathbf{X}^\\top\\mathbf{X} / N$. Using the SVD of $\\mathbf{X}$ we obtain:\n",
    "\n",
    "$$\\mathbf{X}^\\top\\mathbf{X} = \\mathbf{V}\\mathbf{D}^2\\mathbf{V}^\\top$$\n",
    "\n",
    "which is the eigen decomposition of $\\mathbf{X}^\\top\\mathbf{X}$ and of $\\mathbf{S}$ up to a factor $N$.\n",
    "\n",
    "The columns of $\\mathbf{V}$ (the eigenvectors $v_j$) are also called the principal compinents directions of $\\mathbf{X}$.\n",
    "\n",
    "The first principal component direction $v_1$ has the property that $\\mathbf{z}_1 = \\mathbf{X}v_1 = \\mathbf{u}_1 d_1$ has the largest sample variance amongs all normalized linear combinations of $\\mathbf{X}$, and the last principle component direction $v_p$ has the property that $\\mathbf{z}_p = \\mathbf{X}v_p = \\mathbf{u}_p d_p$ has the smallest sample variance amongs all normalized linear combinations of $\\mathbf{X}$.\n",
    "\n",
    "The variance of $z$ is given as:\n",
    "\n",
    "$$\\text{Var}(z_j) = \\text{Var}(\\mathbf{X}v_j) = \\frac{d_j^2}{N}$$"
   ]
  },
  {
   "cell_type": "code",
   "execution_count": 38,
   "metadata": {},
   "outputs": [],
   "source": [
    "import numpy as np\n",
    "import pandas as pd\n",
    "import matplotlib.pyplot as plt\n",
    "from ml_datasets.esl import ProstateCancer\n",
    "# from esl.utils import scale\n",
    "from esl.chapter03 import kfold, LeastSquaresRegression, RidgeRegression"
   ]
  },
  {
   "cell_type": "code",
   "execution_count": 39,
   "metadata": {},
   "outputs": [],
   "source": [
    "def scale(x):\n",
    "    mean = x.values.mean(axis=0, keepdims=True)\n",
    "    stdev = x.values.std(axis=0, keepdims=True, ddof=0)\n",
    "    return np.divide(np.subtract(x, mean), stdev)"
   ]
  },
  {
   "cell_type": "code",
   "execution_count": 40,
   "metadata": {},
   "outputs": [],
   "source": [
    "prostate_cancer = ProstateCancer(verbose=0)\n",
    "df = prostate_cancer.load()"
   ]
  },
  {
   "cell_type": "code",
   "execution_count": 41,
   "metadata": {},
   "outputs": [],
   "source": [
    "train_test = prostate_cancer.train_test\n",
    "df_x = df[prostate_cancer.meta[:-1]]\n",
    "df_y = df[prostate_cancer.meta[-1]]\n",
    "\n",
    "x_train = scale(df_x[train_test == 'T'].copy()).values\n",
    "y_train =  df_y[train_test == 'T'].copy().values"
   ]
  },
  {
   "cell_type": "code",
   "execution_count": 42,
   "metadata": {},
   "outputs": [],
   "source": [
    "class PrincipalComponentRegression:\n",
    "    def __init__(self, **kwargs):\n",
    "        self.num_components = kwargs.get('num_components', 1)\n",
    "        self.mean_y = kwargs.get('mean_y', 0)\n",
    "\n",
    "    def fit(self, x, y):     \n",
    "        xTx = x.T @ x\n",
    "        v, d2, vt = np.linalg.svd(xTx)\n",
    "\n",
    "        beta = np.zeros((x.shape[1], x.shape[1]))\n",
    "        for m in range(self.num_components):\n",
    "            z_m = x @ v[:, m]\n",
    "            theta_m = np.inner(z_m, y) / d2[m]\n",
    "            beta[:, m] = theta_m * v[:, m]\n",
    "            \n",
    "        self.beta_hat = np.sum(beta, axis=1)\n",
    "        \n",
    "    def predict(self, x):\n",
    "        return x @ self.beta_hat  #  + self.mean_y\n",
    "    \n",
    "    def error(self, x, y):\n",
    "        y_hat = self.predict(x)\n",
    "        return ((y - y_hat).T @ (y - y_hat)), ((y - y_hat).T @ (y - y_hat)) / len(y)"
   ]
  },
  {
   "cell_type": "code",
   "execution_count": 43,
   "metadata": {},
   "outputs": [],
   "source": [
    "y_train_temp = y_train - np.mean(y_train)\n",
    "x_dict, y_dict = kfold(x_train, y_train_temp, nfold=10, seed=2)\n",
    "num_components = np.arange(x_train.shape[1] + 1)\n",
    "RSS = dict()\n",
    "MRSS = dict()\n",
    "\n",
    "for m in num_components:\n",
    "    RSS_temp = []\n",
    "    MRSS_temp = []\n",
    "    \n",
    "    for fold in x_dict.keys():\n",
    "        if m == 0:\n",
    "            y_train_temp = y_dict[fold]['train'].copy()\n",
    "            y_val_temp = y_dict[fold]['val'].copy()\n",
    "            error = (y_val_temp).T @ (y_val_temp)\n",
    "            merror = error / len(y_val_temp)\n",
    "            \n",
    "        else:\n",
    "            x_train_temp = x_dict[fold]['train'].copy()\n",
    "            x_val_temp = x_dict[fold]['val'].copy()\n",
    "\n",
    "            y_train_temp = y_dict[fold]['train'].copy()\n",
    "            y_val_temp = y_dict[fold]['val'].copy()\n",
    "            \n",
    "            pcr = PrincipalComponentRegression(num_components=m, intercept=False, mean_y=np.mean(y_train))\n",
    "            pcr.fit(x_train_temp, y_train_temp)\n",
    "            error, merror = pcr.error(x_val_temp, y_val_temp)\n",
    "\n",
    "        RSS_temp.append(error)\n",
    "        MRSS_temp.append(merror)\n",
    "        \n",
    "    RSS[m] = RSS_temp\n",
    "    MRSS[m] = MRSS_temp"
   ]
  },
  {
   "cell_type": "code",
   "execution_count": 62,
   "metadata": {},
   "outputs": [
    {
     "name": "stdout",
     "output_type": "stream",
     "text": [
      "[0.19090758 0.15178052 0.14436751 0.08186238 0.08075297 0.07895216\n",
      " 0.06727304 0.07873617 0.07742499]\n",
      "[1.22887848 0.66388496 0.63896212 0.61146188 0.58840771 0.60469278\n",
      " 0.64333648 0.55435532 0.48014942]\n"
     ]
    }
   ],
   "source": [
    "x_cv = np.array(list(RSS.keys()))\n",
    "\n",
    "# calculate the mean of MSE from the 10-fold cross validation\n",
    "y_cv_mean = np.array([np.mean(MRSS[key]) for key in MRSS.keys()])\n",
    "\n",
    "# calculate the standard error\n",
    "y_cv_std = np.array([np.std(MRSS[key]) / (10 ** 0.5) for key in MRSS.keys()])\n",
    "print(y_cv_std)\n",
    "print(y_cv_mean - y_cv_std)\n",
    "# print(np.sqrt(y_cv_std / 2))\n",
    "# y_cv_std = np.sqrt(y_cv_std / 2)\n",
    "# find the most parsimonious model\n",
    "upper_bound = np.min(y_cv_mean) + y_cv_std[np.argmin(y_cv_mean)]\n",
    "best_dir = np.min(np.where(y_cv_mean <= upper_bound)[0])"
   ]
  },
  {
   "cell_type": "markdown",
   "metadata": {},
   "source": [
    "(Figure 3.7 - Middle Right):"
   ]
  },
  {
   "cell_type": "code",
   "execution_count": 61,
   "metadata": {},
   "outputs": [
    {
     "data": {
      "image/png": "[encoded data removed]",
      "text/plain": [
       "<Figure size 576x432 with 1 Axes>"
      ]
     },
     "metadata": {
      "needs_background": "light"
     },
     "output_type": "display_data"
    }
   ],
   "source": [
    "plt.figure(figsize=(8, 6))\n",
    "plt.errorbar(x_cv, y_cv_mean, yerr=y_cv_std, capsize=5, ecolor='C0', color='C1', elinewidth=1, linewidth=1, marker='o', markersize=5)\n",
    "x_cvv = np.linspace(-0.4, 8.4, 20)\n",
    "y_cvv = np.linspace(0.4, 1.8, 20)\n",
    "\n",
    "# this is to plot the purple horizontal line\n",
    "plt.plot(x_cvv, upper_bound * np.ones(len(x_cvv)), '--', color='purple', linewidth=1)\n",
    "\n",
    "# this is to plot the purple vertical line\n",
    "plt.plot(best_dir * np.ones(len(y_cvv)), y_cvv, '--', color='purple', linewidth=1)\n",
    "\n",
    "plt.xlim([-0.4, 8.4])\n",
    "plt.ylim([0.45, 1.81])\n",
    "plt.xlabel('Number of Directions')\n",
    "plt.ylabel('CV Error')\n",
    "plt.show()"
   ]
  },
  {
   "cell_type": "code",
   "execution_count": 36,
   "metadata": {},
   "outputs": [
    {
     "data": {
      "text/html": [
       "<div>\n",
       "<style scoped>\n",
       "    .dataframe tbody tr th:only-of-type {\n",
       "        vertical-align: middle;\n",
       "    }\n",
       "\n",
       "    .dataframe tbody tr th {\n",
       "        vertical-align: top;\n",
       "    }\n",
       "\n",
       "    .dataframe thead th {\n",
       "        text-align: right;\n",
       "    }\n",
       "</style>\n",
       "<table border=\"1\" class=\"dataframe\">\n",
       "  <thead>\n",
       "    <tr style=\"text-align: right;\">\n",
       "      <th></th>\n",
       "      <th>Term</th>\n",
       "      <th>PCR</th>\n",
       "    </tr>\n",
       "  </thead>\n",
       "  <tbody>\n",
       "    <tr>\n",
       "      <th>0</th>\n",
       "      <td>Intercept</td>\n",
       "      <td>2.452</td>\n",
       "    </tr>\n",
       "    <tr>\n",
       "      <th>1</th>\n",
       "      <td>lcavol</td>\n",
       "      <td>0.566</td>\n",
       "    </tr>\n",
       "    <tr>\n",
       "      <th>2</th>\n",
       "      <td>lweight</td>\n",
       "      <td>0.321</td>\n",
       "    </tr>\n",
       "    <tr>\n",
       "      <th>3</th>\n",
       "      <td>age</td>\n",
       "      <td>-0.153</td>\n",
       "    </tr>\n",
       "    <tr>\n",
       "      <th>4</th>\n",
       "      <td>lbph</td>\n",
       "      <td>0.214</td>\n",
       "    </tr>\n",
       "    <tr>\n",
       "      <th>5</th>\n",
       "      <td>svi</td>\n",
       "      <td>0.320</td>\n",
       "    </tr>\n",
       "    <tr>\n",
       "      <th>6</th>\n",
       "      <td>lcp</td>\n",
       "      <td>-0.050</td>\n",
       "    </tr>\n",
       "    <tr>\n",
       "      <th>7</th>\n",
       "      <td>gleason</td>\n",
       "      <td>0.227</td>\n",
       "    </tr>\n",
       "    <tr>\n",
       "      <th>8</th>\n",
       "      <td>pgg45</td>\n",
       "      <td>-0.063</td>\n",
       "    </tr>\n",
       "  </tbody>\n",
       "</table>\n",
       "</div>"
      ],
      "text/plain": [
       "        Term         PCR\n",
       "0  Intercept       2.452\n",
       "1     lcavol       0.566\n",
       "2    lweight       0.321\n",
       "3        age      -0.153\n",
       "4       lbph       0.214\n",
       "5        svi       0.320\n",
       "6        lcp      -0.050\n",
       "7    gleason       0.227\n",
       "8      pgg45      -0.063"
      ]
     },
     "execution_count": 36,
     "metadata": {},
     "output_type": "execute_result"
    }
   ],
   "source": [
    "pcr = PrincipalComponentRegression(num_components=best_dir, intercept=False, mean_y=np.mean(y_train))\n",
    "y_train_temp = y_train - np.mean(y_train)\n",
    "pcr.fit(x_train, y_train_temp)\n",
    "\n",
    "# some formatting to make the table prettier\n",
    "beta_0 = np.mean(y_train)\n",
    "beta = np.append(beta_0, pcr.beta_hat)\n",
    "best_coeff_dframe = pd.DataFrame({'PCR': beta})\n",
    "best_coeff_dframe = best_coeff_dframe.apply(lambda x: x.map('{:10.3f}'.format))\n",
    "best_coeff_dframe['Term'] = ['Intercept'] + list(prostate_cancer.meta[:-1])\n",
    "cols = best_coeff_dframe.columns[::-1]\n",
    "best_coeff_dframe = best_coeff_dframe[cols]\n",
    "best_coeff_dframe"
   ]
  },
  {
   "cell_type": "code",
   "execution_count": 37,
   "metadata": {},
   "outputs": [
    {
     "name": "stdout",
     "output_type": "stream",
     "text": [
      "(14.30462466122099, 0.47682082204069964)\n"
     ]
    }
   ],
   "source": [
    "x_test = scale(df_x[train_test == 'F'].copy()).values\n",
    "y_test  =  df_y[train_test == 'F'].copy().values\n",
    "print(pcr.error(x_test, y_test - np.mean(y_test)))"
   ]
  },
  {
   "cell_type": "code",
   "execution_count": null,
   "metadata": {},
   "outputs": [],
   "source": []
  }
 ],
 "metadata": {
  "kernelspec": {
   "display_name": "Python [conda env:esl]",
   "language": "python",
   "name": "conda-env-esl-py"
  },
  "language_info": {
   "codemirror_mode": {
    "name": "ipython",
    "version": 3
   },
   "file_extension": ".py",
   "mimetype": "text/x-python",
   "name": "python",
   "nbconvert_exporter": "python",
   "pygments_lexer": "ipython3",
   "version": "3.7.7"
  }
 },
 "nbformat": 4,
 "nbformat_minor": 4
}
