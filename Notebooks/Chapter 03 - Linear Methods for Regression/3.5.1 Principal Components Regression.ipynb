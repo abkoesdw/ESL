{
 "cells": [
  {
   "cell_type": "markdown",
   "metadata": {},
   "source": [
    "### Principal Component Regression\n",
    "\n",
    "The SVD of the centered matrix $\\mathbf{X}$ is another way of expressing the *principal components* of the variables in $\\mathbf{X}$ where the sample covariance matrix is given by $\\mathbf{S} = \\mathbf{X}^\\top\\mathbf{X} / N$. Using the SVD of $\\mathbf{X}$ we obtain:\n",
    "\n",
    "$$\\mathbf{X}^\\top\\mathbf{X} = \\mathbf{V}\\mathbf{D}^2\\mathbf{V}^\\top$$\n",
    "\n",
    "which is the eigen decomposition of $\\mathbf{X}^\\top\\mathbf{X}$ and of $\\mathbf{S}$ up to a factor $N$.\n",
    "\n",
    "The columns of $\\mathbf{V}$ (the eigenvectors $v_j$) are also called the principal compinents directions of $\\mathbf{X}$.\n",
    "\n",
    "The first principal component direction $v_1$ has the property that $\\mathbf{z}_1 = \\mathbf{X}v_1 = \\mathbf{u}_1 d_1$ has the largest sample variance amongs all normalized linear combinations of $\\mathbf{X}$, and the last principle component direction $v_p$ has the property that $\\mathbf{z}_p = \\mathbf{X}v_p = \\mathbf{u}_p d_p$ has the smallest sample variance amongs all normalized linear combinations of $\\mathbf{X}$.\n",
    "\n",
    "The variance of $z$ is given as:\n",
    "\n",
    "$$\\text{Var}(z_j) = \\text{Var}(\\mathbf{X}v_j) = \\frac{d_j^2}{N}$$"
   ]
  },
  {
   "cell_type": "code",
   "execution_count": 1,
   "metadata": {},
   "outputs": [],
   "source": [
    "import numpy as np\n",
    "import pandas as pd\n",
    "import matplotlib.pyplot as plt\n",
    "from ml_datasets.esl import ProstateCancer\n",
    "from esl.utils import scale\n",
    "from esl.chapter03 import kfold, LeastSquaresRegression, RidgeRegression"
   ]
  },
  {
   "cell_type": "code",
   "execution_count": 2,
   "metadata": {},
   "outputs": [],
   "source": [
    "prostate_cancer = ProstateCancer(verbose=0)\n",
    "df = prostate_cancer.load()"
   ]
  },
  {
   "cell_type": "code",
   "execution_count": 3,
   "metadata": {},
   "outputs": [],
   "source": [
    "train_test = prostate_cancer.train_test\n",
    "df_x = df[prostate_cancer.meta[:-1]]\n",
    "df_y = df[prostate_cancer.meta[-1]]\n",
    "\n",
    "x_train = scale(df_x[train_test=='T'].copy()).values\n",
    "y_train =  df_y[train_test=='T'].copy().values\n",
    "y_train_temp = y_train - np.mean(y_train)"
   ]
  },
  {
   "cell_type": "code",
   "execution_count": 4,
   "metadata": {},
   "outputs": [],
   "source": [
    "u, d, vT = np.linalg.svd(x_train, full_matrices=False)\n",
    "\n",
    "z_train = x_train @ vT.T\n",
    "\n",
    "z_dict, y_dict = kfold(z_train, y_train_temp, nfold=10, seed=2)"
   ]
  },
  {
   "cell_type": "code",
   "execution_count": 9,
   "metadata": {},
   "outputs": [],
   "source": [
    "num_components = z_train.shape[1]\n",
    "RSS = dict()\n",
    "MRSS = dict()\n",
    "\n",
    "for k in range(num_components + 1):\n",
    "    RSS_temp = []\n",
    "    MRSS_temp = []\n",
    "    \n",
    "    for fold in z_dict.keys():\n",
    "        if k == 0:\n",
    "            z_train_temp = z_dict[fold]['train'].copy()\n",
    "            z_train_temp = np.hstack([np.ones_like(z_train_temp[:, 0]).reshape(-1, 1), z_train_temp])\n",
    "            z_val_temp = z_dict[fold]['val'].copy()\n",
    "            z_val_temp = np.hstack([np.ones_like(z_val_temp[:, 0]).reshape(-1, 1), z_val_temp])\n",
    "                            \n",
    "            y_train_temp = y_dict[fold]['train'].copy()\n",
    "#             y_train_mean = np.mean(y_train_temp)\n",
    "            \n",
    "#             y_train_temp = y_train_temp - y_train_mean\n",
    "            y_val_temp = y_dict[fold]['val'].copy()  #  - y_train_mean\n",
    "            error = (y_val_temp).T @ (y_val_temp)\n",
    "            merror = error / len(y_val_temp)\n",
    "            \n",
    "        else:\n",
    "            z_train_temp = z_dict[fold]['train'].copy()[:, :k]\n",
    "            z_train_temp = np.hstack([np.ones_like(z_train_temp[:, 0]).reshape(-1, 1), z_train_temp])\n",
    "            z_val_temp = z_dict[fold]['val'].copy()[:, :k]\n",
    "            z_val_temp = np.hstack([np.ones_like(z_val_temp[:, 0]).reshape(-1, 1), z_val_temp])\n",
    "            y_train_temp = y_dict[fold]['train'].copy()\n",
    "#             y_train_mean = np.mean(y_train_temp)\n",
    "            \n",
    "#             y_train_temp = y_train_temp - y_train_mean\n",
    "            y_val_temp = y_dict[fold]['val'].copy()  #  - y_train_mean\n",
    "            \n",
    "            ridgereg = RidgeRegression()\n",
    "            ridgereg.fit(z_train_temp, y_train_temp, 0)\n",
    "            \n",
    "            error = ridgereg.RSS(z_val_temp, y_val_temp)\n",
    "            merror = ridgereg.MRSS(z_val_temp, y_val_temp)\n",
    "\n",
    "        RSS_temp.append(error)\n",
    "        MRSS_temp.append(merror)\n",
    "        \n",
    "    RSS[k] = RSS_temp\n",
    "    MRSS[k] = MRSS_temp"
   ]
  },
  {
   "cell_type": "code",
   "execution_count": 10,
   "metadata": {},
   "outputs": [],
   "source": [
    "x_cv = np.array(list(RSS.keys()))\n",
    "\n",
    "# calculate the mean of MSE from the 10-fold cross validation\n",
    "y_cv_mean = np.array([np.mean(MRSS[key]) for key in MRSS.keys()])\n",
    "\n",
    "# calculate the standard error\n",
    "y_cv_std = np.array([np.std(MRSS[key]) / (10 ** 0.5) for key in MRSS.keys()])\n",
    "\n",
    "# find the most parsimonious model\n",
    "upper_bound = np.min(y_cv_mean) + y_cv_std[np.argmin(y_cv_mean)]\n",
    "best_dir = np.min(np.where(y_cv_mean <= upper_bound)[0])"
   ]
  },
  {
   "cell_type": "markdown",
   "metadata": {},
   "source": [
    "(Figure 3.7 - Middle Right):"
   ]
  },
  {
   "cell_type": "code",
   "execution_count": 11,
   "metadata": {},
   "outputs": [
    {
     "data": {
      "image/png": "[encoded data removed]",
      "text/plain": [
       "<Figure size 576x432 with 1 Axes>"
      ]
     },
     "metadata": {
      "needs_background": "light"
     },
     "output_type": "display_data"
    }
   ],
   "source": [
    "plt.figure(figsize=(8, 6))\n",
    "plt.errorbar(x_cv, y_cv_mean, yerr=y_cv_std, capsize=5, ecolor='C0', color='C1', elinewidth=1, linewidth=1, marker='o', markersize=5)\n",
    "x_cvv = np.linspace(-0.4, 8.4, 20)\n",
    "y_cvv = np.linspace(0.4, 1.8, 20)\n",
    "\n",
    "# this is to plot the purple horizontal line\n",
    "plt.plot(x_cvv, upper_bound * np.ones(len(x_cvv)), '--', color='purple', linewidth=1)\n",
    "\n",
    "# this is to plot the purple vertical line\n",
    "plt.plot(best_dir * np.ones(len(y_cvv)), y_cvv, '--', color='purple', linewidth=1)\n",
    "\n",
    "plt.xlim([-0.4, 8.4])\n",
    "plt.ylim([0.45, 1.8])\n",
    "plt.xlabel('Number of Directions')\n",
    "plt.ylabel('CV Error')\n",
    "plt.show()"
   ]
  },
  {
   "cell_type": "code",
   "execution_count": 23,
   "metadata": {},
   "outputs": [
    {
     "name": "stdout",
     "output_type": "stream",
     "text": [
      "2.4523450850746267\n",
      "[ 2.45234509  0.43526876 -0.22322851  0.3482023   0.18154434  0.07255958\n",
      " -0.18705565  0.46830738 -0.50407204]\n"
     ]
    }
   ],
   "source": [
    "theta = []\n",
    "for i in range(z_train.shape[1]):\n",
    "    theta_temp = (z_train[:, i] @ y_train) / (z_train[:, i] @ z_train[:, i])\n",
    "    theta.append(theta_temp)\n",
    "\n",
    "lsreg = LeastSquaresRegression(intercept=True)\n",
    "lsreg.fit(z_train, df_y[train_test=='T'].copy().values)\n",
    "beta_0 = np.mean(df_y[train_test=='T'].copy().values)\n",
    "print(beta_0)\n",
    "print(lsreg.beta_hat)"
   ]
  },
  {
   "cell_type": "code",
   "execution_count": null,
   "metadata": {},
   "outputs": [],
   "source": []
  }
 ],
 "metadata": {
  "kernelspec": {
   "display_name": "Python [conda env:esl]",
   "language": "python",
   "name": "conda-env-esl-py"
  },
  "language_info": {
   "codemirror_mode": {
    "name": "ipython",
    "version": 3
   },
   "file_extension": ".py",
   "mimetype": "text/x-python",
   "name": "python",
   "nbconvert_exporter": "python",
   "pygments_lexer": "ipython3",
   "version": "3.7.7"
  }
 },
 "nbformat": 4,
 "nbformat_minor": 4
}
