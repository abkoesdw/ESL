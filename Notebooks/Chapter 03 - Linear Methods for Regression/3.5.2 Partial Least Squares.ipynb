{
 "cells": [
  {
   "cell_type": "markdown",
   "metadata": {},
   "source": [
    "# Partial Least Squares\n",
    "\n",
    "Similar to *principal component regression* (PCR), *partial least squares* (PLS) also constructs a set of linear combinations of the inputs for regression. The major difference is PLS uses $\\mathbf{y}$ for this construction.\n",
    "\n",
    "PLS is also not scaled invariant, so we need to standardize the input to have 0 mean and unit variance.\n",
    "\n",
    "The PLS algorithm is described as follows:\n",
    "\n",
    "   * Standardize each $\\mathbf{x}_j$ to have 0 mean and unit variance. \n",
    "   * Set the initial conditions: $\\hat{\\mathbf{y}}^{(0)} = \\bar y \\mathbf{1}$, and $\\mathbf{x}_j^{(0)} = \\mathbf{x}_j, j = 1, \\cdots, p$\n",
    "   * For $m=1,2,\\cdots,p$\n",
    "   \n",
    "      * Compute:\n",
    "      $$\\mathbf{z}_m = \\sum_{j=1}^p\\hat\\varphi_{mj}\\mathbf{x}_j^{(m-1)}$$\n",
    "      where \n",
    "      $$\\hat\\varphi_{mj} = \\langle\\mathbf{x}_j^{(m-1)}, \\mathbf{y}\\rangle$$\n",
    "      \n",
    "      * Compute:\n",
    "      $$\\hat\\theta_m = \\frac{\\langle\\mathbf{z}_m,\\mathbf{y}\\rangle}{\\langle\\mathbf{z}_m, \\mathbf{z}_m\\rangle}$$\n",
    "      \n",
    "      * Update prediction:\n",
    "      $$\\hat{\\mathbf{y}}^{(m)} = \\hat{\\mathbf{y}}^{(m - 1)} + \\hat\\theta_m \\mathbf{z}_m$$\n",
    "      \n",
    "      * Orthogonalize $\\mathbf{x}_j^{(m-1)}$:\n",
    "      $$\\mathbf{x}_j^{(m)} = \\mathbf{x}_j^{(m-1)} - \\left(\\frac{\\langle \\mathbf{z}_m, \\mathbf{x}_j^{(m-1)}\\rangle}{\\langle\\mathbf{z}_m, \\mathbf{z}_m\\rangle}\\right)\\mathbf{z}_m$$\n",
    "      for $j=1,2,\\cdots, p$\n",
    "      \n",
    "      * To obtain $\\hat\\beta_{pls}(m)$, we can do it as follows:\n",
    "      $$\\hat\\beta_{pls}(m) = (\\mathbf{X}^\\top\\mathbf{X})^{-1}\\mathbf{X}^\\top\\hat{\\mathbf{y}}^{(m)}$$"
   ]
  },
  {
   "cell_type": "markdown",
   "metadata": {},
   "source": [
    "### Python Implementation\n",
    "\n",
    "We use *Prostate Cancer* data to test our implementation of the PLS algorithm. "
   ]
  },
  {
   "cell_type": "code",
   "execution_count": 1,
   "metadata": {},
   "outputs": [],
   "source": [
    "import numpy as np\n",
    "import pandas as pd\n",
    "import matplotlib.pyplot as plt\n",
    "from ml_datasets.esl import ProstateCancer\n",
    "from sklearn import preprocessing\n",
    "from esl.chapter03 import kfold"
   ]
  },
  {
   "cell_type": "code",
   "execution_count": 2,
   "metadata": {},
   "outputs": [],
   "source": [
    "prostate_cancer = ProstateCancer(verbose=0)"
   ]
  },
  {
   "cell_type": "code",
   "execution_count": 3,
   "metadata": {},
   "outputs": [],
   "source": [
    "df = prostate_cancer.load()\n",
    "\n",
    "train_test = prostate_cancer.train_test\n",
    "df_x = df[prostate_cancer.meta[:-1]]\n",
    "df_y = df[prostate_cancer.meta[-1]]\n",
    "\n",
    "scaler = preprocessing.StandardScaler()\n",
    "x_train = scaler.fit_transform(df_x[train_test=='T'].values)\n",
    "x_test = scaler.transform(df_x[train_test=='F'].values)\n",
    "\n",
    "y_train_temp = df_y[train_test=='T'].copy().values\n",
    "y_train = y_train_temp - np.mean(y_train_temp)\n",
    "\n",
    "y_test_temp = df_y[train_test=='F'].copy().values\n",
    "y_test = y_test_temp  - np.mean(y_train_temp)"
   ]
  },
  {
   "cell_type": "markdown",
   "metadata": {},
   "source": [
    "Next, we build the `PartialLeastSquares` class based on the mentioned PLS algorithm.\n",
    "\n",
    "This class contains two methods:\n",
    "\n",
    "   * `fit`: to fit the model using the PLS algorithm. Here, we'll obtain the coefficients $\\hat\\beta_{ls}$.\n",
    "   * `predict`: to generate prediction given the computed $\\hat\\beta_{pls}$.\n",
    "   * `error`: to obtain the squared and mean-squared errors.\n",
    "\n",
    "The following is the `PartialLeastSquares` class:"
   ]
  },
  {
   "cell_type": "code",
   "execution_count": 4,
   "metadata": {},
   "outputs": [],
   "source": [
    "class PartialLeastSquares:\n",
    "    def __init__(self, **kwargs):\n",
    "        self.num_direction = kwargs.get('num_direction', 1)\n",
    "        \n",
    "    def fit(self, x, y):\n",
    "        x_prev = x.copy()\n",
    "        y_hat_prev = (np.ones_like(y) * np.mean(y))\n",
    "        z = np.zeros_like(x)\n",
    "        phi = np.zeros((x.shape[1], x.shape[1]))\n",
    "        theta = np.zeros(x.shape[1])\n",
    "        for m in range(1, self.num_direction + 1):\n",
    "            for j in range(x.shape[1]):\n",
    "                phi[m - 1, j] = x_prev[:, j].T @ y\n",
    "                z[:, m - 1] += phi[m - 1, j] * x_prev[:, j]\n",
    "            \n",
    "            theta[m - 1] = (z[:, m - 1].T @ y) / (z[:, m - 1].T @ z[:, m - 1])\n",
    "\n",
    "            y_hat_prev = y_hat_prev + theta[m - 1] * z[:, m - 1]\n",
    "\n",
    "            for j in range(x.shape[1]):\n",
    "                x_prev[:, j] = x_prev[:, j] -  ((z[:, m - 1].T @ x_prev[:, j]) / (z[:, m - 1].T @ z[:, m - 1])) * z[:, m - 1]\n",
    "\n",
    "        self.beta_hat = np.linalg.inv(x.T @ x) @ x.T @ y_hat_prev\n",
    "   \n",
    "    def predict(self, x):\n",
    "        return x @ self.beta_hat\n",
    "    \n",
    "    def error(self, x, y):\n",
    "        y_hat = self.predict(x)\n",
    "        error = y_hat - y\n",
    "        \n",
    "        return error.T @ error, (error.T @ error) / len(error)"
   ]
  },
  {
   "cell_type": "markdown",
   "metadata": {},
   "source": [
    "#### Cross-Validation to find the best number of components/directions\n",
    "\n",
    "In the book, to find the best number of directions, we need to perform cross validation on the training data. The following is the main loop to perform cross validation. For every number of components, we perform training on the 10 folds and record the MSE:"
   ]
  },
  {
   "cell_type": "code",
   "execution_count": 5,
   "metadata": {},
   "outputs": [],
   "source": [
    "x_dict, y_dict = kfold(x_train, y_train, nfold=10, seed=5)\n",
    "num_directions = np.arange(x_train.shape[1] + 1)\n",
    "RSS = dict()\n",
    "MRSS = dict()\n",
    "\n",
    "for m in num_directions:\n",
    "    RSS_temp = []\n",
    "    MRSS_temp = []\n",
    "    \n",
    "    for fold in x_dict.keys():\n",
    "        if m == 0:\n",
    "            y_train_temp = y_dict[fold]['train'].copy()\n",
    "            y_val_temp = y_dict[fold]['val'].copy()\n",
    "            error = (y_val_temp).T @ (y_val_temp)\n",
    "            merror = error / len(y_val_temp)\n",
    "            \n",
    "        else:\n",
    "            x_train_temp = x_dict[fold]['train'].copy()\n",
    "            x_val_temp = x_dict[fold]['val'].copy()\n",
    "\n",
    "            y_train_temp = y_dict[fold]['train'].copy()\n",
    "            y_val_temp = y_dict[fold]['val'].copy()\n",
    "            \n",
    "            pls = PartialLeastSquares(num_direction=m)\n",
    "            pls.fit(x_train_temp, y_train_temp)\n",
    "            error, merror = pls.error(x_val_temp, y_val_temp)\n",
    "\n",
    "        RSS_temp.append(error)\n",
    "        MRSS_temp.append(merror)\n",
    "        \n",
    "    RSS[m] = RSS_temp\n",
    "    MRSS[m] = MRSS_temp"
   ]
  },
  {
   "cell_type": "markdown",
   "metadata": {},
   "source": [
    "**Note**: The cross-validation algorithm requires randomly generating data indices; therefore, the performance of the training depends on the randomly partitioned data.\n",
    "\n",
    "We use the *one-standard error* rule to choose the most parsimonious model whose error is no more than one standard error above the error of the best model. The code below does this:"
   ]
  },
  {
   "cell_type": "code",
   "execution_count": 6,
   "metadata": {},
   "outputs": [],
   "source": [
    "x_cv = np.array(list(RSS.keys()))\n",
    "\n",
    "# calculate the mean of MSE from the 10-fold cross validation\n",
    "y_cv_mean = np.array([np.mean(MRSS[key]) for key in MRSS.keys()])\n",
    "\n",
    "# calculate the standard error\n",
    "y_cv_std = np.array([np.std(MRSS[key]) / (10 ** 0.5) for key in MRSS.keys()])\n",
    "\n",
    "# find the most parsimonious model\n",
    "upper_bound = np.min(y_cv_mean) + y_cv_std[np.argmin(y_cv_mean)]\n",
    "best_dir = np.min(np.where(y_cv_mean <= upper_bound)[0])"
   ]
  },
  {
   "cell_type": "markdown",
   "metadata": {},
   "source": [
    "Now, we plot the cross validation error on every number of components (Figure 3.7 - Bottom-Left):"
   ]
  },
  {
   "cell_type": "code",
   "execution_count": 7,
   "metadata": {},
   "outputs": [
    {
     "data": {
      "image/png": "[encoded data removed]",
      "text/plain": [
       "<Figure size 576x432 with 1 Axes>"
      ]
     },
     "metadata": {
      "needs_background": "light"
     },
     "output_type": "display_data"
    }
   ],
   "source": [
    "plt.figure(figsize=(8, 6))\n",
    "plt.errorbar(x_cv, y_cv_mean, yerr=y_cv_std, capsize=5, ecolor='C0', color='C1', elinewidth=1, linewidth=1, marker='o', markersize=5)\n",
    "x_cvv = np.linspace(-0.4, 8.4, 20)\n",
    "y_cvv = np.linspace(0.4, 1.8, 20)\n",
    "\n",
    "# this is to plot the purple horizontal line\n",
    "plt.plot(x_cvv, upper_bound * np.ones(len(x_cvv)), '--', color='purple', linewidth=1)\n",
    "\n",
    "# this is to plot the purple vertical line\n",
    "plt.plot(best_dir * np.ones(len(y_cvv)), y_cvv, '--', color='purple', linewidth=1)\n",
    "\n",
    "plt.xlim([-0.4, 8.4])\n",
    "plt.ylim([0.45, 1.81])\n",
    "plt.xlabel('Number of Directions')\n",
    "plt.ylabel('CV Error')\n",
    "plt.show()"
   ]
  },
  {
   "cell_type": "markdown",
   "metadata": {},
   "source": [
    "The following part generates the PLS column of Table 3.3.\n",
    "\n",
    "Since we know that from the cross-validation the best result is obtained when the number of directions equals to 2, we retrain the model using this number of directions. Subsequently, we generate the mean-squared and standard errors of the test data:"
   ]
  },
  {
   "cell_type": "code",
   "execution_count": 8,
   "metadata": {},
   "outputs": [],
   "source": [
    "pls = PartialLeastSquares(num_direction=2)\n",
    "pls.fit(x_train, y_train)"
   ]
  },
  {
   "cell_type": "code",
   "execution_count": 9,
   "metadata": {},
   "outputs": [
    {
     "data": {
      "text/html": [
       "<style  type=\"text/css\" >\n",
       "    #T_27e4630a_dbf5_11ea_b47b_34f64b7e48cbrow9_col0 {\n",
       "            font-weight:  bold;\n",
       "        }    #T_27e4630a_dbf5_11ea_b47b_34f64b7e48cbrow9_col1 {\n",
       "            font-weight:  bold;\n",
       "        }    #T_27e4630a_dbf5_11ea_b47b_34f64b7e48cbrow10_col0 {\n",
       "            font-weight:  bold;\n",
       "        }    #T_27e4630a_dbf5_11ea_b47b_34f64b7e48cbrow10_col1 {\n",
       "            font-weight:  bold;\n",
       "        }</style><table id=\"T_27e4630a_dbf5_11ea_b47b_34f64b7e48cb\" ><caption>Estimated Coefficients</caption><thead>    <tr>        <th class=\"col_heading level0 col0\" >Term</th>        <th class=\"col_heading level0 col1\" >PLS</th>    </tr></thead><tbody>\n",
       "                <tr>\n",
       "                                <td id=\"T_27e4630a_dbf5_11ea_b47b_34f64b7e48cbrow0_col0\" class=\"data row0 col0\" >Intercept</td>\n",
       "                        <td id=\"T_27e4630a_dbf5_11ea_b47b_34f64b7e48cbrow0_col1\" class=\"data row0 col1\" >2.452</td>\n",
       "            </tr>\n",
       "            <tr>\n",
       "                                <td id=\"T_27e4630a_dbf5_11ea_b47b_34f64b7e48cbrow1_col0\" class=\"data row1 col0\" >lcavol</td>\n",
       "                        <td id=\"T_27e4630a_dbf5_11ea_b47b_34f64b7e48cbrow1_col1\" class=\"data row1 col1\" >0.433</td>\n",
       "            </tr>\n",
       "            <tr>\n",
       "                                <td id=\"T_27e4630a_dbf5_11ea_b47b_34f64b7e48cbrow2_col0\" class=\"data row2 col0\" >lweight</td>\n",
       "                        <td id=\"T_27e4630a_dbf5_11ea_b47b_34f64b7e48cbrow2_col1\" class=\"data row2 col1\" >0.358</td>\n",
       "            </tr>\n",
       "            <tr>\n",
       "                                <td id=\"T_27e4630a_dbf5_11ea_b47b_34f64b7e48cbrow3_col0\" class=\"data row3 col0\" >age</td>\n",
       "                        <td id=\"T_27e4630a_dbf5_11ea_b47b_34f64b7e48cbrow3_col1\" class=\"data row3 col1\" >-0.021</td>\n",
       "            </tr>\n",
       "            <tr>\n",
       "                                <td id=\"T_27e4630a_dbf5_11ea_b47b_34f64b7e48cbrow4_col0\" class=\"data row4 col0\" >lbph</td>\n",
       "                        <td id=\"T_27e4630a_dbf5_11ea_b47b_34f64b7e48cbrow4_col1\" class=\"data row4 col1\" >0.241</td>\n",
       "            </tr>\n",
       "            <tr>\n",
       "                                <td id=\"T_27e4630a_dbf5_11ea_b47b_34f64b7e48cbrow5_col0\" class=\"data row5 col0\" >svi</td>\n",
       "                        <td id=\"T_27e4630a_dbf5_11ea_b47b_34f64b7e48cbrow5_col1\" class=\"data row5 col1\" >0.257</td>\n",
       "            </tr>\n",
       "            <tr>\n",
       "                                <td id=\"T_27e4630a_dbf5_11ea_b47b_34f64b7e48cbrow6_col0\" class=\"data row6 col0\" >lcp</td>\n",
       "                        <td id=\"T_27e4630a_dbf5_11ea_b47b_34f64b7e48cbrow6_col1\" class=\"data row6 col1\" >0.085</td>\n",
       "            </tr>\n",
       "            <tr>\n",
       "                                <td id=\"T_27e4630a_dbf5_11ea_b47b_34f64b7e48cbrow7_col0\" class=\"data row7 col0\" >gleason</td>\n",
       "                        <td id=\"T_27e4630a_dbf5_11ea_b47b_34f64b7e48cbrow7_col1\" class=\"data row7 col1\" >0.006</td>\n",
       "            </tr>\n",
       "            <tr>\n",
       "                                <td id=\"T_27e4630a_dbf5_11ea_b47b_34f64b7e48cbrow8_col0\" class=\"data row8 col0\" >pgg45</td>\n",
       "                        <td id=\"T_27e4630a_dbf5_11ea_b47b_34f64b7e48cbrow8_col1\" class=\"data row8 col1\" >0.084</td>\n",
       "            </tr>\n",
       "            <tr>\n",
       "                                <td id=\"T_27e4630a_dbf5_11ea_b47b_34f64b7e48cbrow9_col0\" class=\"data row9 col0\" >Test Error</td>\n",
       "                        <td id=\"T_27e4630a_dbf5_11ea_b47b_34f64b7e48cbrow9_col1\" class=\"data row9 col1\" >0.536</td>\n",
       "            </tr>\n",
       "            <tr>\n",
       "                                <td id=\"T_27e4630a_dbf5_11ea_b47b_34f64b7e48cbrow10_col0\" class=\"data row10 col0\" >Std Error</td>\n",
       "                        <td id=\"T_27e4630a_dbf5_11ea_b47b_34f64b7e48cbrow10_col1\" class=\"data row10 col1\" >0.149</td>\n",
       "            </tr>\n",
       "    </tbody></table>"
      ],
      "text/plain": [
       "<pandas.io.formats.style.Styler at 0x1b5397364c8>"
      ]
     },
     "execution_count": 9,
     "metadata": {},
     "output_type": "execute_result"
    }
   ],
   "source": [
    "# calculate the mse and std. error\n",
    "y_hat = x_test @ pls.beta_hat\n",
    "error = (y_test - y_hat).T @ (y_test - y_hat)\n",
    "mse = error / len(y_test)\n",
    "std_error = np.sqrt(np.var((y_test - y_hat) ** 2) / (len(y_test) - 1))\n",
    "\n",
    "beta_0 = np.mean(df_y[train_test=='T'].copy().values)\n",
    "pls_dframe = pd.DataFrame({'PLS': np.append(np.append(beta_0, pls.beta_hat), np.array([mse, std_error]))})\n",
    "pls_dframe['Term'] = ['Intercept'] + list(prostate_cancer.meta[:-1]) + ['Test Error', 'Std Error']\n",
    "cols = pls_dframe.columns[::-1]\n",
    "pls_dframe = pls_dframe[cols].replace(0, '')\n",
    "pls_dframe.style.\\\n",
    "    hide_index().\\\n",
    "    set_caption('Estimated Coefficients').\\\n",
    "    set_precision(3).\\\n",
    "    apply(lambda x: ['font-weight: bold' if x['Term'] in ['Test Error', 'Std Error'] else '' for i in x], axis=1)"
   ]
  }
 ],
 "metadata": {
  "kernelspec": {
   "display_name": "Python [conda env:esl]",
   "language": "python",
   "name": "conda-env-esl-py"
  },
  "language_info": {
   "codemirror_mode": {
    "name": "ipython",
    "version": 3
   },
   "file_extension": ".py",
   "mimetype": "text/x-python",
   "name": "python",
   "nbconvert_exporter": "python",
   "pygments_lexer": "ipython3",
   "version": "3.7.7"
  }
 },
 "nbformat": 4,
 "nbformat_minor": 4
}
