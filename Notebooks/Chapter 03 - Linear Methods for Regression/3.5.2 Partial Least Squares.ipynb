{
 "cells": [
  {
   "cell_type": "code",
   "execution_count": 1,
   "metadata": {},
   "outputs": [],
   "source": [
    "import numpy as np\n",
    "import pandas as pd\n",
    "import matplotlib.pyplot as plt\n",
    "from ml_datasets.esl import ProstateCancer\n",
    "from sklearn import preprocessing\n",
    "from esl.chapter03 import kfold"
   ]
  },
  {
   "cell_type": "code",
   "execution_count": 2,
   "metadata": {},
   "outputs": [],
   "source": [
    "prostate_cancer = ProstateCancer(verbose=0)"
   ]
  },
  {
   "cell_type": "code",
   "execution_count": 3,
   "metadata": {},
   "outputs": [],
   "source": [
    "df = prostate_cancer.load()\n",
    "\n",
    "train_test = prostate_cancer.train_test\n",
    "df_x = df[prostate_cancer.meta[:-1]]\n",
    "df_y = df[prostate_cancer.meta[-1]]\n",
    "\n",
    "scaler = preprocessing.StandardScaler()\n",
    "x_train = scaler.fit_transform(df_x[train_test=='T'].values)\n",
    "x_test = scaler.transform(df_x[train_test=='F'].values)\n",
    "\n",
    "y_train_temp = df_y[train_test=='T'].copy().values\n",
    "y_train = y_train_temp - np.mean(y_train_temp)\n",
    "\n",
    "y_test_temp = df_y[train_test=='F'].copy().values\n",
    "y_test = y_test_temp  - np.mean(y_train_temp)"
   ]
  },
  {
   "cell_type": "code",
   "execution_count": 4,
   "metadata": {},
   "outputs": [],
   "source": [
    "class PartialLeastSquares:\n",
    "    def __init__(self, **kwargs):\n",
    "        self.num_direction = kwargs.get('num_direction', 1)\n",
    "        \n",
    "    def fit(self, x, y):\n",
    "        x_prev = x.copy()\n",
    "        y_hat_prev = (np.ones_like(y) * np.mean(y))\n",
    "        z = np.zeros_like(x)\n",
    "        phi = np.zeros((x.shape[1], x.shape[1]))\n",
    "        theta = np.zeros(x.shape[1])\n",
    "        for m in range(1, self.num_direction + 1):\n",
    "            for j in range(x.shape[1]):\n",
    "                phi[m - 1, j] = x_prev[:, j].T @ y\n",
    "                z[:, m - 1] += phi[m - 1, j] * x_prev[:, j]\n",
    "            \n",
    "            theta[m - 1] = (z[:, m - 1].T @ y) / (z[:, m - 1].T @ z[:, m - 1])\n",
    "\n",
    "            y_hat_prev = y_hat_prev + theta[m - 1] * z[:, m - 1]\n",
    "\n",
    "            for j in range(x.shape[1]):\n",
    "                x_prev[:, j] = x_prev[:, j] -  ((z[:, m - 1].T @ x_prev[:, j]) / (z[:, m - 1].T @ z[:, m - 1])) * z[:, m - 1]\n",
    "\n",
    "        self.beta_hat = np.linalg.inv(x.T @ x) @ x.T @ y_hat_prev\n",
    "   \n",
    "    def predict(self, x):\n",
    "        return x @ self.beta_hat\n",
    "    \n",
    "    def error(self, x, y):\n",
    "        y_hat = self.predict(x)\n",
    "        error = y_hat - y\n",
    "        \n",
    "        return error.T @ error, (error.T @ error) / len(error)"
   ]
  },
  {
   "cell_type": "code",
   "execution_count": 5,
   "metadata": {},
   "outputs": [],
   "source": [
    "x_dict, y_dict = kfold(x_train, y_train, nfold=10, seed=5)\n",
    "num_directions = np.arange(x_train.shape[1] + 1)\n",
    "RSS = dict()\n",
    "MRSS = dict()\n",
    "\n",
    "for m in num_directions:\n",
    "    RSS_temp = []\n",
    "    MRSS_temp = []\n",
    "    \n",
    "    for fold in x_dict.keys():\n",
    "        if m == 0:\n",
    "            y_train_temp = y_dict[fold]['train'].copy()\n",
    "            y_val_temp = y_dict[fold]['val'].copy()\n",
    "            error = (y_val_temp).T @ (y_val_temp)\n",
    "            merror = error / len(y_val_temp)\n",
    "            \n",
    "        else:\n",
    "            x_train_temp = x_dict[fold]['train'].copy()\n",
    "            x_val_temp = x_dict[fold]['val'].copy()\n",
    "\n",
    "            y_train_temp = y_dict[fold]['train'].copy()\n",
    "            y_val_temp = y_dict[fold]['val'].copy()\n",
    "            \n",
    "            pls = PartialLeastSquares(num_direction=m)\n",
    "            pls.fit(x_train_temp, y_train_temp)\n",
    "            error, merror = pls.error(x_val_temp, y_val_temp)\n",
    "\n",
    "        RSS_temp.append(error)\n",
    "        MRSS_temp.append(merror)\n",
    "        \n",
    "    RSS[m] = RSS_temp\n",
    "    MRSS[m] = MRSS_temp"
   ]
  },
  {
   "cell_type": "code",
   "execution_count": 6,
   "metadata": {},
   "outputs": [],
   "source": [
    "x_cv = np.array(list(RSS.keys()))\n",
    "\n",
    "# calculate the mean of MSE from the 10-fold cross validation\n",
    "y_cv_mean = np.array([np.mean(MRSS[key]) for key in MRSS.keys()])\n",
    "\n",
    "# calculate the standard error\n",
    "y_cv_std = np.array([np.std(MRSS[key]) / (10 ** 0.5) for key in MRSS.keys()])\n",
    "\n",
    "# find the most parsimonious model\n",
    "upper_bound = np.min(y_cv_mean) + y_cv_std[np.argmin(y_cv_mean)]\n",
    "best_dir = np.min(np.where(y_cv_mean <= upper_bound)[0])"
   ]
  },
  {
   "cell_type": "code",
   "execution_count": 7,
   "metadata": {},
   "outputs": [
    {
     "data": {
      "image/png": "[encoded data removed]",
      "text/plain": [
       "<Figure size 576x432 with 1 Axes>"
      ]
     },
     "metadata": {
      "needs_background": "light"
     },
     "output_type": "display_data"
    }
   ],
   "source": [
    "plt.figure(figsize=(8, 6))\n",
    "plt.errorbar(x_cv, y_cv_mean, yerr=y_cv_std, capsize=5, ecolor='C0', color='C1', elinewidth=1, linewidth=1, marker='o', markersize=5)\n",
    "x_cvv = np.linspace(-0.4, 8.4, 20)\n",
    "y_cvv = np.linspace(0.4, 1.8, 20)\n",
    "\n",
    "# this is to plot the purple horizontal line\n",
    "plt.plot(x_cvv, upper_bound * np.ones(len(x_cvv)), '--', color='purple', linewidth=1)\n",
    "\n",
    "# this is to plot the purple vertical line\n",
    "plt.plot(best_dir * np.ones(len(y_cvv)), y_cvv, '--', color='purple', linewidth=1)\n",
    "\n",
    "# plt.xlim([-0.4, 8.4])\n",
    "# plt.ylim([0.45, 1.81])\n",
    "plt.xlabel('Number of Directions')\n",
    "plt.ylabel('CV Error')\n",
    "plt.show()"
   ]
  },
  {
   "cell_type": "code",
   "execution_count": 8,
   "metadata": {},
   "outputs": [],
   "source": [
    "pls = PartialLeastSquares(num_direction=2)\n",
    "pls.fit(x_train, y_train)"
   ]
  },
  {
   "cell_type": "code",
   "execution_count": 9,
   "metadata": {},
   "outputs": [
    {
     "data": {
      "text/html": [
       "<style  type=\"text/css\" >\n",
       "    #T_3c2f7bd8_db4c_11ea_b108_34f64b7e48cbrow9_col0 {\n",
       "            font-weight:  bold;\n",
       "        }    #T_3c2f7bd8_db4c_11ea_b108_34f64b7e48cbrow9_col1 {\n",
       "            font-weight:  bold;\n",
       "        }    #T_3c2f7bd8_db4c_11ea_b108_34f64b7e48cbrow10_col0 {\n",
       "            font-weight:  bold;\n",
       "        }    #T_3c2f7bd8_db4c_11ea_b108_34f64b7e48cbrow10_col1 {\n",
       "            font-weight:  bold;\n",
       "        }</style><table id=\"T_3c2f7bd8_db4c_11ea_b108_34f64b7e48cb\" ><caption>Estimated Coefficients</caption><thead>    <tr>        <th class=\"col_heading level0 col0\" >Term</th>        <th class=\"col_heading level0 col1\" >PLS</th>    </tr></thead><tbody>\n",
       "                <tr>\n",
       "                                <td id=\"T_3c2f7bd8_db4c_11ea_b108_34f64b7e48cbrow0_col0\" class=\"data row0 col0\" >Intercept</td>\n",
       "                        <td id=\"T_3c2f7bd8_db4c_11ea_b108_34f64b7e48cbrow0_col1\" class=\"data row0 col1\" >2.452</td>\n",
       "            </tr>\n",
       "            <tr>\n",
       "                                <td id=\"T_3c2f7bd8_db4c_11ea_b108_34f64b7e48cbrow1_col0\" class=\"data row1 col0\" >lcavol</td>\n",
       "                        <td id=\"T_3c2f7bd8_db4c_11ea_b108_34f64b7e48cbrow1_col1\" class=\"data row1 col1\" >0.433</td>\n",
       "            </tr>\n",
       "            <tr>\n",
       "                                <td id=\"T_3c2f7bd8_db4c_11ea_b108_34f64b7e48cbrow2_col0\" class=\"data row2 col0\" >lweight</td>\n",
       "                        <td id=\"T_3c2f7bd8_db4c_11ea_b108_34f64b7e48cbrow2_col1\" class=\"data row2 col1\" >0.358</td>\n",
       "            </tr>\n",
       "            <tr>\n",
       "                                <td id=\"T_3c2f7bd8_db4c_11ea_b108_34f64b7e48cbrow3_col0\" class=\"data row3 col0\" >age</td>\n",
       "                        <td id=\"T_3c2f7bd8_db4c_11ea_b108_34f64b7e48cbrow3_col1\" class=\"data row3 col1\" >-0.021</td>\n",
       "            </tr>\n",
       "            <tr>\n",
       "                                <td id=\"T_3c2f7bd8_db4c_11ea_b108_34f64b7e48cbrow4_col0\" class=\"data row4 col0\" >lbph</td>\n",
       "                        <td id=\"T_3c2f7bd8_db4c_11ea_b108_34f64b7e48cbrow4_col1\" class=\"data row4 col1\" >0.241</td>\n",
       "            </tr>\n",
       "            <tr>\n",
       "                                <td id=\"T_3c2f7bd8_db4c_11ea_b108_34f64b7e48cbrow5_col0\" class=\"data row5 col0\" >svi</td>\n",
       "                        <td id=\"T_3c2f7bd8_db4c_11ea_b108_34f64b7e48cbrow5_col1\" class=\"data row5 col1\" >0.257</td>\n",
       "            </tr>\n",
       "            <tr>\n",
       "                                <td id=\"T_3c2f7bd8_db4c_11ea_b108_34f64b7e48cbrow6_col0\" class=\"data row6 col0\" >lcp</td>\n",
       "                        <td id=\"T_3c2f7bd8_db4c_11ea_b108_34f64b7e48cbrow6_col1\" class=\"data row6 col1\" >0.085</td>\n",
       "            </tr>\n",
       "            <tr>\n",
       "                                <td id=\"T_3c2f7bd8_db4c_11ea_b108_34f64b7e48cbrow7_col0\" class=\"data row7 col0\" >gleason</td>\n",
       "                        <td id=\"T_3c2f7bd8_db4c_11ea_b108_34f64b7e48cbrow7_col1\" class=\"data row7 col1\" >0.006</td>\n",
       "            </tr>\n",
       "            <tr>\n",
       "                                <td id=\"T_3c2f7bd8_db4c_11ea_b108_34f64b7e48cbrow8_col0\" class=\"data row8 col0\" >pgg45</td>\n",
       "                        <td id=\"T_3c2f7bd8_db4c_11ea_b108_34f64b7e48cbrow8_col1\" class=\"data row8 col1\" >0.084</td>\n",
       "            </tr>\n",
       "            <tr>\n",
       "                                <td id=\"T_3c2f7bd8_db4c_11ea_b108_34f64b7e48cbrow9_col0\" class=\"data row9 col0\" >Test Error</td>\n",
       "                        <td id=\"T_3c2f7bd8_db4c_11ea_b108_34f64b7e48cbrow9_col1\" class=\"data row9 col1\" >0.536</td>\n",
       "            </tr>\n",
       "            <tr>\n",
       "                                <td id=\"T_3c2f7bd8_db4c_11ea_b108_34f64b7e48cbrow10_col0\" class=\"data row10 col0\" >Std Error</td>\n",
       "                        <td id=\"T_3c2f7bd8_db4c_11ea_b108_34f64b7e48cbrow10_col1\" class=\"data row10 col1\" >0.149</td>\n",
       "            </tr>\n",
       "    </tbody></table>"
      ],
      "text/plain": [
       "<pandas.io.formats.style.Styler at 0x1b4c356d248>"
      ]
     },
     "execution_count": 9,
     "metadata": {},
     "output_type": "execute_result"
    }
   ],
   "source": [
    "# calculate the mse and std. error\n",
    "y_hat = x_test @ pls.beta_hat\n",
    "error = (y_test - y_hat).T @ (y_test - y_hat)\n",
    "mse = error / len(y_test)\n",
    "std_error = np.sqrt(np.var((y_test - y_hat) ** 2) / (len(y_test) - 1))\n",
    "\n",
    "beta_0 = np.mean(df_y[train_test=='T'].copy().values)\n",
    "pls_dframe = pd.DataFrame({'PLS': np.append(np.append(beta_0, pls.beta_hat), np.array([mse, std_error]))})\n",
    "pls_dframe['Term'] = ['Intercept'] + list(prostate_cancer.meta[:-1]) + ['Test Error', 'Std Error']\n",
    "cols = pls_dframe.columns[::-1]\n",
    "pls_dframe = pls_dframe[cols].replace(0, '')\n",
    "pls_dframe.style.\\\n",
    "    hide_index().\\\n",
    "    set_caption('Estimated Coefficients').\\\n",
    "    set_precision(3).\\\n",
    "    apply(lambda x: ['font-weight: bold' if x['Term'] in ['Test Error', 'Std Error'] else '' for i in x], axis=1)"
   ]
  },
  {
   "cell_type": "code",
   "execution_count": null,
   "metadata": {},
   "outputs": [],
   "source": []
  },
  {
   "cell_type": "code",
   "execution_count": null,
   "metadata": {},
   "outputs": [],
   "source": []
  }
 ],
 "metadata": {
  "kernelspec": {
   "display_name": "Python [conda env:esl]",
   "language": "python",
   "name": "conda-env-esl-py"
  },
  "language_info": {
   "codemirror_mode": {
    "name": "ipython",
    "version": 3
   },
   "file_extension": ".py",
   "mimetype": "text/x-python",
   "name": "python",
   "nbconvert_exporter": "python",
   "pygments_lexer": "ipython3",
   "version": "3.7.7"
  }
 },
 "nbformat": 4,
 "nbformat_minor": 4
}
