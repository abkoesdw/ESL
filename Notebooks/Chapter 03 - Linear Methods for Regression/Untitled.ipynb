{
 "cells": [
  {
   "cell_type": "code",
   "execution_count": 55,
   "metadata": {},
   "outputs": [],
   "source": [
    "import numpy as np\n",
    "import matplotlib.pyplot as plt\n",
    "\n",
    "# Lets imagine a dataset with 2 features, and 2 data points\n",
    "\n",
    "# Not normalizing mean to 0 for now, otherwise we just can have two different covariant vectors, ie\n",
    "# (sqrt(2), -sqrt(2)), and (-sqrt(2), sqrt(2))\n",
    "\n",
    "class ToyData(object):\n",
    "    def __init__(self):\n",
    "        pass\n",
    "\n",
    "toy = ToyData()\n",
    "toy.m = 2\n",
    "toy.n = 2"
   ]
  },
  {
   "cell_type": "code",
   "execution_count": 56,
   "metadata": {},
   "outputs": [],
   "source": [
    "toy.rand = np.random.mtrand.RandomState(132)\n",
    "toy.X = toy.rand.randn(toy.n, toy.m)"
   ]
  },
  {
   "cell_type": "code",
   "execution_count": 57,
   "metadata": {},
   "outputs": [
    {
     "name": "stdout",
     "output_type": "stream",
     "text": [
      "toy.X [[-0.54790151  1.29491463]\n",
      " [ 0.49433234  0.5767346 ]]\n"
     ]
    }
   ],
   "source": [
    "print('toy.X', toy.X)"
   ]
  },
  {
   "cell_type": "code",
   "execution_count": 58,
   "metadata": {},
   "outputs": [
    {
     "name": "stdout",
     "output_type": "stream",
     "text": [
      "y [1 0]\n"
     ]
    }
   ],
   "source": [
    "toy.rand = np.random.mtrand.RandomState(122)\n",
    "toy.y = toy.rand.randint(0, 2, size=(toy.n,))\n",
    "print('y', toy.y)"
   ]
  },
  {
   "cell_type": "code",
   "execution_count": 59,
   "metadata": {},
   "outputs": [
    {
     "name": "stdout",
     "output_type": "stream",
     "text": [
      "variate lengths [0.73794344 1.41754248]\n"
     ]
    }
   ],
   "source": [
    "print('variate lengths', np.linalg.norm(toy.X, axis=0))"
   ]
  },
  {
   "cell_type": "code",
   "execution_count": 60,
   "metadata": {},
   "outputs": [],
   "source": [
    "toy.X /= np.linalg.norm(toy.X, axis=0)"
   ]
  },
  {
   "cell_type": "code",
   "execution_count": 61,
   "metadata": {},
   "outputs": [
    {
     "name": "stdout",
     "output_type": "stream",
     "text": [
      "variate lengths [1. 1.]\n"
     ]
    }
   ],
   "source": [
    "print('variate lengths', np.sqrt(np.sum(toy.X * toy.X, 0)))"
   ]
  },
  {
   "cell_type": "code",
   "execution_count": 62,
   "metadata": {},
   "outputs": [
    {
     "name": "stdout",
     "output_type": "stream",
     "text": [
      "toy.X [[-0.74247087  0.91349264]\n",
      " [ 0.66987835  0.40685525]]\n"
     ]
    }
   ],
   "source": [
    "print('toy.X', toy.X)"
   ]
  },
  {
   "cell_type": "code",
   "execution_count": 63,
   "metadata": {},
   "outputs": [
    {
     "name": "stdout",
     "output_type": "stream",
     "text": [
      "cos_theta [-0.74247087  0.91349264]\n",
      "angle [137.94232364  24.00743904]\n"
     ]
    }
   ],
   "source": [
    "toy.residual = toy.y\n",
    "toy.cos_theta = toy.X.T.dot(toy.residual)\n",
    "toy.angle = np.arccos(toy.cos_theta)  #  * 180 / 3.1416\n",
    "toy.angle = np.degrees(toy.angle)\n",
    "print('cos_theta', toy.cos_theta)\n",
    "print('angle', toy.angle)"
   ]
  },
  {
   "cell_type": "code",
   "execution_count": 64,
   "metadata": {},
   "outputs": [
    {
     "data": {
      "image/png": "[encoded data removed]",
      "text/plain": [
       "<Figure size 432x288 with 1 Axes>"
      ]
     },
     "metadata": {
      "needs_background": "light"
     },
     "output_type": "display_data"
    }
   ],
   "source": [
    "plt.ylim(-1.1, 1.1)\n",
    "plt.xlim(-1.1, 1.1)\n",
    "plt.xlabel('example 0')\n",
    "plt.ylabel('example 1')\n",
    "plt.scatter(toy.X[0], toy.X[1])\n",
    "plt.scatter(toy.y[0], toy.y[1], color='red')\n",
    "plt.show()"
   ]
  },
  {
   "cell_type": "code",
   "execution_count": 70,
   "metadata": {},
   "outputs": [
    {
     "name": "stdout",
     "output_type": "stream",
     "text": [
      "angle [137.94232364  24.00743904]\n",
      "angle [ 42.05767636 155.99256096]\n"
     ]
    },
    {
     "data": {
      "image/png": "[encoded data removed]",
      "text/plain": [
       "<Figure size 432x288 with 1 Axes>"
      ]
     },
     "metadata": {
      "needs_background": "light"
     },
     "output_type": "display_data"
    }
   ],
   "source": [
    "plt.ylim(-1.1, 1.1)\n",
    "plt.xlim(-1.1, 1.1)\n",
    "plt.xlabel('example 0')\n",
    "plt.ylabel('example 1')\n",
    "plt.scatter(toy.X[0], toy.X[1], color='blue')\n",
    "plt.scatter(toy.y[0], toy.y[1], color='red')\n",
    "plt.scatter(-toy.X[0], -toy.X[1], color='green')\n",
    "print('angle', toy.angle)\n",
    "print('angle', 180 - toy.angle)"
   ]
  },
  {
   "cell_type": "code",
   "execution_count": 71,
   "metadata": {},
   "outputs": [
    {
     "data": {
      "image/png": "[encoded data removed]",
      "text/plain": [
       "<Figure size 432x288 with 1 Axes>"
      ]
     },
     "metadata": {
      "needs_background": "light"
     },
     "output_type": "display_data"
    }
   ],
   "source": [
    "toy.walk0 = toy.X[:, 1]\n",
    "toy.walk1 = toy.X[:, 1] - toy.X[:, 0]\n",
    "# normalize length to 1:\n",
    "toy.walk1 /= np.sqrt(np.sum(toy.walk1 * toy.walk1))\n",
    "\n",
    "plt.ylim(-1.1, 1.1)\n",
    "plt.xlim(-1.1, 1.1)\n",
    "plt.xlabel('example 0')\n",
    "plt.ylabel('example 1')\n",
    "plt.plot((0, toy.walk0[0]), (0, toy.walk0[1]), color='blue')\n",
    "plt.plot((0, - toy.X[0, 0]), (0, -toy.X[1, 0]), color='green')\n",
    "plt.plot((0, toy.walk1[0]), (0, toy.walk1[1]), color='purple')\n",
    "# plt.scatter(-toy.X[0], -toy.X[1], color='green')\n",
    "plt.scatter(toy.y[0], toy.y[1], color='red')\n",
    "plt.show()"
   ]
  },
  {
   "cell_type": "code",
   "execution_count": 72,
   "metadata": {},
   "outputs": [],
   "source": [
    "toy.sa = np.zeros((2, 2), dtype=np.float32)\n",
    "toy.sa[:, 0] = toy.walk0\n",
    "toy.sa[:, 1] = toy.walk1"
   ]
  },
  {
   "cell_type": "code",
   "execution_count": 74,
   "metadata": {},
   "outputs": [
    {
     "name": "stdout",
     "output_type": "stream",
     "text": [
      "[0.28776921 0.74636522]\n"
     ]
    }
   ],
   "source": [
    "toy.sb = toy.y\n",
    "toy.sx = np.linalg.solve(toy.sa, toy.sb)\n",
    "\n",
    "print(toy.sx)"
   ]
  },
  {
   "cell_type": "code",
   "execution_count": 76,
   "metadata": {},
   "outputs": [
    {
     "name": "stdout",
     "output_type": "stream",
     "text": [
      "[1.00000003e+00 1.30687267e-09]\n"
     ]
    }
   ],
   "source": [
    "print(toy.sx[0] * toy.walk0 + toy.sx[1] * toy.walk1)"
   ]
  },
  {
   "cell_type": "code",
   "execution_count": 77,
   "metadata": {},
   "outputs": [
    {
     "data": {
      "image/png": "[encoded data removed]",
      "text/plain": [
       "<Figure size 432x288 with 1 Axes>"
      ]
     },
     "metadata": {
      "needs_background": "light"
     },
     "output_type": "display_data"
    }
   ],
   "source": [
    "plt.ylim(-1.1, 1.1)\n",
    "plt.xlim(-1.1, 1.1)\n",
    "plt.xlabel('example 0')\n",
    "plt.ylabel('example 1')\n",
    "\n",
    "toy.p0 = np.zeros((2,))\n",
    "toy.p1 = toy.p0 + toy.sx[0] * toy.walk0\n",
    "toy.p2 = toy.p1 + toy.sx[1] * toy.walk1\n",
    "\n",
    "plt.plot((toy.p0[0], toy.p1[0]), (toy.p0[1], toy.p1[1]), color='blue')\n",
    "plt.plot((toy.p1[0], toy.p2[0]), (toy.p1[1], toy.p2[1]), color='purple')\n",
    "plt.scatter(toy.y[0], toy.y[1], color='red')\n",
    "plt.show()"
   ]
  },
  {
   "cell_type": "code",
   "execution_count": null,
   "metadata": {},
   "outputs": [],
   "source": []
  }
 ],
 "metadata": {
  "kernelspec": {
   "display_name": "Python [conda env:esl]",
   "language": "python",
   "name": "conda-env-esl-py"
  },
  "language_info": {
   "codemirror_mode": {
    "name": "ipython",
    "version": 3
   },
   "file_extension": ".py",
   "mimetype": "text/x-python",
   "name": "python",
   "nbconvert_exporter": "python",
   "pygments_lexer": "ipython3",
   "version": "3.7.7"
  }
 },
 "nbformat": 4,
 "nbformat_minor": 4
}
