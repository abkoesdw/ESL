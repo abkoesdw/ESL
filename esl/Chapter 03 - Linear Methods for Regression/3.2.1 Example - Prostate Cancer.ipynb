{
 "cells": [
  {
   "cell_type": "code",
   "execution_count": 1,
   "metadata": {},
   "outputs": [],
   "source": [
    "from ml_datasets.esl import ProstateCancer"
   ]
  },
  {
   "cell_type": "code",
   "execution_count": 3,
   "metadata": {},
   "outputs": [],
   "source": [
    "prostate_cancer = ProstateCancer()"
   ]
  },
  {
   "cell_type": "code",
   "execution_count": 4,
   "metadata": {},
   "outputs": [
    {
     "name": "stdout",
     "output_type": "stream",
     "text": [
      "Retrieving ESL-Mixture dataset...\n",
      "C:\\Users\\mzyskk\\AppData\\Local\\Temp\\ESL\\prostate.data available locally, skip downloading\n",
      "C:\\Users\\mzyskk\\AppData\\Local\\Temp\\ESL\\prostate.info.txt available locally, skip downloading\n"
     ]
    }
   ],
   "source": [
    "x_train, y_train, x_test, y_test = prostate_cancer.load()"
   ]
  },
  {
   "cell_type": "code",
   "execution_count": 5,
   "metadata": {},
   "outputs": [
    {
     "name": "stdout",
     "output_type": "stream",
     "text": [
      "x_train: (67, 8), y_train: (67,), x_test: (30, 8), y_test: (30,)\n"
     ]
    }
   ],
   "source": [
    "print(\"x_train: {}, y_train: {}, x_test: {}, y_test: {}\".format(x_train.shape, y_train.shape, x_test.shape, y_test.shape))"
   ]
  },
  {
   "cell_type": "code",
   "execution_count": 6,
   "metadata": {},
   "outputs": [
    {
     "name": "stdout",
     "output_type": "stream",
     "text": [
      "columns: ['lcavol', 'lweight', 'age', 'lbph', 'svi', 'lcp', 'gleason', 'pgg45', 'lpsa', 'train']\n"
     ]
    }
   ],
   "source": [
    "print(\"columns: {}\".format(prostate_cancer.meta))"
   ]
  },
  {
   "cell_type": "code",
   "execution_count": 7,
   "metadata": {},
   "outputs": [
    {
     "name": "stdout",
     "output_type": "stream",
     "text": [
      "Prostate data info\n",
      "\n",
      "Predictors (columns 1--8)\n",
      "\n",
      "lcavol\n",
      "lweight\n",
      "age\n",
      "lbph\n",
      "svi\n",
      "lcp\n",
      "gleason\n",
      "pgg45\n",
      "\n",
      "outcome (column 9)\n",
      "\n",
      "lpsa\n",
      "\n",
      "train/test indicator (column 10)\n",
      "\n",
      "This last column indicates which 67 observations were used as the \n",
      "\"training set\" and which 30 as the test set, as described on page 48\n",
      "in the book.\n",
      "\n",
      "There was an error in these data in the first edition of this\n",
      "book. Subject 32 had a value of 6.1 for lweight, which translates to a\n",
      "449 gm prostate! The correct value is 44.9 gm. We are grateful to\n",
      "Prof. Stephen W. Link for alerting us to this error.\n",
      "\n",
      "The features must first be scaled to have mean zero and  variance 96 (=n)\n",
      "before the analyses in Tables 3.1 and beyond.  That is, if x is the  96 by 8 matrix\n",
      "of features, we compute xp <- scale(x,TRUE,TRUE)\n",
      "\n",
      "\n"
     ]
    }
   ],
   "source": [
    "print(prostate_cancer.info)"
   ]
  },
  {
   "cell_type": "code",
   "execution_count": null,
   "metadata": {},
   "outputs": [],
   "source": []
  }
 ],
 "metadata": {
  "kernelspec": {
   "display_name": "Python [conda env:esl]",
   "language": "python",
   "name": "conda-env-esl-py"
  },
  "language_info": {
   "codemirror_mode": {
    "name": "ipython",
    "version": 3
   },
   "file_extension": ".py",
   "mimetype": "text/x-python",
   "name": "python",
   "nbconvert_exporter": "python",
   "pygments_lexer": "ipython3",
   "version": "3.7.7"
  }
 },
 "nbformat": 4,
 "nbformat_minor": 4
}
