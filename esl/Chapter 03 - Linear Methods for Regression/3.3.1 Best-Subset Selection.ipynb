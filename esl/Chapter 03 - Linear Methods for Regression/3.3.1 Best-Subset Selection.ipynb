{
 "cells": [
  {
   "cell_type": "code",
   "execution_count": 2,
   "metadata": {},
   "outputs": [],
   "source": [
    "import numpy as np\n",
    "import matplotlib.pyplot as plt\n",
    "import sys\n",
    "from tqdm import tqdm\n",
    "from itertools import combinations\n",
    "from ml_datasets.esl import ProstateCancer"
   ]
  },
  {
   "cell_type": "code",
   "execution_count": 3,
   "metadata": {},
   "outputs": [],
   "source": [
    "prostate_cancer = ProstateCancer(verbose=0)"
   ]
  },
  {
   "cell_type": "code",
   "execution_count": 4,
   "metadata": {},
   "outputs": [],
   "source": [
    "df = prostate_cancer.load()"
   ]
  },
  {
   "cell_type": "code",
   "execution_count": 5,
   "metadata": {},
   "outputs": [],
   "source": [
    "train_test = prostate_cancer.train_test\n",
    "df_x = df[prostate_cancer.meta[:-1]]\n",
    "df_y = df[prostate_cancer.meta[-1]]"
   ]
  },
  {
   "cell_type": "code",
   "execution_count": 6,
   "metadata": {},
   "outputs": [],
   "source": [
    "def scale(x):\n",
    "    mean = x.values.mean(axis=0, keepdims=True)\n",
    "    stdev = x.values.std(axis=0, keepdims=True, ddof=0)\n",
    "    return np.divide(np.subtract(x, mean), stdev)"
   ]
  },
  {
   "cell_type": "markdown",
   "metadata": {},
   "source": [
    "##### Scaling"
   ]
  },
  {
   "cell_type": "code",
   "execution_count": 7,
   "metadata": {},
   "outputs": [],
   "source": [
    "df_x = df_x.apply(lambda x: scale(x))"
   ]
  },
  {
   "cell_type": "code",
   "execution_count": 8,
   "metadata": {},
   "outputs": [],
   "source": [
    "x_train = df_x[train_test=='T'].values\n",
    "y_train =  df_y[train_test=='T'].values\n",
    "\n",
    "x_test = df_x[train_test=='F'].values\n",
    "y_test =  df_y[train_test=='F'].values"
   ]
  },
  {
   "cell_type": "code",
   "execution_count": 14,
   "metadata": {},
   "outputs": [],
   "source": [
    "class LeastSquaresRegression:\n",
    "    def __init__(self, *args, **kwargs):\n",
    "        self.intercept = kwargs.get('intercept', True)\n",
    "    \n",
    "    def fit(self, x, y):\n",
    "        self.y = y\n",
    "        \n",
    "        x = self._check_intercept(x)\n",
    "\n",
    "        # check if dot(x.T, x) is invertible\n",
    "        if self._check_condition(x) == 1:\n",
    "            xtx = x.T @ x\n",
    "            xtx_inv = np.linalg.inv(xtx)\n",
    "            self.beta_hat = xtx_inv @ x.T @ self.y\n",
    "    \n",
    "    def _check_intercept(self, x):\n",
    "        if self.intercept:\n",
    "            if not np.isnan(x).any():\n",
    "                # append intercept in the input x, so x = [1, x1, x2, ...]\n",
    "                x = np.concatenate((np.ones_like(x[:, 0].reshape(-1, 1)), x), axis=1)\n",
    "            else:\n",
    "                # if x is nan, it means the input is just the intercept\n",
    "                x = np.ones_like(x.reshape(-1, 1))\n",
    "        return x\n",
    "    \n",
    "    def _check_condition(self, x):\n",
    "        xtx = x.T @ x\n",
    "        \n",
    "        if np.linalg.cond(xtx) < 1/sys.float_info.epsilon:\n",
    "            xtx_inv = np.linalg.inv(xtx)\n",
    "            return 1\n",
    "        \n",
    "        else:\n",
    "            print(\"dot(x.T, x) is ill-conditioned\")\n",
    "            sys.exit()\n",
    "        \n",
    "    def calculate_z(self, x, y):\n",
    "        # use (1 / (x.shape[0] - x.shape[1])) instead of (1 / (x.shape[0] - x.shape[1] - 1))\n",
    "        # since it already includes the intercept\n",
    "        x = self._check_intercept(x)\n",
    "        \n",
    "        if self._check_condition(x) == 1:\n",
    "            xtx = x.T @ x\n",
    "            xtx_inv = np.linalg.inv(xtx)\n",
    "        \n",
    "        self.variance_hat = (1 / (x.shape[0] - x.shape[1])) * np.sum((y - x @ self.beta_hat) ** 2)\n",
    "        self.beta_hat_var = np.sqrt(np.diag(xtx_inv) * self.variance_hat)\n",
    "        self.z = self.beta_hat / self.beta_hat_var\n",
    "        \n",
    "    def predict(self, x):\n",
    "        x = self._check_intercept(x)\n",
    "        return x @ self.beta_hat\n",
    "    \n",
    "    def calculate_f(self, x, y, x0):\n",
    "        x = self._check_intercept(x)\n",
    "        rss1 = self.RSS(x, y)\n",
    "        rss1 = np.sum((y - x @ self.beta_hat) ** 2)\n",
    "        \n",
    "        x0 = self._check_intercept(x0)\n",
    "        if self._check_condition(x) == 1:\n",
    "            xtx0 = x0.T @ x0\n",
    "            xtx0_inv = np.linalg.inv(xtx0)\n",
    "            beta_hat_0 = xtx0_inv @ x0.T @ self.y\n",
    "        \n",
    "        rss0 = self.RSS(x, y, beta_hat=beta_hat_0)\n",
    "\n",
    "        self.F = ((rss0 - rss1) / (x.shape[1] - x0.shape[1])) / (rss1/ (len(y) - x.shape[1]))\n",
    "        self.dfn = (x.shape[1] - x0.shape[1])\n",
    "        self.dfd = (x.shape[0] - x.shape[1])\n",
    "        self.p_value = 1 - scipy.stats.f.cdf(self.F, dfn=self.dfn, dfd=self.dfd)\n",
    "        \n",
    "    def RSS(self, x, y, beta_hat=None):\n",
    "        \n",
    "        if beta_hat is None:\n",
    "            beta_hat = self.beta_hat\n",
    "            \n",
    "        x = self._check_intercept(x)\n",
    "        y_hat = x @ beta_hat\n",
    "        return (y - y_hat).T @ (y - y_hat)"
   ]
  },
  {
   "cell_type": "code",
   "execution_count": 16,
   "metadata": {},
   "outputs": [
    {
     "name": "stderr",
     "output_type": "stream",
     "text": [
      "training on subsets: 100%|███████████████████████████████████████████████████████████████| 8/8 [00:00<00:00,  9.51it/s]\n"
     ]
    },
    {
     "data": {
      "image/png": "[encoded data removed]",
      "text/plain": [
       "<Figure size 720x504 with 1 Axes>"
      ]
     },
     "metadata": {
      "needs_background": "light"
     },
     "output_type": "display_data"
    }
   ],
   "source": [
    "subsets = np.arange(1, x_train.shape[1] + 1)\n",
    "x_train_temp = np.array(np.nan * x_train[:, 1])\n",
    "\n",
    "lsreg = LeastSquaresRegression()\n",
    "lsreg.fit(x_train_temp, y_train)\n",
    "\n",
    "x_test_temp = np.array(np.nan * x_test[:, 1])\n",
    "y_hat_temp = lsreg.predict(x_train_temp)\n",
    "\n",
    "best_subset = dict()\n",
    "best_subset[0] = lsreg.RSS(x_train_temp, y_train)\n",
    "\n",
    "plt.figure(figsize=(10, 7))\n",
    "plt.title('All possible subset models for the prostate cancer example', fontsize=18)\n",
    "for i, subset in enumerate(tqdm(subsets, total=len(subsets), desc=\"training on subsets\")):\n",
    "    subset = list(combinations(subsets, subset))\n",
    "    best_RSS = 100\n",
    "    \n",
    "    for idxs in subset:\n",
    "        x_train_temp = x_train[:, np.array(idxs) - 1]\n",
    "        lsreg = LeastSquaresRegression()\n",
    "        lsreg.fit(x_train_temp, y_train)\n",
    "        RSS_temp = lsreg.RSS(x_train_temp, y_train)\n",
    "        \n",
    "        if RSS_temp < best_RSS:\n",
    "            best_subset[i + 1] = RSS_temp\n",
    "            best_RSS = RSS_temp\n",
    "        plt.plot(len(np.array(idxs)), RSS_temp, 'o', color='grey', markersize=5)\n",
    "\n",
    "best_subset_k = list(best_subset.keys())\n",
    "best_subset_RSS = list(best_subset.values())\n",
    "\n",
    "plt.plot(best_subset_k, best_subset_RSS, 'r:o', markersize=8, mfc='red')\n",
    "plt.ylim([-2, 103])\n",
    "plt.xlabel('Subset Size k', fontsize=16)\n",
    "plt.ylabel('Residual Sum-of-Squares', rotation=90, fontsize=16)\n",
    "plt.show()"
   ]
  },
  {
   "cell_type": "code",
   "execution_count": null,
   "metadata": {},
   "outputs": [],
   "source": []
  },
  {
   "cell_type": "code",
   "execution_count": null,
   "metadata": {},
   "outputs": [],
   "source": []
  }
 ],
 "metadata": {
  "kernelspec": {
   "display_name": "Python [conda env:esl]",
   "language": "python",
   "name": "conda-env-esl-py"
  },
  "language_info": {
   "codemirror_mode": {
    "name": "ipython",
    "version": 3
   },
   "file_extension": ".py",
   "mimetype": "text/x-python",
   "name": "python",
   "nbconvert_exporter": "python",
   "pygments_lexer": "ipython3",
   "version": "3.7.7"
  }
 },
 "nbformat": 4,
 "nbformat_minor": 4
}
