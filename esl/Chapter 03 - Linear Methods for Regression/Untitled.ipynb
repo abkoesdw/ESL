{
 "cells": [
  {
   "cell_type": "code",
   "execution_count": 1,
   "metadata": {},
   "outputs": [],
   "source": [
    "import itertools\n",
    "import time\n",
    "import numpy as np\n",
    "import pandas as pd\n",
    "# import seaborn as sns\n",
    "# import statsmodels.api as sm\n",
    "import matplotlib.pyplot as plt\n",
    "from sklearn import linear_model\n",
    "from tqdm import tnrange, tqdm_notebook\n",
    "from sklearn.metrics import mean_squared_error"
   ]
  },
  {
   "cell_type": "code",
   "execution_count": 2,
   "metadata": {},
   "outputs": [],
   "source": [
    "class DataGenerator:\n",
    "    def __init__(self, *args, **kwargs):\n",
    "        # data params\n",
    "        self.ndim = kwargs.get('ndim', 30)\n",
    "        self.ndata = kwargs.get('ndata', 300)\n",
    "        \n",
    "        # x params\n",
    "        self.mu_x = kwargs.get('mu_x', np.zeros(self.ndim))\n",
    "        cov = 0.85 * np.ones((self.ndim, self.ndim))\n",
    "        np.fill_diagonal(cov, 1)\n",
    "        self.cov_x = kwargs.get('cov_x', cov)\n",
    "        \n",
    "        # beta params\n",
    "        self.num_choice = kwargs.get('num_choice', 10)\n",
    "        self.mu_b = kwargs.get('mu_b', 0.0)\n",
    "        self.var_b = kwargs.get('var_b', 0.4)\n",
    "        \n",
    "        # noise params\n",
    "        self.mu_n = kwargs.get('mu_n', 0)\n",
    "        self.var_n = kwargs.get('var_n', 6.25)\n",
    "    \n",
    "    def get_x(self):\n",
    "        x = np.random.multivariate_normal(self.mu_x, self.cov_x, self.ndata)\n",
    "#         x = np.concatenate((np.ones_like(x[:, 0].reshape(-1, 1)), x), axis=1)\n",
    "        return x\n",
    "    \n",
    "    def get_beta(self):\n",
    "        beta = np.zeros(self.ndim)\n",
    "        beta_index = np.arange(self.ndim)\n",
    "#         self.choice_index = np.random.choice(beta_index, self.num_choice)\n",
    "        self.choice_index = np.arange(10)\n",
    "        for idx in self.choice_index:\n",
    "            beta[idx] = np.random.normal(self.mu_b, np.sqrt(self.var_b), 1)\n",
    "        \n",
    "        return beta\n",
    "\n",
    "    def get_noise(self):\n",
    "        return np.random.normal(self.mu_n, np.sqrt(self.var_n), self.ndata)\n",
    "    \n",
    "    def get_y(self, x, beta):\n",
    "        noise = self.get_noise()\n",
    "        y = x @ beta + noise\n",
    "        self._get_noise_var(y, noise)\n",
    "        \n",
    "        return y\n",
    "    \n",
    "    def _get_noise_var(self, y, noise):\n",
    "        self.sn = np.var(y) / np.var(noise)\n",
    "    \n",
    "    def generate(self):\n",
    "        x = self.get_x()\n",
    "        beta = self.get_beta()\n",
    "        y = self.get_y(x, beta)\n",
    "        return x, y, beta"
   ]
  },
  {
   "cell_type": "code",
   "execution_count": 47,
   "metadata": {},
   "outputs": [],
   "source": [
    "def fit_linear_reg(X,Y):\n",
    "    #Fit linear regression model and return RSS and R squared values\n",
    "    model_k = linear_model.LinearRegression(fit_intercept = True)\n",
    "    model_k.fit(X,Y)\n",
    "#     RSS = mean_squared_error(Y,model_k.predict(X)) * len(Y)\n",
    "    RSS = (Y - model_k.predict(X)).T @ (Y - model_k.predict(X))\n",
    "    R_squared = model_k.score(X,Y)\n",
    "    return RSS, R_squared, model_k.coef_, model_k.intercept_"
   ]
  },
  {
   "cell_type": "code",
   "execution_count": 48,
   "metadata": {},
   "outputs": [],
   "source": [
    "datagen = DataGenerator()\n",
    "x, y, beta = datagen.generate()"
   ]
  },
  {
   "cell_type": "code",
   "execution_count": 54,
   "metadata": {},
   "outputs": [],
   "source": [
    "subsets = np.arange(0, x.shape[1])\n",
    "\n",
    "RSS_list, R_squared_list, feature_list, num_features, beta, beta_0 = [], [], [], [], [], []\n",
    "for subset in subsets:\n",
    "    for combo in itertools.combinations(subsets, subset + 1):\n",
    "        RSS, R_squared, beta_temp, beta_0_temp = fit_linear_reg(x[:, list(combo)], y)\n",
    "        RSS_list.append(RSS)                  #Append lists\n",
    "        R_squared_list.append(R_squared)\n",
    "        feature_list.append(combo)\n",
    "        num_features.append(len(combo)) \n",
    "        beta.append(beta_temp)\n",
    "        beta_0.append(beta_0_temp)\n",
    "    break\n",
    "\n",
    "df = pd.DataFrame(\n",
    "    {\n",
    "        'num_features': num_features,\n",
    "        'RSS': RSS_list, \n",
    "        'R_squared':R_squared_list,\n",
    "        'features':feature_list, \n",
    "        'beta': beta, \n",
    "        'beta_0': beta_0\n",
    "    }\n",
    ")"
   ]
  },
  {
   "cell_type": "code",
   "execution_count": 59,
   "metadata": {},
   "outputs": [
    {
     "data": {
      "text/html": [
       "<div>\n",
       "<style scoped>\n",
       "    .dataframe tbody tr th:only-of-type {\n",
       "        vertical-align: middle;\n",
       "    }\n",
       "\n",
       "    .dataframe tbody tr th {\n",
       "        vertical-align: top;\n",
       "    }\n",
       "\n",
       "    .dataframe thead th {\n",
       "        text-align: right;\n",
       "    }\n",
       "</style>\n",
       "<table border=\"1\" class=\"dataframe\">\n",
       "  <thead>\n",
       "    <tr style=\"text-align: right;\">\n",
       "      <th></th>\n",
       "      <th>num_features</th>\n",
       "      <th>RSS</th>\n",
       "      <th>R_squared</th>\n",
       "      <th>features</th>\n",
       "      <th>beta</th>\n",
       "      <th>beta_0</th>\n",
       "      <th>min_RSS</th>\n",
       "      <th>max_R_squared</th>\n",
       "    </tr>\n",
       "  </thead>\n",
       "  <tbody>\n",
       "    <tr>\n",
       "      <th>0</th>\n",
       "      <td>1</td>\n",
       "      <td>2039.620212</td>\n",
       "      <td>0.065016</td>\n",
       "      <td>(0,)</td>\n",
       "      <td>[-0.6668262419830246]</td>\n",
       "      <td>-0.342709</td>\n",
       "      <td>2039.620212</td>\n",
       "      <td>0.065016</td>\n",
       "    </tr>\n",
       "  </tbody>\n",
       "</table>\n",
       "</div>"
      ],
      "text/plain": [
       "   num_features          RSS  R_squared features                   beta  \\\n",
       "0             1  2039.620212   0.065016     (0,)  [-0.6668262419830246]   \n",
       "\n",
       "     beta_0      min_RSS  max_R_squared  \n",
       "0 -0.342709  2039.620212       0.065016  "
      ]
     },
     "metadata": {},
     "output_type": "display_data"
    },
    {
     "data": {
      "text/html": [
       "<div>\n",
       "<style scoped>\n",
       "    .dataframe tbody tr th:only-of-type {\n",
       "        vertical-align: middle;\n",
       "    }\n",
       "\n",
       "    .dataframe tbody tr th {\n",
       "        vertical-align: top;\n",
       "    }\n",
       "\n",
       "    .dataframe thead th {\n",
       "        text-align: right;\n",
       "    }\n",
       "</style>\n",
       "<table border=\"1\" class=\"dataframe\">\n",
       "  <thead>\n",
       "    <tr style=\"text-align: right;\">\n",
       "      <th></th>\n",
       "      <th>num_features</th>\n",
       "      <th>RSS</th>\n",
       "      <th>R_squared</th>\n",
       "      <th>features</th>\n",
       "      <th>beta</th>\n",
       "      <th>beta_0</th>\n",
       "      <th>min_RSS</th>\n",
       "      <th>max_R_squared</th>\n",
       "    </tr>\n",
       "  </thead>\n",
       "  <tbody>\n",
       "    <tr>\n",
       "      <th>0</th>\n",
       "      <td>1</td>\n",
       "      <td>2039.620212</td>\n",
       "      <td>0.065016</td>\n",
       "      <td>(0,)</td>\n",
       "      <td>[-0.6668262419830246]</td>\n",
       "      <td>-0.342709</td>\n",
       "      <td>2039.620212</td>\n",
       "      <td>0.065016</td>\n",
       "    </tr>\n",
       "  </tbody>\n",
       "</table>\n",
       "</div>"
      ],
      "text/plain": [
       "   num_features          RSS  R_squared features                   beta  \\\n",
       "0             1  2039.620212   0.065016     (0,)  [-0.6668262419830246]   \n",
       "\n",
       "     beta_0      min_RSS  max_R_squared  \n",
       "0 -0.342709  2039.620212       0.065016  "
      ]
     },
     "metadata": {},
     "output_type": "display_data"
    }
   ],
   "source": [
    "df_min = df[df.groupby('num_features')['RSS'].transform(min) == df['RSS']]\n",
    "df_max = df[df.groupby('num_features')['R_squared'].transform(max) == df['R_squared']]\n",
    "display(df_min.head(3))\n",
    "display(df_max.head(3))"
   ]
  },
  {
   "cell_type": "code",
   "execution_count": 70,
   "metadata": {},
   "outputs": [
    {
     "name": "stdout",
     "output_type": "stream",
     "text": [
      "[array([-0.66682624]), array([-0.59733567]), array([-0.43236819]), array([-0.57642549]), array([-0.63051507]), array([-0.57164518]), array([-0.56601625]), array([-0.43457078]), array([-0.60556051]), array([-0.65848095]), array([-0.52802694]), array([-0.52294494]), array([-0.4386918]), array([-0.48039476]), array([-0.55356634]), array([-0.53788763]), array([-0.4452014]), array([-0.58395381]), array([-0.53768508]), array([-0.47324494]), array([-0.56869105]), array([-0.41033136]), array([-0.63046179]), array([-0.54418713]), array([-0.49321074]), array([-0.53717883]), array([-0.55590661]), array([-0.45788232]), array([-0.46246525]), array([-0.47307157])]\n",
      "0    [-0.6668262419830246]\n",
      "Name: beta, dtype: object\n"
     ]
    },
    {
     "data": {
      "text/plain": [
       "0.0"
      ]
     },
     "execution_count": 70,
     "metadata": {},
     "output_type": "execute_result"
    }
   ],
   "source": [
    "# df['min_RSS'] = df.groupby('num_features')['RSS'].transform(min)\n",
    "# df['max_R_squared'] = df.groupby('num_features')['R_squared'].transform(max)\n",
    "# df\n",
    "print(beta)\n",
    "print(df_min['beta'])\n",
    "mean_squared_error(beta[0] ,df_min['beta'])"
   ]
  },
  {
   "cell_type": "code",
   "execution_count": 61,
   "metadata": {},
   "outputs": [
    {
     "data": {
      "image/png": "[encoded data removed]",
      "text/plain": [
       "<Figure size 1152x432 with 2 Axes>"
      ]
     },
     "metadata": {
      "needs_background": "light"
     },
     "output_type": "display_data"
    }
   ],
   "source": [
    "fig = plt.figure(figsize = (16,6))\n",
    "ax = fig.add_subplot(1, 2, 1)\n",
    "\n",
    "ax.scatter(df.num_features,df.RSS, alpha = .2, color = 'darkblue' )\n",
    "ax.set_xlabel('# Features')\n",
    "ax.set_ylabel('RSS')\n",
    "ax.set_title('RSS - Best subset selection')\n",
    "ax.plot(df.num_features,df.min_RSS,color = 'r', label = 'Best subset')\n",
    "ax.legend()\n",
    "\n",
    "ax = fig.add_subplot(1, 2, 2)\n",
    "ax.scatter(df.num_features,df.R_squared, alpha = .2, color = 'darkblue' )\n",
    "ax.plot(df.num_features,df.max_R_squared,color = 'r', label = 'Best subset')\n",
    "ax.set_xlabel('# Features')\n",
    "ax.set_ylabel('R squared')\n",
    "ax.set_title('R_squared - Best subset selection')\n",
    "ax.legend()\n",
    "\n",
    "plt.show()"
   ]
  },
  {
   "cell_type": "code",
   "execution_count": null,
   "metadata": {},
   "outputs": [],
   "source": []
  }
 ],
 "metadata": {
  "kernelspec": {
   "display_name": "Python [conda env:esl]",
   "language": "python",
   "name": "conda-env-esl-py"
  },
  "language_info": {
   "codemirror_mode": {
    "name": "ipython",
    "version": 3
   },
   "file_extension": ".py",
   "mimetype": "text/x-python",
   "name": "python",
   "nbconvert_exporter": "python",
   "pygments_lexer": "ipython3",
   "version": "3.7.7"
  }
 },
 "nbformat": 4,
 "nbformat_minor": 4
}
